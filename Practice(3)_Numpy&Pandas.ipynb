{
 "cells": [
  {
   "cell_type": "markdown",
   "metadata": {},
   "source": [
    "# Numpy"
   ]
  },
  {
   "cell_type": "code",
   "execution_count": 148,
   "metadata": {},
   "outputs": [
    {
     "data": {
      "text/plain": [
       "'\\nref:\\n1. http://cs231n.github.io/python-numpy-tutorial/#python-classes\\n2. https://www.datacamp.com/community/tutorials/python-numpy-tutorial#array\\n'"
      ]
     },
     "execution_count": 148,
     "metadata": {},
     "output_type": "execute_result"
    }
   ],
   "source": [
    "import numpy as np \n",
    "np.__version__\n",
    "\n",
    "\"\"\"\n",
    "ref:\n",
    "1. http://cs231n.github.io/python-numpy-tutorial/#python-classes\n",
    "2. https://www.datacamp.com/community/tutorials/python-numpy-tutorial#array\n",
    "\"\"\""
   ]
  },
  {
   "cell_type": "code",
   "execution_count": 3,
   "metadata": {},
   "outputs": [
    {
     "name": "stdout",
     "output_type": "stream",
     "text": [
      "<class 'numpy.ndarray'>\n",
      "1\n",
      "<memory at 0x000002D8D56A97C8>\n",
      "(3,)\n",
      "------- 1D ---------\n",
      "1 2 3\n",
      "[5 2 3]\n",
      "------ 2D ----------\n",
      "(2, 3)\n",
      "1 2 4\n",
      "------ 3D ----------\n",
      "[[[ 1  2  3  4]\n",
      "  [ 5  6  7  8]]\n",
      "\n",
      " [[ 1  2  3  4]\n",
      "  [ 9 10 11 12]]]\n",
      "(2, 2, 4)\n",
      "3\n"
     ]
    }
   ],
   "source": [
    "a = np.array([1, 2, 3])   # Create a rank 1 array\n",
    "print(type(a))   \n",
    "print(a.ndim)\n",
    "print(a.data)             # Print out memory address\n",
    "print(a.shape)            # Prints \"(3,)\" 可看出多少維度\n",
    "print(\"------- 1D ---------\")\n",
    "print(a[0], a[1], a[2])   # Prints \"1 2 3\"\n",
    "a[0] = 5                  # Change an element of the array\n",
    "print(a)                  # Prints \"[5, 2, 3]\"\n",
    "print(\"------ 2D ----------\")\n",
    "b = np.array([[1,2,3],[4,5,6]])    # Create a rank 2 array\n",
    "print(b.shape)                     # Prints \"(2, 3)\"\n",
    "print(b[0, 0], b[0, 1], b[1, 0])   \n",
    "print(\"------ 3D ----------\")\n",
    "c = np.array([[[ 1 , 2 , 3 , 4] ,[ 5 , 6 , 7 , 8]],[[ 1,  2,  3 , 4],[ 9 ,10 ,11 ,12]]])\n",
    "print(c)\n",
    "print(c.shape) \n",
    "print(c[0,0,2]) \n"
   ]
  },
  {
   "cell_type": "code",
   "execution_count": 5,
   "metadata": {},
   "outputs": [
    {
     "name": "stdout",
     "output_type": "stream",
     "text": [
      "[[0. 0.]\n",
      " [0. 0.]]\n",
      "--------------------\n",
      "[[1. 1.]]\n",
      "--------------------\n",
      "[[1. 0. 0.]\n",
      " [0. 1. 0.]\n",
      " [0. 0. 1.]]\n"
     ]
    }
   ],
   "source": [
    "a = np.zeros((2,2))   # Create an array of all zeros\n",
    "print(a) \n",
    "print('--------------------')\n",
    "b = np.ones((1,2))    # Create an array of all ones\n",
    "print(b)  \n",
    "print('--------------------')\n",
    "d = np.eye(3)         # Create a 2x2 identity matrix\n",
    "print(d)  "
   ]
  },
  {
   "cell_type": "markdown",
   "metadata": {},
   "source": [
    "## Slicing"
   ]
  },
  {
   "cell_type": "code",
   "execution_count": 6,
   "metadata": {},
   "outputs": [
    {
     "name": "stdout",
     "output_type": "stream",
     "text": [
      "[[ 1  2  3  4]\n",
      " [ 5  6  7  8]\n",
      " [ 9 10 11 12]]\n",
      "--------------------\n",
      "<memory at 0x000002D8D574D048>\n",
      "--------------------\n",
      "(3, 4)\n",
      "--------------------\n",
      "2\n"
     ]
    }
   ],
   "source": [
    "a = np.array([[1,2,3,4], [5,6,7,8], [9,10,11,12]])\n",
    "print(a)\n",
    "print('--------------------')\n",
    "print(a.data)\n",
    "print('--------------------')\n",
    "print(a.shape)\n",
    "print('--------------------')\n",
    "print(a.ndim)"
   ]
  },
  {
   "cell_type": "code",
   "execution_count": 7,
   "metadata": {},
   "outputs": [
    {
     "name": "stdout",
     "output_type": "stream",
     "text": [
      "[[2 3]\n",
      " [6 7]]\n",
      "--------------------\n",
      "<memory at 0x000002D8D5758048>\n",
      "--------------------\n",
      "2\n",
      "--------------------\n",
      "[[77  3]\n",
      " [ 6  7]]\n",
      "--------------------\n",
      "77\n"
     ]
    }
   ],
   "source": [
    "b = a[:2, 1:3]\n",
    "print(b)\n",
    "print('--------------------')\n",
    "print(b.data)\n",
    "print('--------------------')\n",
    "print(a[0, 1]) \n",
    "print('--------------------')\n",
    "b[0, 0] = 77\n",
    "print(b)\n",
    "print('--------------------')\n",
    "print(a[0, 1]) "
   ]
  },
  {
   "cell_type": "code",
   "execution_count": 9,
   "metadata": {},
   "outputs": [
    {
     "name": "stdout",
     "output_type": "stream",
     "text": [
      "[[ 1  2  3]\n",
      " [ 4  5  6]\n",
      " [ 7  8  9]\n",
      " [10 11 12]]\n",
      "------------------------\n",
      "[1 0 1]\n",
      "------------------------\n",
      "[[ 1  2  3]\n",
      " [ 4  5  6]\n",
      " [ 7  8  9]\n",
      " [10 11 12]]\n",
      "------------------------\n",
      "0th row\n",
      "1th row\n",
      "2th row\n",
      "3th row\n",
      "[[ 2  2  4]\n",
      " [ 5  5  7]\n",
      " [ 8  8 10]\n",
      " [11 11 13]]\n"
     ]
    }
   ],
   "source": [
    "x = np.array([[1,2,3], [4,5,6], [7,8,9], [10, 11, 12]])\n",
    "v = np.array([1, 0, 1])\n",
    "y = np.empty_like(x) \n",
    "print(x)\n",
    "print('------------------------')\n",
    "print(v)\n",
    "print('------------------------')\n",
    "print(y)\n",
    "print('------------------------')\n",
    "for i in range(4):\n",
    "    print(str(i)+'th row')\n",
    "    y[i, :] = x[i, :] + v\n",
    "print(y)"
   ]
  },
  {
   "cell_type": "code",
   "execution_count": null,
   "metadata": {},
   "outputs": [],
   "source": [
    "x = np.array([[1,2,3], [4,5,6], [7,8,9], [10, 11, 12]])\n",
    "v = np.array([1, 0, 1])\n",
    "#vv = np.tile(v, (4, 1))   # Stack 4 copies of v on top of each other\n",
    "print(v )          "
   ]
  },
  {
   "cell_type": "code",
   "execution_count": null,
   "metadata": {},
   "outputs": [],
   "source": []
  },
  {
   "cell_type": "markdown",
   "metadata": {},
   "source": [
    "# Pandas "
   ]
  },
  {
   "cell_type": "markdown",
   "metadata": {},
   "source": [
    "### 資料前處理以及 DataFrame 所用"
   ]
  },
  {
   "cell_type": "raw",
   "metadata": {},
   "source": [
    "\n",
    "1.Series：用來處理時間序列相關的資料(如感測器資料等)，主要為建立索引的一維陣列。\n",
    "2.DataFrame：用來處理結構化(Table like)的資料，有列索引與欄標籤的二維資料集，例如關聯式資料庫、CSV 等等。\n",
    "3.Panel：用來處理有資料及索引、列索引與欄標籤的三維資料集。\n"
   ]
  },
  {
   "cell_type": "markdown",
   "metadata": {},
   "source": [
    "#  1.1建立 Series"
   ]
  },
  {
   "cell_type": "markdown",
   "metadata": {},
   "source": [
    "## array"
   ]
  },
  {
   "cell_type": "code",
   "execution_count": 23,
   "metadata": {},
   "outputs": [
    {
     "name": "stdout",
     "output_type": "stream",
     "text": [
      "0       BMW\n",
      "1      BENZ\n",
      "2    Toyota\n",
      "3    Nissan\n",
      "4     Lexus\n",
      "dtype: object\n"
     ]
    }
   ],
   "source": [
    "import pandas as pd # 引用套件並縮寫為 pd\n",
    "cars = [\"BMW\", \"BENZ\", \"Toyota\", \"Nissan\", \"Lexus\"]\n",
    "\n",
    "select = pd.Series(cars)  \n",
    "print(select)  "
   ]
  },
  {
   "cell_type": "markdown",
   "metadata": {},
   "source": [
    "## dict"
   ]
  },
  {
   "cell_type": "code",
   "execution_count": 27,
   "metadata": {},
   "outputs": [
    {
     "name": "stdout",
     "output_type": "stream",
     "text": [
      "Taipei\n",
      "=====\n",
      "1\n",
      "=====\n",
      "factory    Taipei\n",
      "sensor2         2\n",
      "sensor4         4\n",
      "dtype: object\n",
      "=====\n",
      "factory    Taipei\n",
      "sensor1         1\n",
      "sensor3         3\n",
      "dtype: object\n"
     ]
    }
   ],
   "source": [
    "import pandas as pd\n",
    "\n",
    "dict_data = {  \n",
    "    \"factory\": \"Taipei\",\n",
    "    \"sensor1\": \"1\",\n",
    "    \"sensor2\": \"2\",\n",
    "    \"sensor3\": \"3\",\n",
    "    \"sensor4\": \"4\",\n",
    "    \"sensor5\": \"5\"\n",
    "}\n",
    "\n",
    "select = pd.Series(dict_data, index = dict.keys()) # 排序與原 dict 相同  \n",
    "print(select[0])  \n",
    "print(\"=====\")  \n",
    "print(select['sensor1'])  \n",
    "print(\"=====\")  \n",
    "print(select[[0, 2, 4]])  \n",
    "print(\"=====\")  \n",
    "print(select[['factory', 'sensor1', 'sensor3']]) "
   ]
  },
  {
   "cell_type": "markdown",
   "metadata": {},
   "source": [
    "## 資料為單一資料"
   ]
  },
  {
   "cell_type": "code",
   "execution_count": 29,
   "metadata": {},
   "outputs": [
    {
     "name": "stdout",
     "output_type": "stream",
     "text": [
      "0    BENZ\n",
      "1    BENZ\n",
      "2    BENZ\n",
      "3    BENZ\n",
      "4    BENZ\n",
      "dtype: object\n"
     ]
    }
   ],
   "source": [
    "import pandas as pd\n",
    "\n",
    "cars = \"BENZ\"  \n",
    "select = pd.Series(cars, index = range(5))  \n",
    "print(select) "
   ]
  },
  {
   "cell_type": "markdown",
   "metadata": {},
   "source": [
    "# 1.2 Series 的操作"
   ]
  },
  {
   "cell_type": "markdown",
   "metadata": {},
   "source": [
    "## 資料選擇與篩選"
   ]
  },
  {
   "cell_type": "code",
   "execution_count": 34,
   "metadata": {},
   "outputs": [
    {
     "name": "stdout",
     "output_type": "stream",
     "text": [
      "Taipei\n",
      "=====\n",
      "2\n",
      "=====\n",
      "factory    Taipei\n",
      "sensor2       NaN\n",
      "sensor4         4\n",
      "dtype: object\n",
      "=====\n",
      "factory    Taipei\n",
      "sensor1         2\n",
      "sensor3         3\n",
      "dtype: object\n"
     ]
    }
   ],
   "source": [
    "import pandas as pd\n",
    "\n",
    "dict_data = {  \n",
    "    \"factory\": \"Taipei\",\n",
    "    \"sensor1\": \"1\",\n",
    "    \"sensor1\": \"2\",\n",
    "    \"sensor3\": \"3\",\n",
    "    \"sensor4\": \"4\",\n",
    "    \"sensor5\": \"5\"\n",
    "}\n",
    "\n",
    "select = pd.Series(dict_data, index = dict.keys()) # 排序與原 dict 相同  \n",
    "print(select[0])  \n",
    "print(\"=====\")  \n",
    "print(select['sensor1'])  \n",
    "print(\"=====\")  \n",
    "print(select[[0, 2, 4]])  \n",
    "print(\"=====\")  \n",
    "print(select[['factory', 'sensor1', 'sensor3']])  "
   ]
  },
  {
   "cell_type": "markdown",
   "metadata": {},
   "source": [
    "## 資料切片 "
   ]
  },
  {
   "cell_type": "code",
   "execution_count": 35,
   "metadata": {},
   "outputs": [
    {
     "name": "stdout",
     "output_type": "stream",
     "text": [
      "factory    Taipei\n",
      "sensor1         1\n",
      "dtype: object\n",
      "=====\n",
      "sensor2    2\n",
      "sensor3    3\n",
      "sensor4    4\n",
      "sensor5    5\n",
      "dtype: object\n"
     ]
    }
   ],
   "source": [
    "import pandas as pd\n",
    "\n",
    "dict = {  \n",
    "    \"factory\": \"Taipei\",\n",
    "    \"sensor1\": \"1\",\n",
    "    \"sensor2\": \"2\",\n",
    "    \"sensor3\": \"3\",\n",
    "    \"sensor4\": \"4\",\n",
    "    \"sensor5\": \"5\"\n",
    "}\n",
    "\n",
    "select = pd.Series(dict, index = dict.keys()) # 排序與原 dict 相同  \n",
    "print(select[:2])  \n",
    "print(\"=====\")  \n",
    "print(select['sensor2':])  "
   ]
  },
  {
   "cell_type": "markdown",
   "metadata": {},
   "source": [
    "# 2.DataFrame"
   ]
  },
  {
   "cell_type": "raw",
   "metadata": {},
   "source": [
    "利用 Dictionary 或是 Array 來建立，並使用 DataFrame 的方法來操作資料查看、資料篩選、資料切片、資料排序等運算\n",
    "https://oranwind.org/python-pandas-ji-chu-jiao-xue/"
   ]
  },
  {
   "cell_type": "markdown",
   "metadata": {},
   "source": [
    "## dict"
   ]
  },
  {
   "cell_type": "code",
   "execution_count": 37,
   "metadata": {},
   "outputs": [
    {
     "name": "stdout",
     "output_type": "stream",
     "text": [
      "    groups  num\n",
      "0   Movies   46\n",
      "1   Sports    8\n",
      "2   Coding   12\n",
      "3  Fishing   12\n",
      "4  Dancing    6\n",
      "5  cooking   58\n"
     ]
    }
   ],
   "source": [
    "import pandas as pd # 引用套件並縮寫為 pd\n",
    "\n",
    "groups = [\"Movies\", \"Sports\", \"Coding\", \"Fishing\", \"Dancing\", \"cooking\"]  \n",
    "num = [46, 8, 12, 12, 6, 58]\n",
    "\n",
    "dict = {\"groups\": groups,  \n",
    "        \"num\": num\n",
    "       }\n",
    "\n",
    "select_df = pd.DataFrame(dict)\n",
    "\n",
    "print(select_df) # 看看資料框的外觀  "
   ]
  },
  {
   "cell_type": "markdown",
   "metadata": {},
   "source": [
    "## Array"
   ]
  },
  {
   "cell_type": "code",
   "execution_count": 4,
   "metadata": {},
   "outputs": [
    {
     "name": "stdout",
     "output_type": "stream",
     "text": [
      "      name  num\n",
      "0   Movies   46\n",
      "1   Sports    8\n",
      "2   Coding   12\n",
      "3  Fishing   12\n",
      "4  Dancing    6\n",
      "5  cooking    8\n"
     ]
    }
   ],
   "source": [
    "import pandas as pd\n",
    "\n",
    "arr = groups = [[\"Movies\", 46],[\"Sports\", 8], [\"Coding\", 12], [\"Fishing\",12], [\"Dancing\",6], [\"cooking\",8]]\n",
    "\n",
    "df = pd.DataFrame(arr, columns = [\"name\", \"num\"]) # 指定欄標籤名稱  \n",
    "print(df)  "
   ]
  },
  {
   "cell_type": "markdown",
   "metadata": {},
   "source": [
    "# 2.2 DataFrame 的操作"
   ]
  },
  {
   "cell_type": "raw",
   "metadata": {},
   "source": [
    ".shape\n",
    ".describe()\n",
    ".head()\n",
    ".tail()\n",
    ".columns\n",
    ".index\n",
    ".info()"
   ]
  },
  {
   "cell_type": "code",
   "execution_count": 5,
   "metadata": {},
   "outputs": [
    {
     "name": "stdout",
     "output_type": "stream",
     "text": [
      "---shape\n",
      "(6, 2)\n",
      "---describe\n",
      "             num\n",
      "count   6.000000\n",
      "mean   23.666667\n",
      "std    22.393451\n",
      "min     6.000000\n",
      "25%     9.000000\n",
      "50%    12.000000\n",
      "75%    37.500000\n",
      "max    58.000000\n",
      "---head\n",
      "   groups  num\n",
      "0  Movies   46\n",
      "1  Sports    8\n",
      "2  Coding   12\n",
      "---tail\n",
      "    groups  num\n",
      "3  Fishing   12\n",
      "4  Dancing    6\n",
      "5  cooking   58\n",
      "---columns\n",
      "Index(['groups', 'num'], dtype='object')\n",
      "---index\n",
      "RangeIndex(start=0, stop=6, step=1)\n",
      "---info\n",
      "<bound method DataFrame.info of     groups  num\n",
      "0   Movies   46\n",
      "1   Sports    8\n",
      "2   Coding   12\n",
      "3  Fishing   12\n",
      "4  Dancing    6\n",
      "5  cooking   58>\n"
     ]
    }
   ],
   "source": [
    "# Pandas 的 data frame 資料結構有一些方法或屬性\n",
    "\n",
    "import pandas as pd\n",
    "\n",
    "groups = [\"Movies\", \"Sports\", \"Coding\", \"Fishing\", \"Dancing\", \"cooking\"]  \n",
    "num = [46, 8, 12, 12, 6, 58]\n",
    "\n",
    "dict = {\"groups\": groups,  \n",
    "        \"num\": num\n",
    "        }\n",
    "\n",
    "\n",
    "select_df = pd.DataFrame(dict)\n",
    "print(\"---shape\")\n",
    "print(select_df.shape) # 回傳列數與欄數  \n",
    "print(\"---describe\")  \n",
    "print(select_df.describe()) # 回傳描述性統計  \n",
    "print(\"---head\")  \n",
    "print(select_df.head(3)) # 回傳前三筆觀測值  \n",
    "print(\"---tail\")  \n",
    "print(select_df.tail(3)) # 回傳後三筆觀測值  \n",
    "print(\"---columns\")  \n",
    "print(select_df.columns) # 回傳欄位名稱  \n",
    "print(\"---index\")  \n",
    "print(select_df.index) # 回傳 index  \n",
    "print(\"---info\")  \n",
    "print(select_df.info) # 回傳資料內容  "
   ]
  },
  {
   "cell_type": "markdown",
   "metadata": {},
   "source": [
    "##  資料選擇與篩選 "
   ]
  },
  {
   "cell_type": "raw",
   "metadata": {},
   "source": [
    "1.中括號 [] 選擇元素\n",
    "2.將變數當作屬性選擇\n",
    "3.loc .iloc 方法選擇  \n",
    "4.使用布林值篩選"
   ]
  },
  {
   "cell_type": "code",
   "execution_count": 6,
   "metadata": {},
   "outputs": [
    {
     "name": "stdout",
     "output_type": "stream",
     "text": [
      "<bound method DataFrame.info of     groups  num\n",
      "0   Movies   46\n",
      "1   Sports    8\n",
      "2   Coding   12\n",
      "3  Fishing   12\n",
      "4  Dancing    6\n",
      "5  cooking   58>\n",
      "---\n",
      "12\n",
      "---\n",
      "   groups  num\n",
      "0  Movies   46\n",
      "---\n",
      "0    46\n",
      "1     8\n",
      "2    12\n",
      "3    12\n",
      "4     6\n",
      "5    58\n",
      "Name: num, dtype: int64\n",
      "---\n",
      "0    46\n",
      "1     8\n",
      "2    12\n",
      "3    12\n",
      "4     6\n",
      "5    58\n",
      "Name: num, dtype: int64\n",
      "---\n",
      "0    46\n",
      "1     8\n",
      "2    12\n",
      "3    12\n",
      "4     6\n",
      "5    58\n",
      "Name: num, dtype: int64\n"
     ]
    }
   ],
   "source": [
    "import pandas as pd\n",
    "\n",
    "groups = [\"Movies\", \"Sports\", \"Coding\", \"Fishing\", \"Dancing\", \"cooking\"]  \n",
    "num = [46, 8, 12, 12, 6, 58]\n",
    "\n",
    "dict = {\"groups\": groups,  \n",
    "        \"num\": num\n",
    "       }\n",
    "select_df = pd.DataFrame(dict)\n",
    "\n",
    "print(select_df.info)\n",
    "print(\"---\")  \n",
    "print(select_df.iloc[2, 1]) # 第一列第二欄：組的人數  \n",
    "print(\"---\")  \n",
    "print(select_df.iloc[0:1,:]) # 第一列：組的組名與人數  \n",
    "print(\"---\")  \n",
    "print(select_df.iloc[:,1]) # 第二欄：各組的人數  \n",
    "print(\"---\")  \n",
    "print(select_df[\"num\"]) # 各組的人數  \n",
    "print(\"---\")  \n",
    "print(select_df.num) # 各組的人數  "
   ]
  },
  {
   "cell_type": "markdown",
   "metadata": {},
   "source": [
    "## 用布林值來塞選"
   ]
  },
  {
   "cell_type": "code",
   "execution_count": 55,
   "metadata": {},
   "outputs": [
    {
     "name": "stdout",
     "output_type": "stream",
     "text": [
      "     group  num\n",
      "0   Movies   46\n",
      "2   Coding   12\n",
      "3  Fishing   12\n",
      "5  cooking   58\n"
     ]
    }
   ],
   "source": [
    "import pandas as pd\n",
    "groups = [\"Movies\", \"Sports\", \"Coding\", \"Fishing\", \"Dancing\", \"cooking\"]  \n",
    "num = [46, 8, 12, 12, 6, 58]\n",
    "\n",
    "tmp_dict = {'group':groups,\n",
    "           'num':num}\n",
    "select_df = pd.DataFrame(tmp_dict)\n",
    "out_df = select_df[select_df.loc[:,'num']>10]\n",
    "print(out_df)"
   ]
  },
  {
   "cell_type": "markdown",
   "metadata": {},
   "source": [
    "## 資料排序 "
   ]
  },
  {
   "cell_type": "markdown",
   "metadata": {},
   "source": [
    "## sort_index"
   ]
  },
  {
   "cell_type": "code",
   "execution_count": 78,
   "metadata": {},
   "outputs": [
    {
     "name": "stdout",
     "output_type": "stream",
     "text": [
      "    groups  num\n",
      "0   Movies   46\n",
      "1   Sports    8\n",
      "2   Coding   12\n",
      "3  Fishing   12\n",
      "4  Dancing    6\n",
      "5  cooking   58\n",
      "-------------\n",
      "     A\n",
      "100  1\n",
      "29   2\n",
      "234  3\n",
      "1    4\n",
      "150  5\n",
      "---------------------\n",
      "     A\n",
      "1    4\n",
      "29   2\n",
      "100  1\n",
      "150  5\n",
      "234  3\n"
     ]
    }
   ],
   "source": [
    "import pandas as pd # 引用套件並縮寫為 pd\n",
    "\n",
    "groups = [\"Movies\", \"Sports\", \"Coding\", \"Fishing\", \"Dancing\", \"cooking\"]  \n",
    "num = [46, 8, 12, 12, 6, 58]\n",
    "\n",
    "data_dict = {\"groups\": groups,  \n",
    "        \"num\": num\n",
    "        }\n",
    "\n",
    "\n",
    "select_df = pd.DataFrame(data_dict)\n",
    "print(select_df)\n",
    "select_df.sort_index(axis = 1, ascending = True) # 透過索引值做排序，axis 可以指定第幾欄，ascending 用於設定升冪或降密 \n",
    "print(\"-------------\")\n",
    "\n",
    "df_data = pd.DataFrame([1, 2, 3, 4, 5], index=[100, 29, 234, 1, 150], columns=['A'])\n",
    "#df_data.sort_index(axis = 0, ascending = True)\n",
    "print(df_data)\n",
    "print('---------------------')\n",
    "print(df_data.sort_index(axis = 0, ascending = True))"
   ]
  },
  {
   "cell_type": "markdown",
   "metadata": {},
   "source": [
    "## sort_values"
   ]
  },
  {
   "cell_type": "code",
   "execution_count": 83,
   "metadata": {},
   "outputs": [
    {
     "name": "stdout",
     "output_type": "stream",
     "text": [
      "    groups  num\n",
      "0   Movies   46\n",
      "1   Sports    8\n",
      "2   Coding   12\n",
      "3  Fishing   12\n",
      "4  Dancing    6\n",
      "5  cooking   58\n",
      "--------------\n",
      "    groups  num\n",
      "4  Dancing    6\n",
      "1   Sports    8\n",
      "2   Coding   12\n",
      "3  Fishing   12\n",
      "0   Movies   46\n",
      "5  cooking   58\n"
     ]
    }
   ],
   "source": [
    "import pandas as pd # 引用套件並縮寫為 pd\n",
    "\n",
    "groups = [\"Movies\", \"Sports\", \"Coding\", \"Fishing\", \"Dancing\", \"cooking\"]  \n",
    "num = [46, 8, 12, 12, 6, 58]\n",
    "\n",
    "dict = {\"groups\": groups,  \n",
    "        \"num\": num\n",
    "        }\n",
    "\n",
    "\n",
    "select_df = pd.DataFrame(dict)\n",
    "print(select_df)\n",
    "print(\"--------------\")\n",
    "select_df_data =select_df.sort_values(by = 'num') #透過指定欄位的數值排序 \n",
    "print(select_df_data)\n"
   ]
  },
  {
   "cell_type": "markdown",
   "metadata": {},
   "source": [
    "# DataFrame 處理遺漏值"
   ]
  },
  {
   "cell_type": "markdown",
   "metadata": {},
   "source": [
    "## 判斷是否為空值 "
   ]
  },
  {
   "cell_type": "code",
   "execution_count": 85,
   "metadata": {},
   "outputs": [
    {
     "name": "stdout",
     "output_type": "stream",
     "text": [
      "   shop id shop name  maket size\n",
      "0        1  Wal mart   3000000.0\n",
      "1        2    Costco   2000000.0\n",
      "2        3       NaN   1500000.0\n",
      "3        4    Pchome    300000.0\n",
      "4        5     Yahoo         NaN\n"
     ]
    }
   ],
   "source": [
    "# 讀取 CSV File\n",
    "import pandas as pd # 引用套件並縮寫為 pd  \n",
    "df = pd.read_csv('data\\shop_list2.csv')  \n",
    "print(df)\n",
    "\n",
    "# 讀取後放入 DataFrame\n",
    "select_df = pd.DataFrame(df)"
   ]
  },
  {
   "cell_type": "code",
   "execution_count": 94,
   "metadata": {},
   "outputs": [
    {
     "name": "stdout",
     "output_type": "stream",
     "text": [
      "0    False\n",
      "1    False\n",
      "2     True\n",
      "3    False\n",
      "4    False\n",
      "Name: shop name, dtype: bool\n",
      "---\n",
      "0     True\n",
      "1     True\n",
      "2     True\n",
      "3     True\n",
      "4    False\n",
      "Name: maket size, dtype: bool\n"
     ]
    }
   ],
   "source": [
    "print(select_df.loc[:, \"shop name\"].isnull()) # 判斷哪些店名是遺失值  \n",
    "print(\"---\")  \n",
    "print(select_df.loc[:, \"maket size\"].notnull()) # 判斷哪些市場規模不是遺失值"
   ]
  },
  {
   "cell_type": "markdown",
   "metadata": {},
   "source": [
    "## loc"
   ]
  },
  {
   "cell_type": "code",
   "execution_count": 134,
   "metadata": {},
   "outputs": [
    {
     "name": "stdout",
     "output_type": "stream",
     "text": [
      "   a  b  c\n",
      "0  1  2  3\n",
      "1  4  5  6\n",
      "a    1\n",
      "b    2\n",
      "c    3\n",
      "Name: 0, dtype: int64\n",
      "------------------\n"
     ]
    }
   ],
   "source": [
    "#source : https://blog.csdn.net/xw_classmate/article/details/51333646\n",
    "import pandas as pd  \n",
    "data = [[1,2,3],[4,5,6]]  \n",
    "index = [0,1]  \n",
    "columns=['a','b','c']  \n",
    "df = pd.DataFrame(data=data, index=index, columns=columns)  \n",
    "print (df )\n",
    "print(df.loc[0]) #印出 index 的那一行\n",
    "print('------------------')\n",
    "\n"
   ]
  },
  {
   "cell_type": "code",
   "execution_count": 103,
   "metadata": {},
   "outputs": [
    {
     "name": "stdout",
     "output_type": "stream",
     "text": [
      "   a  b  c\n",
      "d  1  2  3\n",
      "e  4  5  6\n",
      "a    1\n",
      "b    2\n",
      "c    3\n",
      "Name: d, dtype: int64\n"
     ]
    }
   ],
   "source": [
    "import pandas as pd  \n",
    "data = [[1,2,3],[4,5,6]]  \n",
    "index = ['d','e']  \n",
    "columns=['a','b','c']  \n",
    "df = pd.DataFrame(data=data, index=index, columns=columns)  \n",
    "print(df)\n",
    "print (df.loc['d'] ) \n",
    " "
   ]
  },
  {
   "cell_type": "code",
   "execution_count": 105,
   "metadata": {},
   "outputs": [
    {
     "ename": "KeyError",
     "evalue": "'the label [a] is not in the [index]'",
     "output_type": "error",
     "traceback": [
      "\u001b[1;31m---------------------------------------------------------------------------\u001b[0m",
      "\u001b[1;31mKeyError\u001b[0m                                  Traceback (most recent call last)",
      "\u001b[1;32m~\\Anaconda3\\lib\\site-packages\\pandas\\core\\indexing.py\u001b[0m in \u001b[0;36m_has_valid_type\u001b[1;34m(self, key, axis)\u001b[0m\n\u001b[0;32m   1505\u001b[0m                 \u001b[1;32mif\u001b[0m \u001b[1;32mnot\u001b[0m \u001b[0max\u001b[0m\u001b[1;33m.\u001b[0m\u001b[0mcontains\u001b[0m\u001b[1;33m(\u001b[0m\u001b[0mkey\u001b[0m\u001b[1;33m)\u001b[0m\u001b[1;33m:\u001b[0m\u001b[1;33m\u001b[0m\u001b[0m\n\u001b[1;32m-> 1506\u001b[1;33m                     \u001b[0merror\u001b[0m\u001b[1;33m(\u001b[0m\u001b[1;33m)\u001b[0m\u001b[1;33m\u001b[0m\u001b[0m\n\u001b[0m\u001b[0;32m   1507\u001b[0m             \u001b[1;32mexcept\u001b[0m \u001b[0mTypeError\u001b[0m \u001b[1;32mas\u001b[0m \u001b[0me\u001b[0m\u001b[1;33m:\u001b[0m\u001b[1;33m\u001b[0m\u001b[0m\n",
      "\u001b[1;32m~\\Anaconda3\\lib\\site-packages\\pandas\\core\\indexing.py\u001b[0m in \u001b[0;36merror\u001b[1;34m()\u001b[0m\n\u001b[0;32m   1500\u001b[0m                                .format(key=key,\n\u001b[1;32m-> 1501\u001b[1;33m                                        axis=self.obj._get_axis_name(axis)))\n\u001b[0m\u001b[0;32m   1502\u001b[0m \u001b[1;33m\u001b[0m\u001b[0m\n",
      "\u001b[1;31mKeyError\u001b[0m: 'the label [a] is not in the [index]'",
      "\nDuring handling of the above exception, another exception occurred:\n",
      "\u001b[1;31mKeyError\u001b[0m                                  Traceback (most recent call last)",
      "\u001b[1;32m<ipython-input-105-0ac08b3f553b>\u001b[0m in \u001b[0;36m<module>\u001b[1;34m()\u001b[0m\n\u001b[0;32m      4\u001b[0m \u001b[0mcolumns\u001b[0m\u001b[1;33m=\u001b[0m\u001b[1;33m[\u001b[0m\u001b[1;34m'a'\u001b[0m\u001b[1;33m,\u001b[0m\u001b[1;34m'b'\u001b[0m\u001b[1;33m,\u001b[0m\u001b[1;34m'c'\u001b[0m\u001b[1;33m]\u001b[0m\u001b[1;33m\u001b[0m\u001b[0m\n\u001b[0;32m      5\u001b[0m \u001b[0mdf\u001b[0m \u001b[1;33m=\u001b[0m \u001b[0mpd\u001b[0m\u001b[1;33m.\u001b[0m\u001b[0mDataFrame\u001b[0m\u001b[1;33m(\u001b[0m\u001b[0mdata\u001b[0m\u001b[1;33m=\u001b[0m\u001b[0mdata\u001b[0m\u001b[1;33m,\u001b[0m \u001b[0mindex\u001b[0m\u001b[1;33m=\u001b[0m\u001b[0mindex\u001b[0m\u001b[1;33m,\u001b[0m \u001b[0mcolumns\u001b[0m\u001b[1;33m=\u001b[0m\u001b[0mcolumns\u001b[0m\u001b[1;33m)\u001b[0m\u001b[1;33m\u001b[0m\u001b[0m\n\u001b[1;32m----> 6\u001b[1;33m \u001b[0mprint\u001b[0m \u001b[1;33m(\u001b[0m\u001b[0mdf\u001b[0m\u001b[1;33m.\u001b[0m\u001b[0mloc\u001b[0m\u001b[1;33m[\u001b[0m\u001b[1;34m'a'\u001b[0m\u001b[1;33m]\u001b[0m  \u001b[1;33m)\u001b[0m\u001b[1;33m\u001b[0m\u001b[0m\n\u001b[0m",
      "\u001b[1;32m~\\Anaconda3\\lib\\site-packages\\pandas\\core\\indexing.py\u001b[0m in \u001b[0;36m__getitem__\u001b[1;34m(self, key)\u001b[0m\n\u001b[0;32m   1371\u001b[0m \u001b[1;33m\u001b[0m\u001b[0m\n\u001b[0;32m   1372\u001b[0m             \u001b[0mmaybe_callable\u001b[0m \u001b[1;33m=\u001b[0m \u001b[0mcom\u001b[0m\u001b[1;33m.\u001b[0m\u001b[0m_apply_if_callable\u001b[0m\u001b[1;33m(\u001b[0m\u001b[0mkey\u001b[0m\u001b[1;33m,\u001b[0m \u001b[0mself\u001b[0m\u001b[1;33m.\u001b[0m\u001b[0mobj\u001b[0m\u001b[1;33m)\u001b[0m\u001b[1;33m\u001b[0m\u001b[0m\n\u001b[1;32m-> 1373\u001b[1;33m             \u001b[1;32mreturn\u001b[0m \u001b[0mself\u001b[0m\u001b[1;33m.\u001b[0m\u001b[0m_getitem_axis\u001b[0m\u001b[1;33m(\u001b[0m\u001b[0mmaybe_callable\u001b[0m\u001b[1;33m,\u001b[0m \u001b[0maxis\u001b[0m\u001b[1;33m=\u001b[0m\u001b[0maxis\u001b[0m\u001b[1;33m)\u001b[0m\u001b[1;33m\u001b[0m\u001b[0m\n\u001b[0m\u001b[0;32m   1374\u001b[0m \u001b[1;33m\u001b[0m\u001b[0m\n\u001b[0;32m   1375\u001b[0m     \u001b[1;32mdef\u001b[0m \u001b[0m_is_scalar_access\u001b[0m\u001b[1;33m(\u001b[0m\u001b[0mself\u001b[0m\u001b[1;33m,\u001b[0m \u001b[0mkey\u001b[0m\u001b[1;33m)\u001b[0m\u001b[1;33m:\u001b[0m\u001b[1;33m\u001b[0m\u001b[0m\n",
      "\u001b[1;32m~\\Anaconda3\\lib\\site-packages\\pandas\\core\\indexing.py\u001b[0m in \u001b[0;36m_getitem_axis\u001b[1;34m(self, key, axis)\u001b[0m\n\u001b[0;32m   1624\u001b[0m \u001b[1;33m\u001b[0m\u001b[0m\n\u001b[0;32m   1625\u001b[0m         \u001b[1;31m# fall thru to straight lookup\u001b[0m\u001b[1;33m\u001b[0m\u001b[1;33m\u001b[0m\u001b[0m\n\u001b[1;32m-> 1626\u001b[1;33m         \u001b[0mself\u001b[0m\u001b[1;33m.\u001b[0m\u001b[0m_has_valid_type\u001b[0m\u001b[1;33m(\u001b[0m\u001b[0mkey\u001b[0m\u001b[1;33m,\u001b[0m \u001b[0maxis\u001b[0m\u001b[1;33m)\u001b[0m\u001b[1;33m\u001b[0m\u001b[0m\n\u001b[0m\u001b[0;32m   1627\u001b[0m         \u001b[1;32mreturn\u001b[0m \u001b[0mself\u001b[0m\u001b[1;33m.\u001b[0m\u001b[0m_get_label\u001b[0m\u001b[1;33m(\u001b[0m\u001b[0mkey\u001b[0m\u001b[1;33m,\u001b[0m \u001b[0maxis\u001b[0m\u001b[1;33m=\u001b[0m\u001b[0maxis\u001b[0m\u001b[1;33m)\u001b[0m\u001b[1;33m\u001b[0m\u001b[0m\n\u001b[0;32m   1628\u001b[0m \u001b[1;33m\u001b[0m\u001b[0m\n",
      "\u001b[1;32m~\\Anaconda3\\lib\\site-packages\\pandas\\core\\indexing.py\u001b[0m in \u001b[0;36m_has_valid_type\u001b[1;34m(self, key, axis)\u001b[0m\n\u001b[0;32m   1512\u001b[0m                 \u001b[1;32mraise\u001b[0m\u001b[1;33m\u001b[0m\u001b[0m\n\u001b[0;32m   1513\u001b[0m             \u001b[1;32mexcept\u001b[0m\u001b[1;33m:\u001b[0m\u001b[1;33m\u001b[0m\u001b[0m\n\u001b[1;32m-> 1514\u001b[1;33m                 \u001b[0merror\u001b[0m\u001b[1;33m(\u001b[0m\u001b[1;33m)\u001b[0m\u001b[1;33m\u001b[0m\u001b[0m\n\u001b[0m\u001b[0;32m   1515\u001b[0m \u001b[1;33m\u001b[0m\u001b[0m\n\u001b[0;32m   1516\u001b[0m         \u001b[1;32mreturn\u001b[0m \u001b[1;32mTrue\u001b[0m\u001b[1;33m\u001b[0m\u001b[0m\n",
      "\u001b[1;32m~\\Anaconda3\\lib\\site-packages\\pandas\\core\\indexing.py\u001b[0m in \u001b[0;36merror\u001b[1;34m()\u001b[0m\n\u001b[0;32m   1499\u001b[0m                 raise KeyError(u\"the label [{key}] is not in the [{axis}]\"\n\u001b[0;32m   1500\u001b[0m                                .format(key=key,\n\u001b[1;32m-> 1501\u001b[1;33m                                        axis=self.obj._get_axis_name(axis)))\n\u001b[0m\u001b[0;32m   1502\u001b[0m \u001b[1;33m\u001b[0m\u001b[0m\n\u001b[0;32m   1503\u001b[0m             \u001b[1;32mtry\u001b[0m\u001b[1;33m:\u001b[0m\u001b[1;33m\u001b[0m\u001b[0m\n",
      "\u001b[1;31mKeyError\u001b[0m: 'the label [a] is not in the [index]'"
     ]
    }
   ],
   "source": [
    "import pandas as pd  \n",
    "data = [[1,2,3],[4,5,6]]  \n",
    "index = ['d','e']  \n",
    "columns=['a','b','c']  \n",
    "df = pd.DataFrame(data=data, index=index, columns=columns)  \n",
    "print (df.loc['a']  )"
   ]
  },
  {
   "cell_type": "code",
   "execution_count": 111,
   "metadata": {},
   "outputs": [
    {
     "name": "stdout",
     "output_type": "stream",
     "text": [
      "   a  b  c\n",
      "d  1  2  3\n",
      "e  4  5  6\n",
      "f  7  8  9\n",
      "-------------\n",
      "   a  b  c\n",
      "e  4  5  6\n",
      "f  7  8  9\n"
     ]
    }
   ],
   "source": [
    "import pandas as pd  \n",
    "data = [[1,2,3],[4,5,6],[7,8,9]]  \n",
    "index = ['d','e','f']  \n",
    "columns=['a','b','c']  \n",
    "df = pd.DataFrame(data=data, index=index, columns=columns)\n",
    "print(df)\n",
    "print(\"-------------\")\n",
    "print (df.loc['e':] )"
   ]
  },
  {
   "cell_type": "code",
   "execution_count": 117,
   "metadata": {},
   "outputs": [
    {
     "name": "stdout",
     "output_type": "stream",
     "text": [
      "   a  b  c\n",
      "d  1  2  3\n",
      "e  4  5  6\n",
      "-------------\n",
      "b    2\n",
      "c    3\n",
      "Name: d, dtype: int64\n"
     ]
    }
   ],
   "source": [
    "import pandas as pd  \n",
    "data = [[1,2,3],[4,5,6]]  \n",
    "index = ['d','e']  \n",
    "columns=['a','b','c']  \n",
    "df = pd.DataFrame(data=data, index=index, columns=columns)  \n",
    "print(df)\n",
    "print(\"-------------\")\n",
    "print (df.loc['d',['b','c']] ) # 行,列"
   ]
  },
  {
   "cell_type": "markdown",
   "metadata": {},
   "source": [
    "# iloc"
   ]
  },
  {
   "cell_type": "code",
   "execution_count": 133,
   "metadata": {},
   "outputs": [
    {
     "name": "stdout",
     "output_type": "stream",
     "text": [
      "   a  b  c\n",
      "d  1  2  3\n",
      "e  4  5  6\n",
      "-------------\n"
     ]
    },
    {
     "ename": "TypeError",
     "evalue": "cannot do positional indexing on <class 'pandas.core.indexes.base.Index'> with these indexers [e] of <class 'str'>",
     "output_type": "error",
     "traceback": [
      "\u001b[1;31m---------------------------------------------------------------------------\u001b[0m",
      "\u001b[1;31mTypeError\u001b[0m                                 Traceback (most recent call last)",
      "\u001b[1;32m<ipython-input-133-e3a23f8826ab>\u001b[0m in \u001b[0;36m<module>\u001b[1;34m()\u001b[0m\n\u001b[0;32m      6\u001b[0m \u001b[0mprint\u001b[0m\u001b[1;33m(\u001b[0m\u001b[0mdf\u001b[0m\u001b[1;33m)\u001b[0m\u001b[1;33m\u001b[0m\u001b[0m\n\u001b[0;32m      7\u001b[0m \u001b[0mprint\u001b[0m\u001b[1;33m(\u001b[0m\u001b[1;34m\"-------------\"\u001b[0m\u001b[1;33m)\u001b[0m\u001b[1;33m\u001b[0m\u001b[0m\n\u001b[1;32m----> 8\u001b[1;33m \u001b[0mprint\u001b[0m \u001b[1;33m(\u001b[0m\u001b[0mdf\u001b[0m\u001b[1;33m.\u001b[0m\u001b[0miloc\u001b[0m\u001b[1;33m[\u001b[0m\u001b[1;34m'e'\u001b[0m\u001b[1;33m]\u001b[0m \u001b[1;33m)\u001b[0m\u001b[1;33m\u001b[0m\u001b[0m\n\u001b[0m",
      "\u001b[1;32m~\\Anaconda3\\lib\\site-packages\\pandas\\core\\indexing.py\u001b[0m in \u001b[0;36m__getitem__\u001b[1;34m(self, key)\u001b[0m\n\u001b[0;32m   1371\u001b[0m \u001b[1;33m\u001b[0m\u001b[0m\n\u001b[0;32m   1372\u001b[0m             \u001b[0mmaybe_callable\u001b[0m \u001b[1;33m=\u001b[0m \u001b[0mcom\u001b[0m\u001b[1;33m.\u001b[0m\u001b[0m_apply_if_callable\u001b[0m\u001b[1;33m(\u001b[0m\u001b[0mkey\u001b[0m\u001b[1;33m,\u001b[0m \u001b[0mself\u001b[0m\u001b[1;33m.\u001b[0m\u001b[0mobj\u001b[0m\u001b[1;33m)\u001b[0m\u001b[1;33m\u001b[0m\u001b[0m\n\u001b[1;32m-> 1373\u001b[1;33m             \u001b[1;32mreturn\u001b[0m \u001b[0mself\u001b[0m\u001b[1;33m.\u001b[0m\u001b[0m_getitem_axis\u001b[0m\u001b[1;33m(\u001b[0m\u001b[0mmaybe_callable\u001b[0m\u001b[1;33m,\u001b[0m \u001b[0maxis\u001b[0m\u001b[1;33m=\u001b[0m\u001b[0maxis\u001b[0m\u001b[1;33m)\u001b[0m\u001b[1;33m\u001b[0m\u001b[0m\n\u001b[0m\u001b[0;32m   1374\u001b[0m \u001b[1;33m\u001b[0m\u001b[0m\n\u001b[0;32m   1375\u001b[0m     \u001b[1;32mdef\u001b[0m \u001b[0m_is_scalar_access\u001b[0m\u001b[1;33m(\u001b[0m\u001b[0mself\u001b[0m\u001b[1;33m,\u001b[0m \u001b[0mkey\u001b[0m\u001b[1;33m)\u001b[0m\u001b[1;33m:\u001b[0m\u001b[1;33m\u001b[0m\u001b[0m\n",
      "\u001b[1;32m~\\Anaconda3\\lib\\site-packages\\pandas\\core\\indexing.py\u001b[0m in \u001b[0;36m_getitem_axis\u001b[1;34m(self, key, axis)\u001b[0m\n\u001b[0;32m   1821\u001b[0m         \u001b[1;31m# a single integer\u001b[0m\u001b[1;33m\u001b[0m\u001b[1;33m\u001b[0m\u001b[0m\n\u001b[0;32m   1822\u001b[0m         \u001b[1;32melse\u001b[0m\u001b[1;33m:\u001b[0m\u001b[1;33m\u001b[0m\u001b[0m\n\u001b[1;32m-> 1823\u001b[1;33m             \u001b[0mkey\u001b[0m \u001b[1;33m=\u001b[0m \u001b[0mself\u001b[0m\u001b[1;33m.\u001b[0m\u001b[0m_convert_scalar_indexer\u001b[0m\u001b[1;33m(\u001b[0m\u001b[0mkey\u001b[0m\u001b[1;33m,\u001b[0m \u001b[0maxis\u001b[0m\u001b[1;33m)\u001b[0m\u001b[1;33m\u001b[0m\u001b[0m\n\u001b[0m\u001b[0;32m   1824\u001b[0m \u001b[1;33m\u001b[0m\u001b[0m\n\u001b[0;32m   1825\u001b[0m             \u001b[1;32mif\u001b[0m \u001b[1;32mnot\u001b[0m \u001b[0mis_integer\u001b[0m\u001b[1;33m(\u001b[0m\u001b[0mkey\u001b[0m\u001b[1;33m)\u001b[0m\u001b[1;33m:\u001b[0m\u001b[1;33m\u001b[0m\u001b[0m\n",
      "\u001b[1;32m~\\Anaconda3\\lib\\site-packages\\pandas\\core\\indexing.py\u001b[0m in \u001b[0;36m_convert_scalar_indexer\u001b[1;34m(self, key, axis)\u001b[0m\n\u001b[0;32m    254\u001b[0m         \u001b[0max\u001b[0m \u001b[1;33m=\u001b[0m \u001b[0mself\u001b[0m\u001b[1;33m.\u001b[0m\u001b[0mobj\u001b[0m\u001b[1;33m.\u001b[0m\u001b[0m_get_axis\u001b[0m\u001b[1;33m(\u001b[0m\u001b[0mmin\u001b[0m\u001b[1;33m(\u001b[0m\u001b[0maxis\u001b[0m\u001b[1;33m,\u001b[0m \u001b[0mself\u001b[0m\u001b[1;33m.\u001b[0m\u001b[0mndim\u001b[0m \u001b[1;33m-\u001b[0m \u001b[1;36m1\u001b[0m\u001b[1;33m)\u001b[0m\u001b[1;33m)\u001b[0m\u001b[1;33m\u001b[0m\u001b[0m\n\u001b[0;32m    255\u001b[0m         \u001b[1;31m# a scalar\u001b[0m\u001b[1;33m\u001b[0m\u001b[1;33m\u001b[0m\u001b[0m\n\u001b[1;32m--> 256\u001b[1;33m         \u001b[1;32mreturn\u001b[0m \u001b[0max\u001b[0m\u001b[1;33m.\u001b[0m\u001b[0m_convert_scalar_indexer\u001b[0m\u001b[1;33m(\u001b[0m\u001b[0mkey\u001b[0m\u001b[1;33m,\u001b[0m \u001b[0mkind\u001b[0m\u001b[1;33m=\u001b[0m\u001b[0mself\u001b[0m\u001b[1;33m.\u001b[0m\u001b[0mname\u001b[0m\u001b[1;33m)\u001b[0m\u001b[1;33m\u001b[0m\u001b[0m\n\u001b[0m\u001b[0;32m    257\u001b[0m \u001b[1;33m\u001b[0m\u001b[0m\n\u001b[0;32m    258\u001b[0m     \u001b[1;32mdef\u001b[0m \u001b[0m_convert_slice_indexer\u001b[0m\u001b[1;33m(\u001b[0m\u001b[0mself\u001b[0m\u001b[1;33m,\u001b[0m \u001b[0mkey\u001b[0m\u001b[1;33m,\u001b[0m \u001b[0maxis\u001b[0m\u001b[1;33m)\u001b[0m\u001b[1;33m:\u001b[0m\u001b[1;33m\u001b[0m\u001b[0m\n",
      "\u001b[1;32m~\\Anaconda3\\lib\\site-packages\\pandas\\core\\indexes\\base.py\u001b[0m in \u001b[0;36m_convert_scalar_indexer\u001b[1;34m(self, key, kind)\u001b[0m\n\u001b[0;32m   1363\u001b[0m \u001b[1;33m\u001b[0m\u001b[0m\n\u001b[0;32m   1364\u001b[0m         \u001b[1;32mif\u001b[0m \u001b[0mkind\u001b[0m \u001b[1;33m==\u001b[0m \u001b[1;34m'iloc'\u001b[0m\u001b[1;33m:\u001b[0m\u001b[1;33m\u001b[0m\u001b[0m\n\u001b[1;32m-> 1365\u001b[1;33m             \u001b[1;32mreturn\u001b[0m \u001b[0mself\u001b[0m\u001b[1;33m.\u001b[0m\u001b[0m_validate_indexer\u001b[0m\u001b[1;33m(\u001b[0m\u001b[1;34m'positional'\u001b[0m\u001b[1;33m,\u001b[0m \u001b[0mkey\u001b[0m\u001b[1;33m,\u001b[0m \u001b[0mkind\u001b[0m\u001b[1;33m)\u001b[0m\u001b[1;33m\u001b[0m\u001b[0m\n\u001b[0m\u001b[0;32m   1366\u001b[0m \u001b[1;33m\u001b[0m\u001b[0m\n\u001b[0;32m   1367\u001b[0m         \u001b[1;32mif\u001b[0m \u001b[0mlen\u001b[0m\u001b[1;33m(\u001b[0m\u001b[0mself\u001b[0m\u001b[1;33m)\u001b[0m \u001b[1;32mand\u001b[0m \u001b[1;32mnot\u001b[0m \u001b[0misinstance\u001b[0m\u001b[1;33m(\u001b[0m\u001b[0mself\u001b[0m\u001b[1;33m,\u001b[0m \u001b[0mABCMultiIndex\u001b[0m\u001b[1;33m,\u001b[0m\u001b[1;33m)\u001b[0m\u001b[1;33m:\u001b[0m\u001b[1;33m\u001b[0m\u001b[0m\n",
      "\u001b[1;32m~\\Anaconda3\\lib\\site-packages\\pandas\\core\\indexes\\base.py\u001b[0m in \u001b[0;36m_validate_indexer\u001b[1;34m(self, form, key, kind)\u001b[0m\n\u001b[0;32m   3493\u001b[0m             \u001b[1;32mpass\u001b[0m\u001b[1;33m\u001b[0m\u001b[0m\n\u001b[0;32m   3494\u001b[0m         \u001b[1;32melif\u001b[0m \u001b[0mkind\u001b[0m \u001b[1;32min\u001b[0m \u001b[1;33m[\u001b[0m\u001b[1;34m'iloc'\u001b[0m\u001b[1;33m,\u001b[0m \u001b[1;34m'getitem'\u001b[0m\u001b[1;33m]\u001b[0m\u001b[1;33m:\u001b[0m\u001b[1;33m\u001b[0m\u001b[0m\n\u001b[1;32m-> 3495\u001b[1;33m             \u001b[0mself\u001b[0m\u001b[1;33m.\u001b[0m\u001b[0m_invalid_indexer\u001b[0m\u001b[1;33m(\u001b[0m\u001b[0mform\u001b[0m\u001b[1;33m,\u001b[0m \u001b[0mkey\u001b[0m\u001b[1;33m)\u001b[0m\u001b[1;33m\u001b[0m\u001b[0m\n\u001b[0m\u001b[0;32m   3496\u001b[0m         \u001b[1;32mreturn\u001b[0m \u001b[0mkey\u001b[0m\u001b[1;33m\u001b[0m\u001b[0m\n\u001b[0;32m   3497\u001b[0m \u001b[1;33m\u001b[0m\u001b[0m\n",
      "\u001b[1;32m~\\Anaconda3\\lib\\site-packages\\pandas\\core\\indexes\\base.py\u001b[0m in \u001b[0;36m_invalid_indexer\u001b[1;34m(self, form, key)\u001b[0m\n\u001b[0;32m   1574\u001b[0m                         \"indexers [{key}] of {kind}\".format(\n\u001b[0;32m   1575\u001b[0m                             \u001b[0mform\u001b[0m\u001b[1;33m=\u001b[0m\u001b[0mform\u001b[0m\u001b[1;33m,\u001b[0m \u001b[0mklass\u001b[0m\u001b[1;33m=\u001b[0m\u001b[0mtype\u001b[0m\u001b[1;33m(\u001b[0m\u001b[0mself\u001b[0m\u001b[1;33m)\u001b[0m\u001b[1;33m,\u001b[0m \u001b[0mkey\u001b[0m\u001b[1;33m=\u001b[0m\u001b[0mkey\u001b[0m\u001b[1;33m,\u001b[0m\u001b[1;33m\u001b[0m\u001b[0m\n\u001b[1;32m-> 1576\u001b[1;33m                             kind=type(key)))\n\u001b[0m\u001b[0;32m   1577\u001b[0m \u001b[1;33m\u001b[0m\u001b[0m\n\u001b[0;32m   1578\u001b[0m     \u001b[1;32mdef\u001b[0m \u001b[0mget_duplicates\u001b[0m\u001b[1;33m(\u001b[0m\u001b[0mself\u001b[0m\u001b[1;33m)\u001b[0m\u001b[1;33m:\u001b[0m\u001b[1;33m\u001b[0m\u001b[0m\n",
      "\u001b[1;31mTypeError\u001b[0m: cannot do positional indexing on <class 'pandas.core.indexes.base.Index'> with these indexers [e] of <class 'str'>"
     ]
    }
   ],
   "source": [
    "import pandas as pd  \n",
    "data = [[1,2,3],[4,5,6]]  \n",
    "index = ['d','e']  \n",
    "columns=['a','b','c']  \n",
    "df = pd.DataFrame(data=data, index=index, columns=columns) \n",
    "print(df)\n",
    "print(\"-------------\")\n",
    "print (df.iloc['e'] ) "
   ]
  },
  {
   "cell_type": "code",
   "execution_count": 132,
   "metadata": {},
   "outputs": [
    {
     "name": "stdout",
     "output_type": "stream",
     "text": [
      "   a  b  c\n",
      "d  1  2  3\n",
      "e  4  5  6\n",
      "-------------\n",
      "   a  b  c\n",
      "e  4  5  6\n",
      "-------------\n",
      "   b\n",
      "d  2\n",
      "e  5\n"
     ]
    }
   ],
   "source": [
    "import pandas as pd  \n",
    "data = [[1,2,3],[4,5,6]]  \n",
    "index = ['d','e']  \n",
    "columns=['a','b','c']  \n",
    "df = pd.DataFrame(data=data, index=index, columns=columns)  \n",
    "print(df)\n",
    "print(\"-------------\")\n",
    "print (df.iloc[1:] )  #index way\n",
    "print(\"-------------\")\n",
    "print (df.iloc[:,[1]])  "
   ]
  },
  {
   "cell_type": "markdown",
   "metadata": {},
   "source": [
    "# ix"
   ]
  },
  {
   "cell_type": "code",
   "execution_count": 135,
   "metadata": {},
   "outputs": [
    {
     "name": "stdout",
     "output_type": "stream",
     "text": [
      "a    4\n",
      "b    5\n",
      "c    6\n",
      "Name: 1, dtype: int64\n"
     ]
    },
    {
     "name": "stderr",
     "output_type": "stream",
     "text": [
      "C:\\Users\\USER\\Anaconda3\\lib\\site-packages\\ipykernel_launcher.py:1: DeprecationWarning: \n",
      ".ix is deprecated. Please use\n",
      ".loc for label based indexing or\n",
      ".iloc for positional indexing\n",
      "\n",
      "See the documentation here:\n",
      "http://pandas.pydata.org/pandas-docs/stable/indexing.html#ix-indexer-is-deprecated\n",
      "  \"\"\"Entry point for launching an IPython kernel.\n"
     ]
    }
   ],
   "source": [
    "print (df.ix[1])"
   ]
  },
  {
   "cell_type": "markdown",
   "metadata": {},
   "source": [
    "# 回到處理空值"
   ]
  },
  {
   "cell_type": "code",
   "execution_count": 136,
   "metadata": {},
   "outputs": [
    {
     "name": "stdout",
     "output_type": "stream",
     "text": [
      "0    False\n",
      "1    False\n",
      "2     True\n",
      "3    False\n",
      "4    False\n",
      "Name: shop name, dtype: bool\n",
      "---\n",
      "0     True\n",
      "1     True\n",
      "2     True\n",
      "3     True\n",
      "4    False\n",
      "Name: maket size, dtype: bool\n"
     ]
    }
   ],
   "source": [
    "print(select_df.loc[:, \"shop name\"].isnull()) # 判斷哪些店名是遺失值  \n",
    "print(\"---\")  \n",
    "print(select_df.loc[:, \"maket size\"].notnull()) # 判斷哪些市場規模不是遺失值"
   ]
  },
  {
   "cell_type": "code",
   "execution_count": 145,
   "metadata": {},
   "outputs": [
    {
     "name": "stdout",
     "output_type": "stream",
     "text": [
      "---data\n",
      "   shop id shop name  maket size\n",
      "0        1  Wal mart   3000000.0\n",
      "1        2    Costco   2000000.0\n",
      "2        3       NaN   1500000.0\n",
      "3        4    Pchome    300000.0\n",
      "4        5     Yahoo         NaN\n",
      "---有遺失值的觀測值都刪除 \n",
      "   shop id shop name  maket size\n",
      "0        1  Wal mart   3000000.0\n",
      "1        2    Costco   2000000.0\n",
      "3        4    Pchome    300000.0\n",
      "---有遺失值的觀測值填補 0\n",
      "   shop id shop name  maket size\n",
      "0        1  Wal mart   3000000.0\n",
      "1        2    Costco   2000000.0\n",
      "2        3         0   1500000.0\n",
      "3        4    Pchome    300000.0\n",
      "4        5     Yahoo         0.0\n",
      "---依欄位填補遺失值\n",
      "   shop id shop name  maket size\n",
      "0        1  Wal mart   3000000.0\n",
      "1        2    Costco   2000000.0\n",
      "2        3      NULL   1500000.0\n",
      "3        4    Pchome    300000.0\n",
      "4        5     Yahoo        10.0\n"
     ]
    }
   ],
   "source": [
    "# 讀取 CSV File\n",
    "import pandas as pd # 引用套件並縮寫為 pd  \n",
    "df = pd.read_csv('data\\shop_list2.csv')  \n",
    "print(\"---data\") \n",
    "print(df)\n",
    "\n",
    "# 讀取後放入 DataFrame\n",
    "select_df = pd.DataFrame(df)\n",
    "print(\"---有遺失值的觀測值都刪除 \")  \n",
    "drop_value = select_df.dropna() # 有遺失值的觀測值都刪除  \n",
    "print(drop_value)  \n",
    "print(\"---有遺失值的觀測值填補 0\")  \n",
    "filled_value = select_df.fillna(0) # 有遺失值的觀測值填補 0  \n",
    "print(filled_value)  \n",
    "print(\"---依欄位填補遺失值\")  \n",
    "filled_value_column = select_df.fillna({\"shop name\": \"NULL\", \"maket size\":10}) # 依欄位填補遺失值  \n",
    "print(filled_value_column)  "
   ]
  },
  {
   "cell_type": "code",
   "execution_count": null,
   "metadata": {},
   "outputs": [],
   "source": []
  }
 ],
 "metadata": {
  "kernelspec": {
   "display_name": "Python 3",
   "language": "python",
   "name": "python3"
  },
  "language_info": {
   "codemirror_mode": {
    "name": "ipython",
    "version": 3
   },
   "file_extension": ".py",
   "mimetype": "text/x-python",
   "name": "python",
   "nbconvert_exporter": "python",
   "pygments_lexer": "ipython3",
   "version": "3.6.4"
  }
 },
 "nbformat": 4,
 "nbformat_minor": 2
}
