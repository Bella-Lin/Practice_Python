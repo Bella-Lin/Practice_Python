{
 "cells": [
  {
   "cell_type": "markdown",
   "metadata": {},
   "source": [
    "# Python has five standard data types (String/ Number/ List / Set / Dict)"
   ]
  },
  {
   "cell_type": "markdown",
   "metadata": {},
   "source": [
    "## Strings "
   ]
  },
  {
   "cell_type": "code",
   "execution_count": 15,
   "metadata": {},
   "outputs": [
    {
     "name": "stdout",
     "output_type": "stream",
     "text": [
      "Today\n",
      "Hello World!\n"
     ]
    }
   ],
   "source": [
    "sentance = 'Today is a good day!'\n",
    "print(sentance[0:5])\n",
    "\n",
    "sent1 = 'Hello '\n",
    "sent2 = 'World!'\n",
    "print(sent1+ sent2)"
   ]
  },
  {
   "cell_type": "code",
   "execution_count": 17,
   "metadata": {},
   "outputs": [
    {
     "name": "stdout",
     "output_type": "stream",
     "text": [
      "Hello, Mark!\n",
      "Hi, Mark\n"
     ]
    }
   ],
   "source": [
    "name = 'Mark'\n",
    "print('Hello, {}!'.format(name))\n",
    "print('Hi, %s'%(name))"
   ]
  },
  {
   "cell_type": "code",
   "execution_count": 3,
   "metadata": {},
   "outputs": [
    {
     "name": "stdout",
     "output_type": "stream",
     "text": [
      "(\"str.center(40, 'a') : \", 'aaaathis is string example....wow!!!aaaa')\n"
     ]
    }
   ],
   "source": [
    "str = \"this is string example....wow!!!\";\n",
    "print (\"str.center(40, 'a') : \", str.center(40, 'a'))"
   ]
  },
  {
   "cell_type": "code",
   "execution_count": 4,
   "metadata": {},
   "outputs": [
    {
     "name": "stdout",
     "output_type": "stream",
     "text": [
      "True\n",
      "False\n"
     ]
    }
   ],
   "source": [
    "str = \"this2009\";  # No space in this string\n",
    "print (str.isalnum())\n",
    "\n",
    "str = \"this is string example....wow!!!\";\n",
    "print (str.isalnum())"
   ]
  },
  {
   "cell_type": "code",
   "execution_count": 5,
   "metadata": {},
   "outputs": [
    {
     "name": "stdout",
     "output_type": "stream",
     "text": [
      "     this is string example....wow!!!\n",
      "this is string example....wow!!!     \n",
      "88888888this is string example....wow!!!\n"
     ]
    }
   ],
   "source": [
    "str = \"     this is string example....wow!!!     \";\n",
    "print (str.rstrip())\n",
    "str = \"     this is string example....wow!!!     \";\n",
    "print (str.lstrip())\n",
    "str = \"88888888this is string example....wow!!!8888888\";\n",
    "print (str.rstrip('8'))"
   ]
  },
  {
   "cell_type": "code",
   "execution_count": 6,
   "metadata": {},
   "outputs": [
    {
     "name": "stdout",
     "output_type": "stream",
     "text": [
      "This Is String Example....Wow!!!\n"
     ]
    }
   ],
   "source": [
    "str = \"this is string example....wow!!!\";\n",
    "print (str.title())"
   ]
  },
  {
   "cell_type": "code",
   "execution_count": 20,
   "metadata": {},
   "outputs": [
    {
     "name": "stdout",
     "output_type": "stream",
     "text": [
      "thwas was string example....wow!!! thwas was really string\n",
      "thwas was string example....wow!!! this is really string\n",
      "--------------------\n",
      "['this', 'is', 'string', 'example']\n"
     ]
    }
   ],
   "source": [
    "str = \"this is string example....wow!!! this is really string\"\n",
    "print (str.replace(\"is\", \"was\"))\n",
    "print (str.replace(\"is\", \"was\", 2))\n",
    "\n",
    "print('--------------------')\n",
    "\n",
    "str = 'this is string example'\n",
    "print (str.split())\n",
    "\n",
    "str1 = str.split()"
   ]
  },
  {
   "cell_type": "code",
   "execution_count": 22,
   "metadata": {},
   "outputs": [
    {
     "name": "stdout",
     "output_type": "stream",
     "text": [
      "12\n",
      "--------------------\n",
      "The result are  3.14 and 5\n"
     ]
    }
   ],
   "source": [
    "str = 'Hello World!'\n",
    "print(len(str))\n",
    "\n",
    "print('--------------------')\n",
    "\n",
    "print('The result are  %.02f and %d'%(3.14159,5))"
   ]
  },
  {
   "cell_type": "markdown",
   "metadata": {},
   "source": [
    "## Numbers"
   ]
  },
  {
   "cell_type": "code",
   "execution_count": 9,
   "metadata": {},
   "outputs": [
    {
     "name": "stdout",
     "output_type": "stream",
     "text": [
      "11\n"
     ]
    }
   ],
   "source": [
    "var1 = 1\n",
    "var2 = 10\n",
    "print(var1 + var2)"
   ]
  },
  {
   "cell_type": "code",
   "execution_count": 23,
   "metadata": {},
   "outputs": [
    {
     "name": "stdout",
     "output_type": "stream",
     "text": [
      "45\n",
      "('math.pow(2, 4) : ', 16.0)\n",
      "('math.pow(100, -2) : ', 0.0001)\n"
     ]
    }
   ],
   "source": [
    "import math\n",
    "print(abs(-45))\n",
    "print (\"math.pow(2, 4) : \", math.pow(2, 4))\n",
    "print (\"math.pow(100, -2) : \", math.pow(100, -2))"
   ]
  },
  {
   "cell_type": "code",
   "execution_count": 14,
   "metadata": {},
   "outputs": [
    {
     "name": "stdout",
     "output_type": "stream",
     "text": [
      "<type 'str'>\n",
      "<type 'int'>\n"
     ]
    }
   ],
   "source": [
    "var = '2'\n",
    "print(type(var))\n",
    "\n",
    "var1= int(var)\n",
    "print(type(var1))"
   ]
  },
  {
   "cell_type": "code",
   "execution_count": 1,
   "metadata": {},
   "outputs": [
    {
     "name": "stdout",
     "output_type": "stream",
     "text": [
      "max(80, 100, 1000) :  1000\n",
      "1.1  無條件進位 = 2\n",
      "1.1  無條件捨去 = 1\n",
      "1.1  四捨五入 = 1\n",
      "==========\n",
      "1.9  無條件進位 = 2\n",
      "1.9  無條件捨去 = 1\n",
      "1.9  四捨五入 = 2\n"
     ]
    }
   ],
   "source": [
    "#!/usr/bin/python\n",
    "# -*- coding: utf-8 -*-\n",
    "print (\"max(80, 100, 1000) : \", max(80, 100, 1000))\n",
    "import math\n",
    "a = 1.1\n",
    "print (a, \" 無條件進位 =\",math.ceil(a) )\n",
    "print (a, \" 無條件捨去 =\",  math.floor(a))\n",
    "print (a, \" 四捨五入 =\", round(a))\n",
    "print (\"==========\")\n",
    "a = 1.9\n",
    "print (a, \" 無條件進位 =\", math.ceil(a) )\n",
    "print (a, \" 無條件捨去 =\",  math.floor(a))\n",
    "print (a, \" 四捨五入 =\", round(a))\n",
    "#https://googoodesign.gitbooks.io/-ezpython/content/xian_963123_2.html"
   ]
  },
  {
   "cell_type": "markdown",
   "metadata": {},
   "source": [
    "## Lists"
   ]
  },
  {
   "cell_type": "code",
   "execution_count": 60,
   "metadata": {},
   "outputs": [
    {
     "name": "stdout",
     "output_type": "stream",
     "text": [
      "['Hello World', 3]\n",
      "['w', 'o', 'r', 'l', 'd']\n",
      "[['world', ['Hello World', 3]]]\n",
      "Help on list object:\n",
      "\n",
      "class list(object)\n",
      " |  list() -> new empty list\n",
      " |  list(iterable) -> new list initialized from iterable's items\n",
      " |  \n",
      " |  Methods defined here:\n",
      " |  \n",
      " |  __add__(...)\n",
      " |      x.__add__(y) <==> x+y\n",
      " |  \n",
      " |  __contains__(...)\n",
      " |      x.__contains__(y) <==> y in x\n",
      " |  \n",
      " |  __delitem__(...)\n",
      " |      x.__delitem__(y) <==> del x[y]\n",
      " |  \n",
      " |  __delslice__(...)\n",
      " |      x.__delslice__(i, j) <==> del x[i:j]\n",
      " |      \n",
      " |      Use of negative indices is not supported.\n",
      " |  \n",
      " |  __eq__(...)\n",
      " |      x.__eq__(y) <==> x==y\n",
      " |  \n",
      " |  __ge__(...)\n",
      " |      x.__ge__(y) <==> x>=y\n",
      " |  \n",
      " |  __getattribute__(...)\n",
      " |      x.__getattribute__('name') <==> x.name\n",
      " |  \n",
      " |  __getitem__(...)\n",
      " |      x.__getitem__(y) <==> x[y]\n",
      " |  \n",
      " |  __getslice__(...)\n",
      " |      x.__getslice__(i, j) <==> x[i:j]\n",
      " |      \n",
      " |      Use of negative indices is not supported.\n",
      " |  \n",
      " |  __gt__(...)\n",
      " |      x.__gt__(y) <==> x>y\n",
      " |  \n",
      " |  __iadd__(...)\n",
      " |      x.__iadd__(y) <==> x+=y\n",
      " |  \n",
      " |  __imul__(...)\n",
      " |      x.__imul__(y) <==> x*=y\n",
      " |  \n",
      " |  __init__(...)\n",
      " |      x.__init__(...) initializes x; see help(type(x)) for signature\n",
      " |  \n",
      " |  __iter__(...)\n",
      " |      x.__iter__() <==> iter(x)\n",
      " |  \n",
      " |  __le__(...)\n",
      " |      x.__le__(y) <==> x<=y\n",
      " |  \n",
      " |  __len__(...)\n",
      " |      x.__len__() <==> len(x)\n",
      " |  \n",
      " |  __lt__(...)\n",
      " |      x.__lt__(y) <==> x<y\n",
      " |  \n",
      " |  __mul__(...)\n",
      " |      x.__mul__(n) <==> x*n\n",
      " |  \n",
      " |  __ne__(...)\n",
      " |      x.__ne__(y) <==> x!=y\n",
      " |  \n",
      " |  __repr__(...)\n",
      " |      x.__repr__() <==> repr(x)\n",
      " |  \n",
      " |  __reversed__(...)\n",
      " |      L.__reversed__() -- return a reverse iterator over the list\n",
      " |  \n",
      " |  __rmul__(...)\n",
      " |      x.__rmul__(n) <==> n*x\n",
      " |  \n",
      " |  __setitem__(...)\n",
      " |      x.__setitem__(i, y) <==> x[i]=y\n",
      " |  \n",
      " |  __setslice__(...)\n",
      " |      x.__setslice__(i, j, y) <==> x[i:j]=y\n",
      " |      \n",
      " |      Use  of negative indices is not supported.\n",
      " |  \n",
      " |  __sizeof__(...)\n",
      " |      L.__sizeof__() -- size of L in memory, in bytes\n",
      " |  \n",
      " |  append(...)\n",
      " |      L.append(object) -- append object to end\n",
      " |  \n",
      " |  count(...)\n",
      " |      L.count(value) -> integer -- return number of occurrences of value\n",
      " |  \n",
      " |  extend(...)\n",
      " |      L.extend(iterable) -- extend list by appending elements from the iterable\n",
      " |  \n",
      " |  index(...)\n",
      " |      L.index(value, [start, [stop]]) -> integer -- return first index of value.\n",
      " |      Raises ValueError if the value is not present.\n",
      " |  \n",
      " |  insert(...)\n",
      " |      L.insert(index, object) -- insert object before index\n",
      " |  \n",
      " |  pop(...)\n",
      " |      L.pop([index]) -> item -- remove and return item at index (default last).\n",
      " |      Raises IndexError if list is empty or index is out of range.\n",
      " |  \n",
      " |  remove(...)\n",
      " |      L.remove(value) -- remove first occurrence of value.\n",
      " |      Raises ValueError if the value is not present.\n",
      " |  \n",
      " |  reverse(...)\n",
      " |      L.reverse() -- reverse *IN PLACE*\n",
      " |  \n",
      " |  sort(...)\n",
      " |      L.sort(cmp=None, key=None, reverse=False) -- stable sort *IN PLACE*;\n",
      " |      cmp(x, y) -> -1, 0, 1\n",
      " |  \n",
      " |  ----------------------------------------------------------------------\n",
      " |  Data and other attributes defined here:\n",
      " |  \n",
      " |  __hash__ = None\n",
      " |  \n",
      " |  __new__ = <built-in method __new__ of type object>\n",
      " |      T.__new__(S, ...) -> a new object with type S, a subtype of T\n",
      "\n",
      "None\n"
     ]
    }
   ],
   "source": [
    "#裝載不同的元素\n",
    "print(['Hello World', 3])\n",
    "print(list('world')) \n",
    "print([['world',['Hello World', 3]]])\n",
    "print(help(list()))"
   ]
  },
  {
   "cell_type": "code",
   "execution_count": 61,
   "metadata": {},
   "outputs": [
    {
     "name": "stdout",
     "output_type": "stream",
     "text": [
      "['count', 3]\n",
      "8\n",
      "count\n",
      "3\n"
     ]
    }
   ],
   "source": [
    "a = ['count',3]\n",
    "print(a)\n",
    "print(a[1]+5)\n",
    "print(a[0])\n",
    "print(a[1])"
   ]
  },
  {
   "cell_type": "code",
   "execution_count": 62,
   "metadata": {},
   "outputs": [
    {
     "name": "stdout",
     "output_type": "stream",
     "text": [
      "M\n",
      "['a', 'r']\n",
      "['k', 'r', 'a', 'M']\n",
      "r\n",
      "['k']\n",
      "['M', 'r']\n",
      "4\n"
     ]
    }
   ],
   "source": [
    "#基本操作\n",
    "a = ['M','a','r','k']\n",
    "print(a[0])\n",
    "print(a[1:3])\n",
    "print(a[::-1])\n",
    "print(a[-2])\n",
    "print(a[3::])\n",
    "print(a[::2])\n",
    "print(len(a))"
   ]
  },
  {
   "cell_type": "code",
   "execution_count": 63,
   "metadata": {},
   "outputs": [
    {
     "name": "stdout",
     "output_type": "stream",
     "text": [
      "['M', 'a', 'r', 'k']\n",
      "['M', 'a', 'r']\n",
      "['M', 'a', 'r', 'y']\n",
      "['i', 'r']\n",
      "['M', 'a', 'r', 'y', 'i', 'r']\n",
      "['M', 'a', 'r', 'i', 'r']\n",
      "['M', 'a', 'r', 'i', 'r', 'is a girl.']\n"
     ]
    }
   ],
   "source": [
    "a = ['M','a','r','k']\n",
    "print(a)\n",
    "a.pop(3)\n",
    "print(a)\n",
    "a.append('y')\n",
    "print(a)\n",
    "b = ['i','r']\n",
    "print(b)\n",
    "a.extend(b)\n",
    "print(a)\n",
    "a.remove('y')\n",
    "print(a)\n",
    "#Mark → Mary  →  Marie\n",
    "#http://www.runoob.com/python/att-list-remove.html\n",
    "a.append('is a girl.')\n",
    "print(a)\n"
   ]
  },
  {
   "cell_type": "code",
   "execution_count": 64,
   "metadata": {},
   "outputs": [
    {
     "name": "stdout",
     "output_type": "stream",
     "text": [
      "[1, 4, 3, 9, 0]\n",
      "[0, 1, 3, 4, 9]\n",
      "[9, 4, 3, 1, 0]\n"
     ]
    }
   ],
   "source": [
    "a = [1,4,3,9,0]\n",
    "print(a)\n",
    "a.sort()\n",
    "print(a)\n",
    "a.reverse()\n",
    "print(a)"
   ]
  },
  {
   "cell_type": "code",
   "execution_count": 65,
   "metadata": {},
   "outputs": [
    {
     "name": "stdout",
     "output_type": "stream",
     "text": [
      "2.7.11 |Anaconda 4.0.0 (64-bit)| (default, Feb 16 2016, 09:58:36) [MSC v.1500 64 bit (AMD64)]\n"
     ]
    }
   ],
   "source": [
    "#list , dict, tuple 教學→ https://docs.python.org.tw/3/tutorial/datastructures.html\n",
    "import sys\n",
    "print(sys.version)"
   ]
  },
  {
   "cell_type": "code",
   "execution_count": 66,
   "metadata": {},
   "outputs": [
    {
     "name": "stdout",
     "output_type": "stream",
     "text": [
      "['H', 'e', 'l', 'l', 'o', ' ', 'W', 'o', 'r', 'l', 'd', '!']\n"
     ]
    }
   ],
   "source": [
    "hello = list('Hello World!')\n",
    "print(hello)"
   ]
  },
  {
   "cell_type": "code",
   "execution_count": 67,
   "metadata": {},
   "outputs": [
    {
     "data": {
      "text/plain": [
       "True"
      ]
     },
     "execution_count": 67,
     "metadata": {},
     "output_type": "execute_result"
    }
   ],
   "source": [
    "'e' in hello"
   ]
  },
  {
   "cell_type": "code",
   "execution_count": 68,
   "metadata": {},
   "outputs": [
    {
     "data": {
      "text/plain": [
       "False"
      ]
     },
     "execution_count": 68,
     "metadata": {},
     "output_type": "execute_result"
    }
   ],
   "source": [
    "'Z' in hello"
   ]
  },
  {
   "cell_type": "markdown",
   "metadata": {},
   "source": [
    "### 指定陣列"
   ]
  },
  {
   "cell_type": "code",
   "execution_count": 80,
   "metadata": {},
   "outputs": [
    {
     "name": "stdout",
     "output_type": "stream",
     "text": [
      "[1, 2, 3]\n",
      "[1, '10000', 3]\n",
      "[1, '10000', 3]\n"
     ]
    }
   ],
   "source": [
    "a = [1,2,3]\n",
    "b = a\n",
    "print(b)\n",
    "a[1] = '10000'\n",
    "print(a)\n",
    "print(b)"
   ]
  },
  {
   "cell_type": "markdown",
   "metadata": {},
   "source": [
    "### 複製list 解決辦法"
   ]
  },
  {
   "cell_type": "code",
   "execution_count": 79,
   "metadata": {},
   "outputs": [
    {
     "name": "stdout",
     "output_type": "stream",
     "text": [
      "([1, 2, 3], [1, '10000', 3])\n"
     ]
    }
   ],
   "source": [
    "a = [1,2,3]\n",
    "import copy\n",
    "b = copy.copy(a)\n",
    "a[1] = '10000'\n",
    "print(b,a)"
   ]
  },
  {
   "cell_type": "markdown",
   "metadata": {},
   "source": [
    "## 進階list操作"
   ]
  },
  {
   "cell_type": "code",
   "execution_count": 83,
   "metadata": {},
   "outputs": [
    {
     "name": "stdout",
     "output_type": "stream",
     "text": [
      "[1, 4, 9, 16]\n"
     ]
    }
   ],
   "source": [
    "nums = [1,2,3,4]\n",
    "squares = [ n*n  for n in nums]\n",
    "print(squares)"
   ]
  },
  {
   "cell_type": "code",
   "execution_count": 84,
   "metadata": {},
   "outputs": [
    {
     "name": "stdout",
     "output_type": "stream",
     "text": [
      "pyt\n"
     ]
    }
   ],
   "source": [
    "bella = 'python'\n",
    "print(bella[0:3])"
   ]
  },
  {
   "cell_type": "markdown",
   "metadata": {},
   "source": [
    "## Set"
   ]
  },
  {
   "cell_type": "code",
   "execution_count": 100,
   "metadata": {},
   "outputs": [
    {
     "name": "stdout",
     "output_type": "stream",
     "text": [
      "set([1, 2, 3])\n",
      "set([3])\n",
      "set([1, 2, 3, 4, 5, 6])\n",
      "set([1, 2])\n",
      "set([4, 5, 6])\n",
      "set([1, 2, 3, 10])\n",
      "set([1, 2, 3, 40, 10, 20, 30])\n",
      "set([1, 2, 3, 40, 10, 20])\n"
     ]
    }
   ],
   "source": [
    "test = set([1,1,2,2,3,3,])\n",
    "print(test)\n",
    "x = set([1,2,3]) \n",
    "y = set([3,4,5,6])\n",
    "print(x & y) # 交集 \n",
    "print(x|y) #聯集\n",
    "print(x-y)\n",
    "print(y-x)\n",
    "x.add(10) #加入一項\n",
    "print(x)\n",
    "x.update([20,30,40]) #加入多項\n",
    "print(x)\n",
    "x.remove(30) #删除一项\n",
    "print(x)"
   ]
  },
  {
   "cell_type": "markdown",
   "metadata": {},
   "source": [
    "## Dicts"
   ]
  },
  {
   "cell_type": "code",
   "execution_count": 1,
   "metadata": {},
   "outputs": [
    {
     "name": "stdout",
     "output_type": "stream",
     "text": [
      "{'Lisa': 85, 'Paul': 75, 'Adam': 95, 'Bart': 59}\n",
      "{'Lisa': 85, 'Paul': 75, 'Adam': 95, 'Bart': 59, 'Bella': 95.5}\n",
      "{'Lisa': 85, 'Paul': 75, 'Adam': 95, 'Bart': 59, 'Bella': 95.5}\n",
      "{'Lisa': 85, 'Paul': 75, 'Adam': 95, 'Bart': 59, 'Bella': 0}\n",
      "{'Paul', 'Lisa', 'Adam', 'Bart', 'Bella'}\n"
     ]
    }
   ],
   "source": [
    "score  = {'Lisa': 85, 'Paul': 75, 'Adam': 95, 'Bart': 59}\n",
    "print(score)\n",
    "#加入 key \n",
    "#移除key\n",
    "#key 不可重複\n",
    "score['Bella'] = 95.5\n",
    "print(score)\n",
    "#print(score.pop('Lisa'))\n",
    "print(score)\n",
    "score['Bella'] = 0\n",
    "print(score)\n",
    "print(set(score))\n",
    "#print(help(score))"
   ]
  },
  {
   "cell_type": "code",
   "execution_count": 120,
   "metadata": {},
   "outputs": [
    {
     "name": "stdout",
     "output_type": "stream",
     "text": [
      "['Bella', 'Lisa', 'Paul', 'Adam', 'Bart']\n",
      "[0, 85, 75, 95, 59]\n"
     ]
    }
   ],
   "source": [
    "print(score.keys())\n",
    "print(score.values())"
   ]
  },
  {
   "cell_type": "code",
   "execution_count": null,
   "metadata": {
    "collapsed": true
   },
   "outputs": [],
   "source": []
  }
 ],
 "metadata": {
  "kernelspec": {
   "display_name": "Python 3",
   "language": "python",
   "name": "python3"
  },
  "language_info": {
   "codemirror_mode": {
    "name": "ipython",
    "version": 3
   },
   "file_extension": ".py",
   "mimetype": "text/x-python",
   "name": "python",
   "nbconvert_exporter": "python",
   "pygments_lexer": "ipython3",
   "version": "3.6.4"
  }
 },
 "nbformat": 4,
 "nbformat_minor": 1
}
