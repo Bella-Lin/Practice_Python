{
 "cells": [
  {
   "cell_type": "markdown",
   "metadata": {},
   "source": [
    "# Numpy"
   ]
  },
  {
   "cell_type": "code",
   "execution_count": null,
   "metadata": {},
   "outputs": [],
   "source": [
    "import numpy as np \n",
    "np.__version__\n",
    "\n",
    "'''\n",
    "ref:\n",
    "1. http://cs231n.github.io/python-numpy-tutorial/#python-classes\n",
    "2. https://www.datacamp.com/community/tutorials/python-numpy-tutorial#array\n",
    "'''"
   ]
  },
  {
   "cell_type": "code",
   "execution_count": 3,
   "metadata": {},
   "outputs": [
    {
     "name": "stdout",
     "output_type": "stream",
     "text": [
      "<class 'numpy.ndarray'>\n",
      "1\n",
      "<memory at 0x000002D8D56A97C8>\n",
      "(3,)\n",
      "------- 1D ---------\n",
      "1 2 3\n",
      "[5 2 3]\n",
      "------ 2D ----------\n",
      "(2, 3)\n",
      "1 2 4\n",
      "------ 3D ----------\n",
      "[[[ 1  2  3  4]\n",
      "  [ 5  6  7  8]]\n",
      "\n",
      " [[ 1  2  3  4]\n",
      "  [ 9 10 11 12]]]\n",
      "(2, 2, 4)\n",
      "3\n"
     ]
    }
   ],
   "source": [
    "a = np.array([1, 2, 3])   # Create a rank 1 array\n",
    "print(type(a))   \n",
    "print(a.ndim)\n",
    "print(a.data)             # Print out memory address\n",
    "print(a.shape)            # Prints \"(3,)\" 可看出多少維度\n",
    "print(\"------- 1D ---------\")\n",
    "print(a[0], a[1], a[2])   # Prints \"1 2 3\"\n",
    "a[0] = 5                  # Change an element of the array\n",
    "print(a)                  # Prints \"[5, 2, 3]\"\n",
    "print(\"------ 2D ----------\")\n",
    "b = np.array([[1,2,3],[4,5,6]])    # Create a rank 2 array\n",
    "print(b.shape)                     # Prints \"(2, 3)\"\n",
    "print(b[0, 0], b[0, 1], b[1, 0])   \n",
    "print(\"------ 3D ----------\")\n",
    "c = np.array([[[ 1 , 2 , 3 , 4] ,[ 5 , 6 , 7 , 8]],[[ 1,  2,  3 , 4],[ 9 ,10 ,11 ,12]]])\n",
    "print(c)\n",
    "print(c.shape) \n",
    "print(c[0,0,2]) \n"
   ]
  },
  {
   "cell_type": "code",
   "execution_count": 5,
   "metadata": {},
   "outputs": [
    {
     "name": "stdout",
     "output_type": "stream",
     "text": [
      "[[0. 0.]\n",
      " [0. 0.]]\n",
      "--------------------\n",
      "[[1. 1.]]\n",
      "--------------------\n",
      "[[1. 0. 0.]\n",
      " [0. 1. 0.]\n",
      " [0. 0. 1.]]\n"
     ]
    }
   ],
   "source": [
    "a = np.zeros((2,2))   # Create an array of all zeros\n",
    "print(a) \n",
    "print('--------------------')\n",
    "b = np.ones((1,2))    # Create an array of all ones\n",
    "print(b)  \n",
    "print('--------------------')\n",
    "d = np.eye(3)         # Create a 2x2 identity matrix\n",
    "print(d)  "
   ]
  },
  {
   "cell_type": "markdown",
   "metadata": {},
   "source": [
    "## Slicing"
   ]
  },
  {
   "cell_type": "code",
   "execution_count": 6,
   "metadata": {},
   "outputs": [
    {
     "name": "stdout",
     "output_type": "stream",
     "text": [
      "[[ 1  2  3  4]\n",
      " [ 5  6  7  8]\n",
      " [ 9 10 11 12]]\n",
      "--------------------\n",
      "<memory at 0x000002D8D574D048>\n",
      "--------------------\n",
      "(3, 4)\n",
      "--------------------\n",
      "2\n"
     ]
    }
   ],
   "source": [
    "a = np.array([[1,2,3,4], [5,6,7,8], [9,10,11,12]])\n",
    "print(a)\n",
    "print('--------------------')\n",
    "print(a.data)\n",
    "print('--------------------')\n",
    "print(a.shape)\n",
    "print('--------------------')\n",
    "print(a.ndim)"
   ]
  },
  {
   "cell_type": "code",
   "execution_count": 7,
   "metadata": {},
   "outputs": [
    {
     "name": "stdout",
     "output_type": "stream",
     "text": [
      "[[2 3]\n",
      " [6 7]]\n",
      "--------------------\n",
      "<memory at 0x000002D8D5758048>\n",
      "--------------------\n",
      "2\n",
      "--------------------\n",
      "[[77  3]\n",
      " [ 6  7]]\n",
      "--------------------\n",
      "77\n"
     ]
    }
   ],
   "source": [
    "b = a[:2, 1:3]\n",
    "print(b)\n",
    "print('--------------------')\n",
    "print(b.data)\n",
    "print('--------------------')\n",
    "print(a[0, 1]) \n",
    "print('--------------------')\n",
    "b[0, 0] = 77\n",
    "print(b)\n",
    "print('--------------------')\n",
    "print(a[0, 1]) "
   ]
  },
  {
   "cell_type": "code",
   "execution_count": 9,
   "metadata": {},
   "outputs": [
    {
     "name": "stdout",
     "output_type": "stream",
     "text": [
      "[[ 1  2  3]\n",
      " [ 4  5  6]\n",
      " [ 7  8  9]\n",
      " [10 11 12]]\n",
      "------------------------\n",
      "[1 0 1]\n",
      "------------------------\n",
      "[[ 1  2  3]\n",
      " [ 4  5  6]\n",
      " [ 7  8  9]\n",
      " [10 11 12]]\n",
      "------------------------\n",
      "0th row\n",
      "1th row\n",
      "2th row\n",
      "3th row\n",
      "[[ 2  2  4]\n",
      " [ 5  5  7]\n",
      " [ 8  8 10]\n",
      " [11 11 13]]\n"
     ]
    }
   ],
   "source": [
    "x = np.array([[1,2,3], [4,5,6], [7,8,9], [10, 11, 12]])\n",
    "v = np.array([1, 0, 1])\n",
    "y = np.empty_like(x) \n",
    "print(x)\n",
    "print('------------------------')\n",
    "print(v)\n",
    "print('------------------------')\n",
    "print(y)\n",
    "print('------------------------')\n",
    "for i in range(4):\n",
    "    print(str(i)+'th row')\n",
    "    y[i, :] = x[i, :] + v\n",
    "print(y)"
   ]
  },
  {
   "cell_type": "code",
   "execution_count": null,
   "metadata": {},
   "outputs": [],
   "source": [
    "x = np.array([[1,2,3], [4,5,6], [7,8,9], [10, 11, 12]])\n",
    "v = np.array([1, 0, 1])\n",
    "#vv = np.tile(v, (4, 1))   # Stack 4 copies of v on top of each other\n",
    "print(v )          "
   ]
  },
  {
   "cell_type": "code",
   "execution_count": null,
   "metadata": {},
   "outputs": [],
   "source": []
  },
  {
   "cell_type": "markdown",
   "metadata": {},
   "source": [
    "# Pandas "
   ]
  },
  {
   "cell_type": "markdown",
   "metadata": {},
   "source": [
    "### 資料前處理以及 DataFrame 所用"
   ]
  },
  {
   "cell_type": "raw",
   "metadata": {},
   "source": [
    "\n",
    "1.Series：用來處理時間序列相關的資料(如感測器資料等)，主要為建立索引的一維陣列。\n",
    "2.DataFrame：用來處理結構化(Table like)的資料，有列索引與欄標籤的二維資料集，例如關聯式資料庫、CSV 等等。\n",
    "3.Panel：用來處理有資料及索引、列索引與欄標籤的三維資料集。\n"
   ]
  },
  {
   "cell_type": "markdown",
   "metadata": {},
   "source": [
    "#  1.1建立 Series"
   ]
  },
  {
   "cell_type": "markdown",
   "metadata": {},
   "source": [
    "## array"
   ]
  },
  {
   "cell_type": "code",
   "execution_count": 23,
   "metadata": {},
   "outputs": [
    {
     "name": "stdout",
     "output_type": "stream",
     "text": [
      "0       BMW\n",
      "1      BENZ\n",
      "2    Toyota\n",
      "3    Nissan\n",
      "4     Lexus\n",
      "dtype: object\n"
     ]
    }
   ],
   "source": [
    "import pandas as pd # 引用套件並縮寫為 pd\n",
    "cars = [\"BMW\", \"BENZ\", \"Toyota\", \"Nissan\", \"Lexus\"]\n",
    "\n",
    "select = pd.Series(cars)  \n",
    "print(select)  "
   ]
  },
  {
   "cell_type": "markdown",
   "metadata": {},
   "source": [
    "## dict"
   ]
  },
  {
   "cell_type": "code",
   "execution_count": 27,
   "metadata": {},
   "outputs": [
    {
     "name": "stdout",
     "output_type": "stream",
     "text": [
      "Taipei\n",
      "=====\n",
      "1\n",
      "=====\n",
      "factory    Taipei\n",
      "sensor2         2\n",
      "sensor4         4\n",
      "dtype: object\n",
      "=====\n",
      "factory    Taipei\n",
      "sensor1         1\n",
      "sensor3         3\n",
      "dtype: object\n"
     ]
    }
   ],
   "source": [
    "import pandas as pd\n",
    "\n",
    "dict_data = {  \n",
    "    \"factory\": \"Taipei\",\n",
    "    \"sensor1\": \"1\",\n",
    "    \"sensor2\": \"2\",\n",
    "    \"sensor3\": \"3\",\n",
    "    \"sensor4\": \"4\",\n",
    "    \"sensor5\": \"5\"\n",
    "}\n",
    "\n",
    "select = pd.Series(dict_data, index = dict.keys()) # 排序與原 dict 相同  \n",
    "print(select[0])  \n",
    "print(\"=====\")  \n",
    "print(select['sensor1'])  \n",
    "print(\"=====\")  \n",
    "print(select[[0, 2, 4]])  \n",
    "print(\"=====\")  \n",
    "print(select[['factory', 'sensor1', 'sensor3']]) "
   ]
  },
  {
   "cell_type": "markdown",
   "metadata": {},
   "source": [
    "## 資料為單一資料"
   ]
  },
  {
   "cell_type": "code",
   "execution_count": 29,
   "metadata": {},
   "outputs": [
    {
     "name": "stdout",
     "output_type": "stream",
     "text": [
      "0    BENZ\n",
      "1    BENZ\n",
      "2    BENZ\n",
      "3    BENZ\n",
      "4    BENZ\n",
      "dtype: object\n"
     ]
    }
   ],
   "source": [
    "import pandas as pd\n",
    "\n",
    "cars = \"BENZ\"  \n",
    "select = pd.Series(cars, index = range(5))  \n",
    "print(select) "
   ]
  },
  {
   "cell_type": "markdown",
   "metadata": {},
   "source": [
    "# 1.2 Series 的操作"
   ]
  },
  {
   "cell_type": "markdown",
   "metadata": {},
   "source": [
    "## 資料選擇與篩選"
   ]
  },
  {
   "cell_type": "code",
   "execution_count": 34,
   "metadata": {},
   "outputs": [
    {
     "name": "stdout",
     "output_type": "stream",
     "text": [
      "Taipei\n",
      "=====\n",
      "2\n",
      "=====\n",
      "factory    Taipei\n",
      "sensor2       NaN\n",
      "sensor4         4\n",
      "dtype: object\n",
      "=====\n",
      "factory    Taipei\n",
      "sensor1         2\n",
      "sensor3         3\n",
      "dtype: object\n"
     ]
    }
   ],
   "source": [
    "import pandas as pd\n",
    "\n",
    "dict_data = {  \n",
    "    \"factory\": \"Taipei\",\n",
    "    \"sensor1\": \"1\",\n",
    "    \"sensor1\": \"2\",\n",
    "    \"sensor3\": \"3\",\n",
    "    \"sensor4\": \"4\",\n",
    "    \"sensor5\": \"5\"\n",
    "}\n",
    "\n",
    "select = pd.Series(dict_data, index = dict.keys()) # 排序與原 dict 相同  \n",
    "print(select[0])  \n",
    "print(\"=====\")  \n",
    "print(select['sensor1'])  \n",
    "print(\"=====\")  \n",
    "print(select[[0, 2, 4]])  \n",
    "print(\"=====\")  \n",
    "print(select[['factory', 'sensor1', 'sensor3']])  "
   ]
  },
  {
   "cell_type": "markdown",
   "metadata": {},
   "source": [
    "## 資料切片 "
   ]
  },
  {
   "cell_type": "code",
   "execution_count": 35,
   "metadata": {},
   "outputs": [
    {
     "name": "stdout",
     "output_type": "stream",
     "text": [
      "factory    Taipei\n",
      "sensor1         1\n",
      "dtype: object\n",
      "=====\n",
      "sensor2    2\n",
      "sensor3    3\n",
      "sensor4    4\n",
      "sensor5    5\n",
      "dtype: object\n"
     ]
    }
   ],
   "source": [
    "import pandas as pd\n",
    "\n",
    "dict = {  \n",
    "    \"factory\": \"Taipei\",\n",
    "    \"sensor1\": \"1\",\n",
    "    \"sensor2\": \"2\",\n",
    "    \"sensor3\": \"3\",\n",
    "    \"sensor4\": \"4\",\n",
    "    \"sensor5\": \"5\"\n",
    "}\n",
    "\n",
    "select = pd.Series(dict, index = dict.keys()) # 排序與原 dict 相同  \n",
    "print(select[:2])  \n",
    "print(\"=====\")  \n",
    "print(select['sensor2':])  "
   ]
  },
  {
   "cell_type": "markdown",
   "metadata": {},
   "source": [
    "# 2.DataFrame"
   ]
  },
  {
   "cell_type": "raw",
   "metadata": {},
   "source": [
    "利用 Dictionary 或是 Array 來建立，並使用 DataFrame 的方法來操作資料查看、資料篩選、資料切片、資料排序等運算\n",
    "https://oranwind.org/python-pandas-ji-chu-jiao-xue/"
   ]
  },
  {
   "cell_type": "markdown",
   "metadata": {},
   "source": [
    "## dict"
   ]
  },
  {
   "cell_type": "code",
   "execution_count": 37,
   "metadata": {},
   "outputs": [
    {
     "name": "stdout",
     "output_type": "stream",
     "text": [
      "    groups  num\n",
      "0   Movies   46\n",
      "1   Sports    8\n",
      "2   Coding   12\n",
      "3  Fishing   12\n",
      "4  Dancing    6\n",
      "5  cooking   58\n"
     ]
    }
   ],
   "source": [
    "import pandas as pd # 引用套件並縮寫為 pd\n",
    "\n",
    "groups = [\"Movies\", \"Sports\", \"Coding\", \"Fishing\", \"Dancing\", \"cooking\"]  \n",
    "num = [46, 8, 12, 12, 6, 58]\n",
    "\n",
    "dict = {\"groups\": groups,  \n",
    "        \"num\": num\n",
    "       }\n",
    "\n",
    "select_df = pd.DataFrame(dict)\n",
    "\n",
    "print(select_df) # 看看資料框的外觀  "
   ]
  },
  {
   "cell_type": "markdown",
   "metadata": {},
   "source": [
    "## Array"
   ]
  },
  {
   "cell_type": "code",
   "execution_count": 38,
   "metadata": {},
   "outputs": [
    {
     "name": "stdout",
     "output_type": "stream",
     "text": [
      "      name  num\n",
      "0   Movies   46\n",
      "1   Sports    8\n",
      "2   Coding   12\n",
      "3  Fishing   12\n",
      "4  Dancing    6\n",
      "5  cooking    8\n"
     ]
    }
   ],
   "source": [
    "import pandas as pd\n",
    "\n",
    "arr = groups = [[\"Movies\", 46],[\"Sports\", 8], [\"Coding\", 12], [\"Fishing\",12], [\"Dancing\",6], [\"cooking\",8]]\n",
    "\n",
    "df = pd.DataFrame(arr, columns = [\"name\", \"num\"]) # 指定欄標籤名稱  \n",
    "print(df)  "
   ]
  },
  {
   "cell_type": "markdown",
   "metadata": {},
   "source": [
    "# 2.2 DataFrame 的操作"
   ]
  },
  {
   "cell_type": "raw",
   "metadata": {},
   "source": [
    ".shape\n",
    ".describe()\n",
    ".head()\n",
    ".tail()\n",
    ".columns\n",
    ".index\n",
    ".info()"
   ]
  },
  {
   "cell_type": "code",
   "execution_count": 40,
   "metadata": {},
   "outputs": [
    {
     "name": "stdout",
     "output_type": "stream",
     "text": [
      "---shape\n",
      "(6, 2)\n",
      "---describe\n",
      "             num\n",
      "count   6.000000\n",
      "mean   23.666667\n",
      "std    22.393451\n",
      "min     6.000000\n",
      "25%     9.000000\n",
      "50%    12.000000\n",
      "75%    37.500000\n",
      "max    58.000000\n",
      "---head\n",
      "   groups  num\n",
      "0  Movies   46\n",
      "1  Sports    8\n",
      "2  Coding   12\n",
      "---tail\n",
      "    groups  num\n",
      "3  Fishing   12\n",
      "4  Dancing    6\n",
      "5  cooking   58\n",
      "---columns\n",
      "Index(['groups', 'num'], dtype='object')\n",
      "---index\n",
      "RangeIndex(start=0, stop=6, step=1)\n",
      "---info\n",
      "<bound method DataFrame.info of     groups  num\n",
      "0   Movies   46\n",
      "1   Sports    8\n",
      "2   Coding   12\n",
      "3  Fishing   12\n",
      "4  Dancing    6\n",
      "5  cooking   58>\n"
     ]
    }
   ],
   "source": [
    "# Pandas 的 data frame 資料結構有一些方法或屬性\n",
    "\n",
    "import pandas as pd\n",
    "\n",
    "groups = [\"Movies\", \"Sports\", \"Coding\", \"Fishing\", \"Dancing\", \"cooking\"]  \n",
    "num = [46, 8, 12, 12, 6, 58]\n",
    "\n",
    "dict = {\"groups\": groups,  \n",
    "        \"num\": num\n",
    "        }\n",
    "\n",
    "\n",
    "select_df = pd.DataFrame(dict)\n",
    "print(\"---shape\")\n",
    "print(select_df.shape) # 回傳列數與欄數  \n",
    "print(\"---describe\")  \n",
    "print(select_df.describe()) # 回傳描述性統計  \n",
    "print(\"---head\")  \n",
    "print(select_df.head(3)) # 回傳前三筆觀測值  \n",
    "print(\"---tail\")  \n",
    "print(select_df.tail(3)) # 回傳後三筆觀測值  \n",
    "print(\"---columns\")  \n",
    "print(select_df.columns) # 回傳欄位名稱  \n",
    "print(\"---index\")  \n",
    "print(select_df.index) # 回傳 index  \n",
    "print(\"---info\")  \n",
    "print(select_df.info) # 回傳資料內容  "
   ]
  },
  {
   "cell_type": "markdown",
   "metadata": {},
   "source": [
    "##  資料選擇與篩選 "
   ]
  },
  {
   "cell_type": "raw",
   "metadata": {},
   "source": [
    "1.中括號 [] 選擇元素\n",
    "2.將變數當作屬性選擇\n",
    "3.loc .iloc 方法選擇\n",
    "4.使用布林值篩選"
   ]
  },
  {
   "cell_type": "code",
   "execution_count": 48,
   "metadata": {},
   "outputs": [
    {
     "name": "stdout",
     "output_type": "stream",
     "text": [
      "<bound method DataFrame.info of     groups  num\n",
      "0   Movies   46\n",
      "1   Sports    8\n",
      "2   Coding   12\n",
      "3  Fishing   12\n",
      "4  Dancing    6\n",
      "5  cooking   58>\n",
      "---\n",
      "12\n",
      "---\n",
      "   groups  num\n",
      "0  Movies   46\n",
      "---\n",
      "0    46\n",
      "1     8\n",
      "2    12\n",
      "3    12\n",
      "4     6\n",
      "5    58\n",
      "Name: num, dtype: int64\n",
      "---\n",
      "0    46\n",
      "1     8\n",
      "2    12\n",
      "3    12\n",
      "4     6\n",
      "5    58\n",
      "Name: num, dtype: int64\n",
      "---\n",
      "0    46\n",
      "1     8\n",
      "2    12\n",
      "3    12\n",
      "4     6\n",
      "5    58\n",
      "Name: num, dtype: int64\n"
     ]
    }
   ],
   "source": [
    "import pandas as pd\n",
    "\n",
    "groups = [\"Movies\", \"Sports\", \"Coding\", \"Fishing\", \"Dancing\", \"cooking\"]  \n",
    "num = [46, 8, 12, 12, 6, 58]\n",
    "\n",
    "dict = {\"groups\": groups,  \n",
    "        \"num\": num\n",
    "       }\n",
    "select_df = pd.DataFrame(dict)\n",
    "\n",
    "print(select_df.info)\n",
    "print(\"---\")  \n",
    "print(select_df.iloc[2, 1]) # 第一列第二欄：組的人數  \n",
    "print(\"---\")  \n",
    "print(select_df.iloc[0:1,:]) # 第一列：組的組名與人數  \n",
    "print(\"---\")  \n",
    "print(select_df.iloc[:,1]) # 第二欄：各組的人數  \n",
    "print(\"---\")  \n",
    "print(select_df[\"num\"]) # 各組的人數  \n",
    "print(\"---\")  \n",
    "print(select_df.num) # 各組的人數  "
   ]
  },
  {
   "cell_type": "code",
   "execution_count": null,
   "metadata": {},
   "outputs": [],
   "source": []
  }
 ],
 "metadata": {
  "kernelspec": {
   "display_name": "Python 3",
   "language": "python",
   "name": "python3"
  },
  "language_info": {
   "codemirror_mode": {
    "name": "ipython",
    "version": 3
   },
   "file_extension": ".py",
   "mimetype": "text/x-python",
   "name": "python",
   "nbconvert_exporter": "python",
   "pygments_lexer": "ipython3",
   "version": "3.6.4"
  }
 },
 "nbformat": 4,
 "nbformat_minor": 2
}
