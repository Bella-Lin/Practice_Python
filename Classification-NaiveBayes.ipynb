{
 "cells": [
  {
   "cell_type": "markdown",
   "metadata": {},
   "source": [
    "# Step1 匯入資料"
   ]
  },
  {
   "cell_type": "code",
   "execution_count": 11,
   "metadata": {},
   "outputs": [
    {
     "data": {
      "text/plain": [
       "{'COL_NAMES': ['label', 'data'],\n",
       " 'DESCR': 'mldata.org dataset: mnist-original',\n",
       " 'data': array([[0, 0, 0, ..., 0, 0, 0],\n",
       "        [0, 0, 0, ..., 0, 0, 0],\n",
       "        [0, 0, 0, ..., 0, 0, 0],\n",
       "        ...,\n",
       "        [0, 0, 0, ..., 0, 0, 0],\n",
       "        [0, 0, 0, ..., 0, 0, 0],\n",
       "        [0, 0, 0, ..., 0, 0, 0]], dtype=uint8),\n",
       " 'target': array([0., 0., 0., ..., 9., 9., 9.])}"
      ]
     },
     "execution_count": 11,
     "metadata": {},
     "output_type": "execute_result"
    }
   ],
   "source": [
    "from sklearn.datasets import fetch_mldata\n",
    "mnist=fetch_mldata('MNIST original')\n",
    "mnist"
   ]
  },
  {
   "cell_type": "code",
   "execution_count": 28,
   "metadata": {},
   "outputs": [
    {
     "name": "stdout",
     "output_type": "stream",
     "text": [
      "784\n",
      "<class 'numpy.ndarray'>\n",
      "<class 'numpy.ndarray'>\n"
     ]
    },
    {
     "data": {
      "image/png": "[encoded data removed]",
      "text/plain": [
       "<Figure size 432x288 with 1 Axes>"
      ]
     },
     "metadata": {},
     "output_type": "display_data"
    }
   ],
   "source": [
    "%matplotlib inline\n",
    "import matplotlib\n",
    "import matplotlib.pyplot as plt\n",
    "\n",
    "some_digit = mnist['data'][0]\n",
    "print(len(some_digit))\n",
    "\n",
    "print(type(some_digit))\n",
    "some_digit_image = some_digit.reshape(28, 28)\n",
    "print(type(some_digit_image))\n",
    "\n",
    "plt.imshow(some_digit_image, cmap = matplotlib.cm.binary,\n",
    "           interpolation=\"nearest\")\n",
    "#plt.axis(\"off\")\n",
    "\n",
    "plt.show()"
   ]
  },
  {
   "cell_type": "code",
   "execution_count": 13,
   "metadata": {},
   "outputs": [
    {
     "name": "stdout",
     "output_type": "stream",
     "text": [
      "(70000, 784)\n",
      "(70000,)\n"
     ]
    }
   ],
   "source": [
    "X, y = mnist[\"data\"], mnist[\"target\"]\n",
    "print(X.shape)\n",
    "print(y.shape)"
   ]
  },
  {
   "cell_type": "markdown",
   "metadata": {},
   "source": [
    "# Step2 選取70%資料做預測"
   ]
  },
  {
   "cell_type": "code",
   "execution_count": 14,
   "metadata": {},
   "outputs": [],
   "source": [
    "import numpy as np\n",
    "shuffle_index = np.random.permutation(70000) #洗牌\n",
    "#70000*0.7 = 49000\n",
    "X_train, X_test, y_train, y_test = X[shuffle_index[:49000]], X[shuffle_index[49000:]], y[shuffle_index[:49000]], y[shuffle_index[49000:]] "
   ]
  },
  {
   "cell_type": "code",
   "execution_count": 15,
   "metadata": {},
   "outputs": [
    {
     "name": "stdout",
     "output_type": "stream",
     "text": [
      "[[ 9 10 11 12]\n",
      " [ 1  2  3  4]]\n"
     ]
    }
   ],
   "source": [
    "#test\n",
    "import numpy as np \n",
    "a = np.array([[1,2,3,4], [5,6,7,8], [9,10,11,12]])\n",
    "b = np.array([ 2, 0])\n",
    "print(a[b])"
   ]
  },
  {
   "cell_type": "markdown",
   "metadata": {},
   "source": [
    "# Step3 平均分配資料"
   ]
  },
  {
   "cell_type": "code",
   "execution_count": 16,
   "metadata": {},
   "outputs": [
    {
     "name": "stdout",
     "output_type": "stream",
     "text": [
      "Counter({1.0: 5535, 7.0: 5120, 3.0: 4971, 2.0: 4900, 9.0: 4863, 0.0: 4861, 4.0: 4782, 6.0: 4780, 8.0: 4732, 5.0: 4456})\n"
     ]
    }
   ],
   "source": [
    "from collections import Counter\n",
    "count_data= Counter(y_train)\n",
    "print(count_data)"
   ]
  },
  {
   "cell_type": "markdown",
   "metadata": {},
   "source": [
    "# Step4 naive_bayes"
   ]
  },
  {
   "cell_type": "code",
   "execution_count": 17,
   "metadata": {},
   "outputs": [
    {
     "name": "stdout",
     "output_type": "stream",
     "text": [
      "0.8353469387755103\n",
      "time:  0:00:01.282843\n"
     ]
    }
   ],
   "source": [
    "from sklearn.naive_bayes import BernoulliNB\n",
    "import datetime\n",
    "\n",
    "starttime = datetime.datetime.now()\n",
    "\n",
    "BernoulliNB_clf = BernoulliNB()\n",
    "BernoulliNB_clf.fit(X_train, y_train)\n",
    "\n",
    "BeriNB_mnist_pre = BernoulliNB_clf.predict(X_train)\n",
    "\n",
    "from sklearn import metrics\n",
    "accuracy = metrics.accuracy_score(y_train, BeriNB_mnist_pre)\n",
    "print(accuracy)\n",
    "endtime = datetime.datetime.now()\n",
    "print ('time: ',(endtime-starttime))"
   ]
  },
  {
   "cell_type": "markdown",
   "metadata": {},
   "source": [
    "# Step5 混淆矩陣"
   ]
  },
  {
   "cell_type": "code",
   "execution_count": 18,
   "metadata": {},
   "outputs": [
    {
     "data": {
      "text/html": [
       "<div>\n",
       "<style scoped>\n",
       "    .dataframe tbody tr th:only-of-type {\n",
       "        vertical-align: middle;\n",
       "    }\n",
       "\n",
       "    .dataframe tbody tr th {\n",
       "        vertical-align: top;\n",
       "    }\n",
       "\n",
       "    .dataframe thead th {\n",
       "        text-align: right;\n",
       "    }\n",
       "</style>\n",
       "<table border=\"1\" class=\"dataframe\">\n",
       "  <thead>\n",
       "    <tr style=\"text-align: right;\">\n",
       "      <th>predict</th>\n",
       "      <th>0.0</th>\n",
       "      <th>1.0</th>\n",
       "      <th>2.0</th>\n",
       "      <th>3.0</th>\n",
       "      <th>4.0</th>\n",
       "      <th>5.0</th>\n",
       "      <th>6.0</th>\n",
       "      <th>7.0</th>\n",
       "      <th>8.0</th>\n",
       "      <th>9.0</th>\n",
       "    </tr>\n",
       "    <tr>\n",
       "      <th>label</th>\n",
       "      <th></th>\n",
       "      <th></th>\n",
       "      <th></th>\n",
       "      <th></th>\n",
       "      <th></th>\n",
       "      <th></th>\n",
       "      <th></th>\n",
       "      <th></th>\n",
       "      <th></th>\n",
       "      <th></th>\n",
       "    </tr>\n",
       "  </thead>\n",
       "  <tbody>\n",
       "    <tr>\n",
       "      <th>0.0</th>\n",
       "      <td>4351</td>\n",
       "      <td>2</td>\n",
       "      <td>23</td>\n",
       "      <td>33</td>\n",
       "      <td>13</td>\n",
       "      <td>218</td>\n",
       "      <td>82</td>\n",
       "      <td>0</td>\n",
       "      <td>134</td>\n",
       "      <td>5</td>\n",
       "    </tr>\n",
       "    <tr>\n",
       "      <th>1.0</th>\n",
       "      <td>0</td>\n",
       "      <td>5321</td>\n",
       "      <td>53</td>\n",
       "      <td>11</td>\n",
       "      <td>4</td>\n",
       "      <td>51</td>\n",
       "      <td>20</td>\n",
       "      <td>4</td>\n",
       "      <td>61</td>\n",
       "      <td>10</td>\n",
       "    </tr>\n",
       "    <tr>\n",
       "      <th>2.0</th>\n",
       "      <td>88</td>\n",
       "      <td>68</td>\n",
       "      <td>4058</td>\n",
       "      <td>117</td>\n",
       "      <td>91</td>\n",
       "      <td>17</td>\n",
       "      <td>193</td>\n",
       "      <td>45</td>\n",
       "      <td>209</td>\n",
       "      <td>14</td>\n",
       "    </tr>\n",
       "    <tr>\n",
       "      <th>3.0</th>\n",
       "      <td>40</td>\n",
       "      <td>108</td>\n",
       "      <td>216</td>\n",
       "      <td>3987</td>\n",
       "      <td>12</td>\n",
       "      <td>117</td>\n",
       "      <td>36</td>\n",
       "      <td>61</td>\n",
       "      <td>246</td>\n",
       "      <td>148</td>\n",
       "    </tr>\n",
       "    <tr>\n",
       "      <th>4.0</th>\n",
       "      <td>12</td>\n",
       "      <td>39</td>\n",
       "      <td>23</td>\n",
       "      <td>0</td>\n",
       "      <td>3851</td>\n",
       "      <td>26</td>\n",
       "      <td>75</td>\n",
       "      <td>18</td>\n",
       "      <td>111</td>\n",
       "      <td>627</td>\n",
       "    </tr>\n",
       "    <tr>\n",
       "      <th>5.0</th>\n",
       "      <td>138</td>\n",
       "      <td>63</td>\n",
       "      <td>36</td>\n",
       "      <td>638</td>\n",
       "      <td>138</td>\n",
       "      <td>3130</td>\n",
       "      <td>99</td>\n",
       "      <td>21</td>\n",
       "      <td>77</td>\n",
       "      <td>116</td>\n",
       "    </tr>\n",
       "    <tr>\n",
       "      <th>6.0</th>\n",
       "      <td>46</td>\n",
       "      <td>127</td>\n",
       "      <td>83</td>\n",
       "      <td>3</td>\n",
       "      <td>38</td>\n",
       "      <td>159</td>\n",
       "      <td>4286</td>\n",
       "      <td>0</td>\n",
       "      <td>36</td>\n",
       "      <td>2</td>\n",
       "    </tr>\n",
       "    <tr>\n",
       "      <th>7.0</th>\n",
       "      <td>21</td>\n",
       "      <td>108</td>\n",
       "      <td>45</td>\n",
       "      <td>13</td>\n",
       "      <td>121</td>\n",
       "      <td>6</td>\n",
       "      <td>2</td>\n",
       "      <td>4356</td>\n",
       "      <td>96</td>\n",
       "      <td>352</td>\n",
       "    </tr>\n",
       "    <tr>\n",
       "      <th>8.0</th>\n",
       "      <td>62</td>\n",
       "      <td>172</td>\n",
       "      <td>83</td>\n",
       "      <td>375</td>\n",
       "      <td>47</td>\n",
       "      <td>127</td>\n",
       "      <td>31</td>\n",
       "      <td>15</td>\n",
       "      <td>3631</td>\n",
       "      <td>189</td>\n",
       "    </tr>\n",
       "    <tr>\n",
       "      <th>9.0</th>\n",
       "      <td>41</td>\n",
       "      <td>71</td>\n",
       "      <td>26</td>\n",
       "      <td>63</td>\n",
       "      <td>347</td>\n",
       "      <td>27</td>\n",
       "      <td>2</td>\n",
       "      <td>186</td>\n",
       "      <td>139</td>\n",
       "      <td>3961</td>\n",
       "    </tr>\n",
       "  </tbody>\n",
       "</table>\n",
       "</div>"
      ],
      "text/plain": [
       "predict   0.0   1.0   2.0   3.0   4.0   5.0   6.0   7.0   8.0   9.0\n",
       "label                                                              \n",
       "0.0      4351     2    23    33    13   218    82     0   134     5\n",
       "1.0         0  5321    53    11     4    51    20     4    61    10\n",
       "2.0        88    68  4058   117    91    17   193    45   209    14\n",
       "3.0        40   108   216  3987    12   117    36    61   246   148\n",
       "4.0        12    39    23     0  3851    26    75    18   111   627\n",
       "5.0       138    63    36   638   138  3130    99    21    77   116\n",
       "6.0        46   127    83     3    38   159  4286     0    36     2\n",
       "7.0        21   108    45    13   121     6     2  4356    96   352\n",
       "8.0        62   172    83   375    47   127    31    15  3631   189\n",
       "9.0        41    71    26    63   347    27     2   186   139  3961"
      ]
     },
     "execution_count": 18,
     "metadata": {},
     "output_type": "execute_result"
    }
   ],
   "source": [
    "import pandas as pd\n",
    "pd.crosstab(y_train, BeriNB_mnist_pre,rownames=['label'],colnames=['predict'])"
   ]
  },
  {
   "cell_type": "markdown",
   "metadata": {},
   "source": [
    "# Step6 交叉驗證"
   ]
  },
  {
   "cell_type": "code",
   "execution_count": 20,
   "metadata": {},
   "outputs": [
    {
     "name": "stdout",
     "output_type": "stream",
     "text": [
      "[0.8374133  0.83420059 0.83222778 0.83496632 0.83363952]\n",
      "time:  0:00:02.643712\n"
     ]
    }
   ],
   "source": [
    "from sklearn.model_selection import cross_val_score\n",
    "import datetime\n",
    "starttime = datetime.datetime.now()\n",
    "\n",
    "score = cross_val_score(BernoulliNB_clf, X_train, y_train, cv=5, scoring=\"accuracy\")\n",
    "print(score)\n",
    "endtime = datetime.datetime.now()\n",
    "print ('time: ',(endtime-starttime))"
   ]
  },
  {
   "cell_type": "code",
   "execution_count": null,
   "metadata": {},
   "outputs": [],
   "source": []
  }
 ],
 "metadata": {
  "kernelspec": {
   "display_name": "Python 3",
   "language": "python",
   "name": "python3"
  },
  "language_info": {
   "codemirror_mode": {
    "name": "ipython",
    "version": 3
   },
   "file_extension": ".py",
   "mimetype": "text/x-python",
   "name": "python",
   "nbconvert_exporter": "python",
   "pygments_lexer": "ipython3",
   "version": "3.5.5"
  }
 },
 "nbformat": 4,
 "nbformat_minor": 2
}
