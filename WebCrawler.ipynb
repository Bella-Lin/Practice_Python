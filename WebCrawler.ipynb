{
 "cells": [
  {
   "cell_type": "markdown",
   "metadata": {},
   "source": [
    "# Google Map 1"
   ]
  },
  {
   "cell_type": "code",
   "execution_count": 22,
   "metadata": {},
   "outputs": [
    {
     "name": "stdout",
     "output_type": "stream",
     "text": [
      "200\n",
      "{'results': [{'address_components': [{'long_name': '1727',\n",
      "                                      'short_name': '1727',\n",
      "                                      'types': ['street_number']},\n",
      "                                     {'long_name': '台灣大道四段',\n",
      "                                      'short_name': '台灣大道四段',\n",
      "                                      'types': ['route']},\n",
      "                                     {'long_name': '西屯區',\n",
      "                                      'short_name': '西屯區',\n",
      "                                      'types': ['administrative_area_level_3',\n",
      "                                                'political']},\n",
      "                                     {'long_name': '台中市',\n",
      "                                      'short_name': '台中市',\n",
      "                                      'types': ['administrative_area_level_1',\n",
      "                                                'political']},\n",
      "                                     {'long_name': '台灣',\n",
      "                                      'short_name': 'TW',\n",
      "                                      'types': ['country', 'political']},\n",
      "                                     {'long_name': '407',\n",
      "                                      'short_name': '407',\n",
      "                                      'types': ['postal_code']}],\n",
      "              'formatted_address': '407台灣台中市西屯區台灣大道四段1727號',\n",
      "              'geometry': {'location': {'lat': 24.1824159, 'lng': 120.602728},\n",
      "                           'location_type': 'ROOFTOP',\n",
      "                           'viewport': {'northeast': {'lat': 24.1837648802915,\n",
      "                                                      'lng': 120.6040769802915},\n",
      "                                        'southwest': {'lat': 24.1810669197085,\n",
      "                                                      'lng': 120.6013790197085}}},\n",
      "              'place_id': 'ChIJXc3s1fUVaTQRUV1IHfVyj54',\n",
      "              'types': ['street_address']}],\n",
      " 'status': 'OK'}\n"
     ]
    },
    {
     "name": "stderr",
     "output_type": "stream",
     "text": [
      "C:\\Users\\USER\\Anaconda3\\lib\\site-packages\\bs4\\__init__.py:181: UserWarning: No parser was explicitly specified, so I'm using the best available HTML parser for this system (\"lxml\"). This usually isn't a problem, but if you run this code on another system, or in a different virtual environment, it may use a different parser and behave differently.\n",
      "\n",
      "The code that caused this warning is on line 193 of the file C:\\Users\\USER\\Anaconda3\\lib\\runpy.py. To get rid of this warning, change code that looks like this:\n",
      "\n",
      " BeautifulSoup(YOUR_MARKUP})\n",
      "\n",
      "to this:\n",
      "\n",
      " BeautifulSoup(YOUR_MARKUP, \"lxml\")\n",
      "\n",
      "  markup_type=markup_type))\n"
     ]
    }
   ],
   "source": [
    "import requests\n",
    "import json\n",
    "from pprint import pprint\n",
    "\n",
    "address = '台中市西屯區台灣大道四段1727號'\n",
    "\n",
    "url = 'http://maps.googleapis.com/maps/api/geocode/json?address={}&sensor=false&language=zh-tw'.format(address)\n",
    "res = requests.get(url)\n",
    "status= res.status_code\n",
    "soup = BS(res.text)\n",
    "str_data = json.loads(res.text)\n",
    "print(status)\n",
    "\n",
    "pprint(str_data)"
   ]
  },
  {
   "cell_type": "markdown",
   "metadata": {},
   "source": [
    "# Google Map 2"
   ]
  },
  {
   "cell_type": "code",
   "execution_count": 7,
   "metadata": {},
   "outputs": [
    {
     "name": "stdout",
     "output_type": "stream",
     "text": [
      "<html><body><p>{\n",
      "   \"results\" : [\n",
      "      {\n",
      "         \"address_components\" : [\n",
      "            {\n",
      "               \"long_name\" : \"1727\",\n",
      "               \"short_name\" : \"1727\",\n",
      "               \"types\" : [ \"street_number\" ]\n",
      "            },\n",
      "            {\n",
      "               \"long_name\" : \"台灣大道四段\",\n",
      "               \"short_name\" : \"台灣大道四段\",\n",
      "               \"types\" : [ \"route\" ]\n",
      "            },\n",
      "            {\n",
      "               \"long_name\" : \"西屯區\",\n",
      "               \"short_name\" : \"西屯區\",\n",
      "               \"types\" : [ \"administrative_area_level_3\", \"political\" ]\n",
      "            },\n",
      "            {\n",
      "               \"long_name\" : \"台中市\",\n",
      "               \"short_name\" : \"台中市\",\n",
      "               \"types\" : [ \"administrative_area_level_1\", \"political\" ]\n",
      "            },\n",
      "            {\n",
      "               \"long_name\" : \"台灣\",\n",
      "               \"short_name\" : \"TW\",\n",
      "               \"types\" : [ \"country\", \"political\" ]\n",
      "            },\n",
      "            {\n",
      "               \"long_name\" : \"407\",\n",
      "               \"short_name\" : \"407\",\n",
      "               \"types\" : [ \"postal_code\" ]\n",
      "            }\n",
      "         ],\n",
      "         \"formatted_address\" : \"407台灣台中市西屯區台灣大道四段1727號\",\n",
      "         \"geometry\" : {\n",
      "            \"location\" : {\n",
      "               \"lat\" : 24.1824159,\n",
      "               \"lng\" : 120.602728\n",
      "            },\n",
      "            \"location_type\" : \"ROOFTOP\",\n",
      "            \"viewport\" : {\n",
      "               \"northeast\" : {\n",
      "                  \"lat\" : 24.1837648802915,\n",
      "                  \"lng\" : 120.6040769802915\n",
      "               },\n",
      "               \"southwest\" : {\n",
      "                  \"lat\" : 24.1810669197085,\n",
      "                  \"lng\" : 120.6013790197085\n",
      "               }\n",
      "            }\n",
      "         },\n",
      "         \"place_id\" : \"ChIJXc3s1fUVaTQRUV1IHfVyj54\",\n",
      "         \"types\" : [ \"street_address\" ]\n",
      "      }\n",
      "   ],\n",
      "   \"status\" : \"OK\"\n",
      "}\n",
      "</p></body></html>\n"
     ]
    },
    {
     "name": "stderr",
     "output_type": "stream",
     "text": [
      "C:\\Users\\USER\\Anaconda3\\lib\\site-packages\\bs4\\__init__.py:181: UserWarning: No parser was explicitly specified, so I'm using the best available HTML parser for this system (\"lxml\"). This usually isn't a problem, but if you run this code on another system, or in a different virtual environment, it may use a different parser and behave differently.\n",
      "\n",
      "The code that caused this warning is on line 193 of the file C:\\Users\\USER\\Anaconda3\\lib\\runpy.py. To get rid of this warning, change code that looks like this:\n",
      "\n",
      " BeautifulSoup(YOUR_MARKUP})\n",
      "\n",
      "to this:\n",
      "\n",
      " BeautifulSoup(YOUR_MARKUP, \"lxml\")\n",
      "\n",
      "  markup_type=markup_type))\n"
     ]
    }
   ],
   "source": [
    "import requests\n",
    "from bs4 import BeautifulSoup as BS\n",
    "\n",
    "address = '台中市西屯區台灣大道四段1727號'\n",
    "\n",
    "url = 'http://maps.googleapis.com/maps/api/geocode/json?address={}&sensor=false&language=zh-tw'.format(address)\n",
    "res = requests.get(url)\n",
    "soup = BS(res.text)\n",
    "\n",
    "print(soup)"
   ]
  },
  {
   "cell_type": "markdown",
   "metadata": {},
   "source": [
    "# Google Play Store"
   ]
  },
  {
   "cell_type": "code",
   "execution_count": 25,
   "metadata": {},
   "outputs": [
    {
     "name": "stdout",
     "output_type": "stream",
     "text": [
      "https://play.google.com/store/apps/details?id=tw.TigerHuang.changelinetheme\n",
      "404\n"
     ]
    },
    {
     "name": "stderr",
     "output_type": "stream",
     "text": [
      "C:\\Users\\USER\\Anaconda3\\lib\\site-packages\\bs4\\__init__.py:181: UserWarning: No parser was explicitly specified, so I'm using the best available HTML parser for this system (\"lxml\"). This usually isn't a problem, but if you run this code on another system, or in a different virtual environment, it may use a different parser and behave differently.\n",
      "\n",
      "The code that caused this warning is on line 193 of the file C:\\Users\\USER\\Anaconda3\\lib\\runpy.py. To get rid of this warning, change code that looks like this:\n",
      "\n",
      " BeautifulSoup(YOUR_MARKUP})\n",
      "\n",
      "to this:\n",
      "\n",
      " BeautifulSoup(YOUR_MARKUP, \"lxml\")\n",
      "\n",
      "  markup_type=markup_type))\n"
     ]
    }
   ],
   "source": [
    "import requests\n",
    "from bs4 import BeautifulSoup as BS\n",
    "#https://play.google.com/store/apps/details?id=com.hyxen.app.RailTimeline\n",
    "pkg_name ='tw.TigerHuang.changelinetheme'\n",
    "plgs={'line':'jp.naver.line.android',\n",
    "       'fb':'com.facebook.orca',\n",
    "       'color':'com.oki.colorsnew',\n",
    "       'cammark':'cammark.topindustries.cammarkfree',\n",
    "       'TigerHuang':'tw.TigerHuang.changelinetheme'   \n",
    "      }\n",
    "url = 'https://play.google.com/store/apps/details?id={}'.format(pkg_name)\n",
    "print(url)\n",
    "res = requests.get(url)\n",
    "soup = BS(res.text)\n",
    "#print(soup)\n",
    "status= res.status_code\n",
    "print(status)"
   ]
  },
  {
   "cell_type": "code",
   "execution_count": null,
   "metadata": {},
   "outputs": [],
   "source": []
  }
 ],
 "metadata": {
  "kernelspec": {
   "display_name": "Python 3",
   "language": "python",
   "name": "python3"
  },
  "language_info": {
   "codemirror_mode": {
    "name": "ipython",
    "version": 3
   },
   "file_extension": ".py",
   "mimetype": "text/x-python",
   "name": "python",
   "nbconvert_exporter": "python",
   "pygments_lexer": "ipython3",
   "version": "3.6.4"
  }
 },
 "nbformat": 4,
 "nbformat_minor": 2
}
