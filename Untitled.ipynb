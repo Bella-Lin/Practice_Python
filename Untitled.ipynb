{
 "cells": [
  {
   "cell_type": "code",
   "execution_count": 4,
   "metadata": {},
   "outputs": [
    {
     "ename": "ModuleNotFoundError",
     "evalue": "No module named 'facebook'",
     "output_type": "error",
     "traceback": [
      "\u001b[1;31m---------------------------------------------------------------------------\u001b[0m",
      "\u001b[1;31mModuleNotFoundError\u001b[0m                       Traceback (most recent call last)",
      "\u001b[1;32m<ipython-input-4-2bb9db27875e>\u001b[0m in \u001b[0;36m<module>\u001b[1;34m()\u001b[0m\n\u001b[0;32m      4\u001b[0m \u001b[1;31m# IDE: Sublime Text\u001b[0m\u001b[1;33m\u001b[0m\u001b[1;33m\u001b[0m\u001b[0m\n\u001b[0;32m      5\u001b[0m \u001b[1;31m# facebook-sdk version 2.0.0\u001b[0m\u001b[1;33m\u001b[0m\u001b[1;33m\u001b[0m\u001b[0m\n\u001b[1;32m----> 6\u001b[1;33m \u001b[1;32mimport\u001b[0m \u001b[0mfacebook\u001b[0m\u001b[1;33m\u001b[0m\u001b[0m\n\u001b[0m\u001b[0;32m      7\u001b[0m \u001b[0mtoken\u001b[0m \u001b[1;33m=\u001b[0m \u001b[1;34m'EAACEdEose0cBAEjTMUZB5syivFg2TVZBFtyZA6wzm333PZCVZAxCqfjRmzYxovzxaoxrGWr3dDZCXKQGJQSsLiFgynyRUWxm3CpPSN6TUswZBGUQCrbewY4hBkZBNRpQySwiFHomYkqXasDlWkMU5H6OCu1beK9kRZChJYNr8GUrELstUZANG47IM7DPjZAgZAxgZCXcZD'\u001b[0m \u001b[1;31m#貼上前面拿到的Access token\u001b[0m\u001b[1;33m\u001b[0m\u001b[0m\n\u001b[0;32m      8\u001b[0m \u001b[0mgraph\u001b[0m \u001b[1;33m=\u001b[0m \u001b[0mfacebook\u001b[0m\u001b[1;33m.\u001b[0m\u001b[0mGraphAPI\u001b[0m\u001b[1;33m(\u001b[0m\u001b[0maccess_token\u001b[0m \u001b[1;33m=\u001b[0m \u001b[0mtoken\u001b[0m\u001b[1;33m)\u001b[0m \u001b[1;31m#套件會用你的token連接到facebook\u001b[0m\u001b[1;33m\u001b[0m\u001b[0m\n",
      "\u001b[1;31mModuleNotFoundError\u001b[0m: No module named 'facebook'"
     ]
    }
   ],
   "source": [
    "# Python 3.4\n",
    "# -*- coding: utf-8 -*-\n",
    "# OS: OS 10\n",
    "# IDE: Sublime Text\n",
    "# facebook-sdk version 2.0.0\n",
    "import facebook\n",
    "token = 'EAACEdEose0cBAEjTMUZB5syivFg2TVZBFtyZA6wzm333PZCVZAxCqfjRmzYxovzxaoxrGWr3dDZCXKQGJQSsLiFgynyRUWxm3CpPSN6TUswZBGUQCrbewY4hBkZBNRpQySwiFHomYkqXasDlWkMU5H6OCu1beK9kRZChJYNr8GUrELstUZANG47IM7DPjZAgZAxgZCXcZD' #貼上前面拿到的Access token\n",
    "graph = facebook.GraphAPI(access_token = token) #套件會用你的token連接到facebook\n",
    "fanpage_info = graph.get_object('pyladies.tw', field = 'id')  #指定拿pyladies.tw 這個粉專的id和讚數\n",
    "print(fanpage_info)  #印出來看看長什麼樣子，會是JSON格式的資料\n",
    "print(\"Fanpage id = \", fanpage_info['id'])\n"
   ]
  },
  {
   "cell_type": "code",
   "execution_count": null,
   "metadata": {},
   "outputs": [],
   "source": []
  }
 ],
 "metadata": {
  "kernelspec": {
   "display_name": "Python 3",
   "language": "python",
   "name": "python3"
  },
  "language_info": {
   "codemirror_mode": {
    "name": "ipython",
    "version": 3
   },
   "file_extension": ".py",
   "mimetype": "text/x-python",
   "name": "python",
   "nbconvert_exporter": "python",
   "pygments_lexer": "ipython3",
   "version": "3.6.4"
  }
 },
 "nbformat": 4,
 "nbformat_minor": 2
}
