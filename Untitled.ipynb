{
 "cells": [
  {
   "cell_type": "code",
   "execution_count": 66,
   "metadata": {},
   "outputs": [],
   "source": [
    "import csv\n",
    "csvData = [['Name of Person', 'Age'], ['Peter', '22'], ['Jasmine', '21'], ['Sam', '24']]\n",
    "\n",
    "with open('data/Writerow_List_person_test.csv', 'w') as csvFile:\n",
    "    writerFile = csv.writer(csvFile)\n",
    "    for res in csvData:\n",
    "        writerFile.writerow(res)\n",
    "csvFile.close()"
   ]
  },
  {
   "cell_type": "code",
   "execution_count": 75,
   "metadata": {},
   "outputs": [
    {
     "name": "stdout",
     "output_type": "stream",
     "text": [
      "<class '_csv.reader'>\n",
      "['Name of Person', 'Age']\n",
      "['Peter', '22']\n",
      "['Jasmine', '21']\n",
      "['Sam', '24']\n"
     ]
    }
   ],
   "source": [
    "import csv\n",
    "### reader  \n",
    "with open('data/Writerow_List_person_test.csv', 'r', newline = '\\n') as csvFile:\n",
    "    info = csv.reader(csvFile)\n",
    "    print(type(info))\n",
    "    for res in info:\n",
    "        print(res)            "
   ]
  },
  {
   "cell_type": "code",
   "execution_count": 73,
   "metadata": {},
   "outputs": [
    {
     "name": "stdout",
     "output_type": "stream",
     "text": [
      "Character and line based layer over a BufferedIOBase object, buffer.\n",
      "\n",
      "encoding gives the name of the encoding that the stream will be\n",
      "decoded or encoded with. It defaults to locale.getpreferredencoding(False).\n",
      "\n",
      "errors determines the strictness of encoding and decoding (see\n",
      "help(codecs.Codec) or the documentation for codecs.register) and\n",
      "defaults to \"strict\".\n",
      "\n",
      "newline controls how line endings are handled. It can be None, '',\n",
      "'\\n', '\\r', and '\\r\\n'.  It works as follows:\n",
      "\n",
      "* On input, if newline is None, universal newlines mode is\n",
      "  enabled. Lines in the input can end in '\\n', '\\r', or '\\r\\n', and\n",
      "  these are translated into '\\n' before being returned to the\n",
      "  caller. If it is '', universal newline mode is enabled, but line\n",
      "  endings are returned to the caller untranslated. If it has any of\n",
      "  the other legal values, input lines are only terminated by the given\n",
      "  string, and the line ending is returned to the caller untranslated.\n",
      "\n",
      "* On output, if newline is None, any '\\n' characters written are\n",
      "  translated to the system default line separator, os.linesep. If\n",
      "  newline is '' or '\\n', no translation takes place. If newline is any\n",
      "  of the other legal values, any '\\n' characters written are translated\n",
      "  to the given string.\n",
      "\n",
      "If line_buffering is True, a call to flush is implied when a call to\n",
      "write contains a newline character.\n"
     ]
    }
   ],
   "source": [
    "import csv\n",
    "csvData = [['Name of Person', 'Age'], ['Peter', '22'], ['Jasmine', '21'], ['Sam', '24']]\n",
    "\n",
    "with open('data/Writerow_List_person_test.csv', 'w',newline = '\\r') as csvFile:\n",
    "    writerFile = csv.writer(csvFile)\n",
    "    for res in csvData:\n",
    "        writerFile.writerow(res)\n",
    "csvFile.close()\n",
    "print((csvFile.__doc__))"
   ]
  },
  {
   "cell_type": "code",
   "execution_count": 85,
   "metadata": {},
   "outputs": [
    {
     "name": "stdout",
     "output_type": "stream",
     "text": [
      "On output, if newline is None, any '\\n' characters written are translated to the system default line separator, os.linesep. If newline is '' or '\\n'\n",
      "bella\r",
      "bella\n"
     ]
    }
   ],
   "source": [
    "a = \"On output, if newline is None, any \\'\\\\n\\' characters written are translated to the system default line separator, os.linesep. If newline is \\'\\' or \\'\\\\n\\'\"\n",
    "print((a))\n",
    "\n",
    "b = 'bella\\rbella'\n",
    "print((b))"
   ]
  },
  {
   "cell_type": "code",
   "execution_count": null,
   "metadata": {},
   "outputs": [],
   "source": []
  }
 ],
 "metadata": {
  "kernelspec": {
   "display_name": "Python 3",
   "language": "python",
   "name": "python3"
  },
  "language_info": {
   "codemirror_mode": {
    "name": "ipython",
    "version": 3
   },
   "file_extension": ".py",
   "mimetype": "text/x-python",
   "name": "python",
   "nbconvert_exporter": "python",
   "pygments_lexer": "ipython3",
   "version": "3.6.4"
  }
 },
 "nbformat": 4,
 "nbformat_minor": 2
}
