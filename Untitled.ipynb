{
 "cells": [
  {
   "cell_type": "markdown",
   "metadata": {},
   "source": [
    "# DataFrame 的操作"
   ]
  },
  {
   "cell_type": "code",
   "execution_count": 20,
   "metadata": {
    "scrolled": true
   },
   "outputs": [
    {
     "name": "stdout",
     "output_type": "stream",
     "text": [
      "    groups  num\n",
      "0   Movies   46\n",
      "1   Sports    8\n",
      "2   Coding   12\n",
      "3  Fishing   12\n",
      "4  Dancing    6\n",
      "5  cooking   58\n",
      "------------shape \n",
      "(6, 2)\n",
      "------------index \n",
      "RangeIndex(start=2, stop=6, step=1)\n",
      "------------columns \n",
      "Index(['groups', 'num'], dtype='object')\n",
      "------------info \n",
      "<bound method DataFrame.info of     groups  num\n",
      "0   Movies   46\n",
      "1   Sports    8\n",
      "2   Coding   12\n",
      "3  Fishing   12\n",
      "4  Dancing    6\n",
      "5  cooking   58>\n",
      "------------describe \n",
      "             num\n",
      "count   6.000000\n",
      "mean   23.666667\n",
      "std    22.393451\n",
      "min     6.000000\n",
      "25%     9.000000\n",
      "50%    12.000000\n",
      "75%    37.500000\n",
      "max    58.000000\n",
      "------------head \n",
      "   groups  num\n",
      "0  Movies   46\n",
      "1  Sports    8\n"
     ]
    }
   ],
   "source": [
    "import pandas as pd\n",
    "from pprint import pprint \n",
    "groups = [\"Movies\", \"Sports\", \"Coding\", \"Fishing\", \"Dancing\", \"cooking\"]  \n",
    "num = [46, 8, 12, 12, 6, 58]\n",
    "\n",
    "dict_data = pd.DataFrame({\"groups\": groups,  \n",
    "        \"num\": num\n",
    "        })\n",
    "pprint(dict_data)\n",
    "print('------------shape ')\n",
    "print(dict_data.shape)\n",
    "print('------------index ')\n",
    "print(dict_data[2::].index)\n",
    "print('------------columns ')\n",
    "print(dict_data.columns)\n",
    "print('------------info ')\n",
    "print(dict_data.info)\n",
    "print('------------describe ')\n",
    "print(dict_data.describe())\n",
    "print('------------head ')\n",
    "print(dict_data.head(2))\n"
   ]
  },
  {
   "cell_type": "code",
   "execution_count": 22,
   "metadata": {},
   "outputs": [
    {
     "name": "stdout",
     "output_type": "stream",
     "text": [
      "    groups  num\n",
      "0   Movies   46\n",
      "1   Sports    8\n",
      "2   Coding   12\n",
      "3  Fishing   12\n",
      "4  Dancing    6\n",
      "5  cooking   58\n"
     ]
    }
   ],
   "source": [
    "import pandas as pd\n",
    "\n",
    "groups = [\"Movies\", \"Sports\", \"Coding\", \"Fishing\", \"Dancing\", \"cooking\"]  \n",
    "num = [46, 8, 12, 12, 6, 58]\n",
    "\n",
    "dict_data = {\"groups\": groups,  \n",
    "        \"num\": num\n",
    "       }\n",
    "select_df = pd.DataFrame(dict_data)\n",
    "print(select_df)"
   ]
  },
  {
   "cell_type": "code",
   "execution_count": 32,
   "metadata": {},
   "outputs": [
    {
     "name": "stdout",
     "output_type": "stream",
     "text": [
      "---num\n",
      "0    46\n",
      "1     8\n",
      "2    12\n",
      "3    12\n",
      "4     6\n",
      "5    58\n",
      "Name: num, dtype: int64\n",
      "---num\n",
      "0    46\n",
      "1     8\n",
      "2    12\n",
      "3    12\n",
      "4     6\n",
      "5    58\n",
      "Name: num, dtype: int64\n",
      "---iloc\n",
      "   groups  num\n",
      "0  Movies   46\n"
     ]
    }
   ],
   "source": [
    "print(\"---num\")  \n",
    "print(select_df[\"num\"]) # 各組的人數  \n",
    "print(\"---num\")  \n",
    "print(select_df.num) # 各組的人數  \n",
    "print(\"---iloc\")  \n",
    "print(select_df.iloc[0:1,:]) \n",
    "print(\"---loc\")  \n",
    "print(select_df.loc[0:1,:]) "
   ]
  },
  {
   "cell_type": "markdown",
   "metadata": {},
   "source": [
    "# 用布林值來塞選"
   ]
  },
  {
   "cell_type": "code",
   "execution_count": null,
   "metadata": {},
   "outputs": [],
   "source": [
    "import pandas as pd\n",
    "groups = [\"Movies\", \"Sports\", \"Coding\", \"Fishing\", \"Dancing\", \"cooking\"]  \n",
    "num = [46, 8, 12, 12, 6, 58]\n",
    "\n",
    "tmp_dict = {'group':groups,\n",
    "           'num':num}\n",
    "select_df = pd.DataFrame(tmp_dict)\n",
    "print()"
   ]
  },
  {
   "cell_type": "code",
   "execution_count": 49,
   "metadata": {},
   "outputs": [
    {
     "name": "stdout",
     "output_type": "stream",
     "text": [
      "    groups  num\n",
      "0   Movies   46\n",
      "1   Sports    8\n",
      "2   Coding   12\n",
      "3  Fishing   12\n",
      "4  Dancing    6\n",
      "5  cooking   58\n",
      "------------------\n",
      "    groups  num\n",
      "4  Dancing    6\n",
      "1   Sports    8\n",
      "2   Coding   12\n",
      "3  Fishing   12\n",
      "0   Movies   46\n",
      "5  cooking   58\n",
      "------------------\n",
      "    groups  num\n",
      "4  Dancing    6\n",
      "1   Sports    8\n",
      "2   Coding   12\n",
      "3  Fishing   12\n",
      "0   Movies   46\n",
      "5  cooking   58\n"
     ]
    }
   ],
   "source": [
    "import pandas as pd # 引用套件並縮寫為 pd\n",
    "\n",
    "groups = [\"Movies\", \"Sports\", \"Coding\", \"Fishing\", \"Dancing\", \"cooking\"]  \n",
    "num = [46, 8, 12, 12, 6, 58]\n",
    "\n",
    "data_dict = {\"groups\": groups,  \n",
    "        \"num\": num\n",
    "        }\n",
    "\n",
    "select_df = pd.DataFrame(data_dict)\n",
    "print(select_df)\n",
    "print('------------------')\n",
    "print(select_df.sort_values(by ='num', ascending = True))\n",
    "print('------------------')\n",
    "print((select_df.sort_values(by ='num', ascending = True)))"
   ]
  },
  {
   "cell_type": "code",
   "execution_count": 54,
   "metadata": {},
   "outputs": [
    {
     "name": "stdout",
     "output_type": "stream",
     "text": [
      "<class 'pandas.core.frame.DataFrame'>\n",
      "   shop id shop name  maket size\n",
      "0        1  Wal mart   3000000.0\n",
      "1        2    Costco   2000000.0\n",
      "2        3       NaN   1500000.0\n",
      "3        4    Pchome    300000.0\n",
      "4        5     Yahoo         NaN\n"
     ]
    }
   ],
   "source": [
    "import pandas as pd\n",
    "df = pd.read_csv('data\\shop_list.csv') \n",
    "print(type(df))\n",
    "print(df)"
   ]
  },
  {
   "cell_type": "code",
   "execution_count": 52,
   "metadata": {},
   "outputs": [
    {
     "name": "stdout",
     "output_type": "stream",
     "text": [
      "0    False\n",
      "1    False\n",
      "2     True\n",
      "3    False\n",
      "4    False\n",
      "Name: shop name, dtype: bool\n"
     ]
    }
   ],
   "source": [
    "print(df.loc[:, \"shop name\"].isnull())"
   ]
  },
  {
   "cell_type": "code",
   "execution_count": 56,
   "metadata": {},
   "outputs": [
    {
     "name": "stdout",
     "output_type": "stream",
     "text": [
      "0     True\n",
      "1     True\n",
      "2     True\n",
      "3     True\n",
      "4    False\n",
      "Name: maket size, dtype: bool\n"
     ]
    }
   ],
   "source": [
    "print(df.loc[:, \"maket size\"].notnull()) "
   ]
  },
  {
   "cell_type": "code",
   "execution_count": 64,
   "metadata": {},
   "outputs": [
    {
     "name": "stdout",
     "output_type": "stream",
     "text": [
      "---data\n",
      "   shop id shop name  maket size\n",
      "0        1  Wal mart   3000000.0\n",
      "1        2    Costco   2000000.0\n",
      "2        3       NaN   1500000.0\n",
      "3        4    Pchome    300000.0\n",
      "4        5     Yahoo         NaN\n",
      "---有遺失值的觀測值都刪除 \n",
      "   shop id shop name  maket size\n",
      "0        1  Wal mart   3000000.0\n",
      "1        2    Costco   2000000.0\n",
      "3        4    Pchome    300000.0\n",
      "---有遺失值的觀測值填補 0\n",
      "   shop id shop name  maket size\n",
      "0        1  Wal mart   3000000.0\n",
      "1        2    Costco   2000000.0\n",
      "2        3         0   1500000.0\n",
      "3        4    Pchome    300000.0\n",
      "4        5     Yahoo         0.0\n"
     ]
    }
   ],
   "source": [
    "# 讀取 CSV File\n",
    "import pandas as pd # 引用套件並縮寫為 pd  \n",
    "df = pd.read_csv('data\\shop_list.csv')  \n",
    "print(\"---data\") \n",
    "print(df)\n",
    "drop_value = df.dropna()\n",
    "print(\"---有遺失值的觀測值都刪除 \") \n",
    "print(drop_value)\n",
    "print(\"---有遺失值的觀測值填補 0\")  \n",
    "filled_value = df.fillna(0) # 有遺失值的觀測值填補 0  \n",
    "print(filled_value)\n",
    " "
   ]
  },
  {
   "cell_type": "code",
   "execution_count": null,
   "metadata": {},
   "outputs": [],
   "source": []
  }
 ],
 "metadata": {
  "kernelspec": {
   "display_name": "Python 3",
   "language": "python",
   "name": "python3"
  },
  "language_info": {
   "codemirror_mode": {
    "name": "ipython",
    "version": 3
   },
   "file_extension": ".py",
   "mimetype": "text/x-python",
   "name": "python",
   "nbconvert_exporter": "python",
   "pygments_lexer": "ipython3",
   "version": "3.6.4"
  }
 },
 "nbformat": 4,
 "nbformat_minor": 2
}
