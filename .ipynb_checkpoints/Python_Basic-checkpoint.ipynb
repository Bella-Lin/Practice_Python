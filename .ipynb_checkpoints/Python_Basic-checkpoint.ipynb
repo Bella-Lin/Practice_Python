{
 "cells": [
  {
   "cell_type": "markdown",
   "metadata": {},
   "source": [
    "# Python has five standard data types"
   ]
  },
  {
   "cell_type": "markdown",
   "metadata": {},
   "source": [
    "## Strings "
   ]
  },
  {
   "cell_type": "code",
   "execution_count": 15,
   "metadata": {
    "collapsed": false
   },
   "outputs": [
    {
     "name": "stdout",
     "output_type": "stream",
     "text": [
      "Today\n",
      "Hello World!\n"
     ]
    }
   ],
   "source": [
    "sentance = 'Today is a good day!'\n",
    "print(sentance[0:5])\n",
    "\n",
    "sent1 = 'Hello '\n",
    "sent2 = 'World!'\n",
    "print(sent1+ sent2)"
   ]
  },
  {
   "cell_type": "code",
   "execution_count": 17,
   "metadata": {
    "collapsed": false
   },
   "outputs": [
    {
     "name": "stdout",
     "output_type": "stream",
     "text": [
      "Hello, Mark!\n",
      "Hi, Mark\n"
     ]
    }
   ],
   "source": [
    "name = 'Mark'\n",
    "print('Hello, {}!'.format(name))\n",
    "print('Hi, %s'%(name))"
   ]
  },
  {
   "cell_type": "code",
   "execution_count": 3,
   "metadata": {
    "collapsed": false
   },
   "outputs": [
    {
     "name": "stdout",
     "output_type": "stream",
     "text": [
      "(\"str.center(40, 'a') : \", 'aaaathis is string example....wow!!!aaaa')\n"
     ]
    }
   ],
   "source": [
    "str = \"this is string example....wow!!!\";\n",
    "print (\"str.center(40, 'a') : \", str.center(40, 'a'))"
   ]
  },
  {
   "cell_type": "code",
   "execution_count": 4,
   "metadata": {
    "collapsed": false
   },
   "outputs": [
    {
     "name": "stdout",
     "output_type": "stream",
     "text": [
      "True\n",
      "False\n"
     ]
    }
   ],
   "source": [
    "str = \"this2009\";  # No space in this string\n",
    "print (str.isalnum())\n",
    "\n",
    "str = \"this is string example....wow!!!\";\n",
    "print (str.isalnum())"
   ]
  },
  {
   "cell_type": "code",
   "execution_count": 5,
   "metadata": {
    "collapsed": false
   },
   "outputs": [
    {
     "name": "stdout",
     "output_type": "stream",
     "text": [
      "     this is string example....wow!!!\n",
      "this is string example....wow!!!     \n",
      "88888888this is string example....wow!!!\n"
     ]
    }
   ],
   "source": [
    "str = \"     this is string example....wow!!!     \";\n",
    "print (str.rstrip())\n",
    "str = \"     this is string example....wow!!!     \";\n",
    "print (str.lstrip())\n",
    "str = \"88888888this is string example....wow!!!8888888\";\n",
    "print (str.rstrip('8'))"
   ]
  },
  {
   "cell_type": "code",
   "execution_count": 6,
   "metadata": {
    "collapsed": false
   },
   "outputs": [
    {
     "name": "stdout",
     "output_type": "stream",
     "text": [
      "This Is String Example....Wow!!!\n"
     ]
    }
   ],
   "source": [
    "str = \"this is string example....wow!!!\";\n",
    "print (str.title())"
   ]
  },
  {
   "cell_type": "code",
   "execution_count": 7,
   "metadata": {
    "collapsed": false
   },
   "outputs": [
    {
     "name": "stdout",
     "output_type": "stream",
     "text": [
      "thwas was string example....wow!!! thwas was really string\n",
      "thwas was string example....wow!!! this is really string\n"
     ]
    }
   ],
   "source": [
    "str = \"this is string example....wow!!! this is really string\"\n",
    "print (str.replace(\"is\", \"was\"))\n",
    "print (str.replace(\"is\", \"was\", 2))"
   ]
  },
  {
   "cell_type": "code",
   "execution_count": 8,
   "metadata": {
    "collapsed": false
   },
   "outputs": [
    {
     "name": "stdout",
     "output_type": "stream",
     "text": [
      "12\n"
     ]
    }
   ],
   "source": [
    "str = 'Hello World!'\n",
    "print(len(str))"
   ]
  },
  {
   "cell_type": "markdown",
   "metadata": {},
   "source": [
    "## Numbers"
   ]
  },
  {
   "cell_type": "code",
   "execution_count": 9,
   "metadata": {
    "collapsed": false
   },
   "outputs": [
    {
     "name": "stdout",
     "output_type": "stream",
     "text": [
      "11\n"
     ]
    }
   ],
   "source": [
    "var1 = 1\n",
    "var2 = 10\n",
    "print(var1 + var2)"
   ]
  },
  {
   "cell_type": "code",
   "execution_count": 10,
   "metadata": {
    "collapsed": false
   },
   "outputs": [
    {
     "name": "stdout",
     "output_type": "stream",
     "text": [
      "45\n",
      "('math.ceil(-45.17) : ', -45.0)\n"
     ]
    }
   ],
   "source": [
    "import math\n",
    "print(abs(-45))\n",
    "print (\"math.ceil(-45.17) : \", math.ceil(-45.17))"
   ]
  },
  {
   "cell_type": "code",
   "execution_count": 14,
   "metadata": {
    "collapsed": false
   },
   "outputs": [
    {
     "name": "stdout",
     "output_type": "stream",
     "text": [
      "<type 'str'>\n",
      "<type 'int'>\n"
     ]
    }
   ],
   "source": [
    "var = '2'\n",
    "print(type(var))\n",
    "\n",
    "var1= int(var)\n",
    "print(type(var1))"
   ]
  },
  {
   "cell_type": "code",
   "execution_count": null,
   "metadata": {
    "collapsed": true
   },
   "outputs": [],
   "source": []
  }
 ],
 "metadata": {
  "kernelspec": {
   "display_name": "Python 2",
   "language": "python",
   "name": "python2"
  },
  "language_info": {
   "codemirror_mode": {
    "name": "ipython",
    "version": 2
   },
   "file_extension": ".py",
   "mimetype": "text/x-python",
   "name": "python",
   "nbconvert_exporter": "python",
   "pygments_lexer": "ipython2",
   "version": "2.7.11"
  }
 },
 "nbformat": 4,
 "nbformat_minor": 0
}
