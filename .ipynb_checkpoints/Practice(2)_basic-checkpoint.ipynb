{
 "cells": [
  {
   "cell_type": "markdown",
   "metadata": {},
   "source": [
    "## DecisionMaking / Loop/ Functions/ Excptions/ Files I/O)"
   ]
  },
  {
   "cell_type": "markdown",
   "metadata": {},
   "source": [
    "# Decision Making"
   ]
  },
  {
   "cell_type": "code",
   "execution_count": 1,
   "metadata": {},
   "outputs": [
    {
     "name": "stdout",
     "output_type": "stream",
     "text": [
      "Yes, She is a girl!\n"
     ]
    }
   ],
   "source": [
    "bella = 'girl'\n",
    "if bella == 'girl':\n",
    "    print('Yes, She is a girl!')\n",
    "else:\n",
    "    print('No, He is a boy!')\n",
    "    "
   ]
  },
  {
   "cell_type": "markdown",
   "metadata": {},
   "source": [
    "## Loop"
   ]
  },
  {
   "cell_type": "markdown",
   "metadata": {},
   "source": [
    "### list "
   ]
  },
  {
   "cell_type": "code",
   "execution_count": 21,
   "metadata": {},
   "outputs": [
    {
     "name": "stdout",
     "output_type": "stream",
     "text": [
      "0\n",
      "1\n",
      "2\n",
      "3\n",
      "4\n",
      "5\n",
      "---------------------\n",
      "<type 'list'>\n",
      "---------------------\n",
      "1\n",
      "2\n",
      "3\n",
      "4\n",
      "5\n",
      "6\n",
      "7\n",
      "8\n",
      "9\n"
     ]
    }
   ],
   "source": [
    "#http://www.runoob.com/python/python-func-range.html\n",
    "for num in [0,1,2,3,4,5]:\n",
    "    print(num)\n",
    "print('---------------------')\n",
    "print(type(range(1,10)))\n",
    "print('---------------------')\n",
    "for num in range(1,10):\n",
    "    print(num)"
   ]
  },
  {
   "cell_type": "markdown",
   "metadata": {},
   "source": [
    "### dict"
   ]
  },
  {
   "cell_type": "code",
   "execution_count": 76,
   "metadata": {},
   "outputs": [
    {
     "name": "stdout",
     "output_type": "stream",
     "text": [
      "Lisa | 85\n",
      "Paul | 75\n",
      "Adam | 95\n",
      "Bart | 59\n",
      "Bella | 95.5\n"
     ]
    }
   ],
   "source": [
    "var = {'Lisa': 85, 'Paul': 75, 'Adam': 95, 'Bart': 59, 'Bella': 95.5}\n",
    "for res in var:\n",
    "    print(res,'|', var[res])"
   ]
  },
  {
   "cell_type": "code",
   "execution_count": 16,
   "metadata": {},
   "outputs": [
    {
     "name": "stdout",
     "output_type": "stream",
     "text": [
      "[0, 3, 6, 9]\n",
      "[0, -1, -2, -3, -4, -5, -6, -7, -8, -9]\n"
     ]
    }
   ],
   "source": [
    "print(range(0, 10, 3))  # 步长为 3\n",
    "print(range(0, -10, -1)) # 负数"
   ]
  },
  {
   "cell_type": "markdown",
   "metadata": {},
   "source": [
    "##  DecisionMaking + Loop"
   ]
  },
  {
   "cell_type": "code",
   "execution_count": 2,
   "metadata": {},
   "outputs": [
    {
     "name": "stdout",
     "output_type": "stream",
     "text": [
      "res != 5\n",
      "res != 5\n",
      "res != 5\n",
      "res != 5\n",
      "res : 5\n",
      "res != 5\n",
      "res != 5\n",
      "res != 5\n",
      "res != 5\n"
     ]
    }
   ],
   "source": [
    "for res in range(1,10):\n",
    "    if res == 5:\n",
    "        print('res :', res)\n",
    "    else:\n",
    "        print('res != 5')"
   ]
  },
  {
   "cell_type": "markdown",
   "metadata": {},
   "source": [
    "## list 資料的判斷"
   ]
  },
  {
   "cell_type": "code",
   "execution_count": null,
   "metadata": {},
   "outputs": [],
   "source": [
    "people =['Bella', 'Lisa', 'Paul', 'Adam', 'Bart']\n",
    "if 'Bella' in people:\n",
    "    print('yes, Bella exists!')\n",
    "else:\n",
    "    print('no, Bella does not exists!')"
   ]
  },
  {
   "cell_type": "code",
   "execution_count": 77,
   "metadata": {},
   "outputs": [
    {
     "name": "stdout",
     "output_type": "stream",
     "text": [
      "yes, Bella exists!\n"
     ]
    }
   ],
   "source": [
    "people ={'Lisa': 85, 'Paul': 75, 'Adam': 95, 'Bart': 59, 'Bella': 95.5}\n",
    "if 'Bella' in people:\n",
    "    print('yes, Bella exists!')\n",
    "else:\n",
    "    print('no, Bella does not exists!')"
   ]
  },
  {
   "cell_type": "markdown",
   "metadata": {},
   "source": [
    "## While"
   ]
  },
  {
   "cell_type": "code",
   "execution_count": 11,
   "metadata": {},
   "outputs": [
    {
     "name": "stdout",
     "output_type": "stream",
     "text": [
      "1\n",
      "2\n",
      "3\n",
      "4\n",
      "5\n",
      "6\n",
      "7\n",
      "8\n",
      "9\n",
      "10\n"
     ]
    }
   ],
   "source": [
    "count = 0\n",
    "while count < 10:\n",
    "    count+=1\n",
    "    print(count)\n",
    "    "
   ]
  },
  {
   "cell_type": "code",
   "execution_count": 56,
   "metadata": {},
   "outputs": [
    {
     "name": "stdout",
     "output_type": "stream",
     "text": [
      "My Mom call me times: 1\n",
      "I do not care!\n",
      "---------------------------------------------------loop\n",
      "My Mom call me times: 2\n",
      "I do not care!\n",
      "---------------------------------------------------loop\n",
      "My Mom call me times: 3\n",
      "I stop sleeping and open your eyes!\n"
     ]
    }
   ],
   "source": [
    "status = 'Sleeping'\n",
    "count =0\n",
    "while status == 'Sleeping' :\n",
    "    count+=1\n",
    "    print ('My Mom call me times:', count)\n",
    "    \n",
    "    if count == 3:\n",
    "        status == 'wakeup'\n",
    "        break\n",
    "    \n",
    "    #if count == 2:\n",
    "    #    continue\n",
    "    print('I do not care!')\n",
    "    print('---------------------------------------------------loop')\n",
    "\n",
    "print('I stop sleeping and open your eyes!')"
   ]
  },
  {
   "cell_type": "markdown",
   "metadata": {},
   "source": [
    "## Function   "
   ]
  },
  {
   "cell_type": "code",
   "execution_count": 64,
   "metadata": {},
   "outputs": [],
   "source": [
    "def greet():\n",
    "    print('Good Morninig!')"
   ]
  },
  {
   "cell_type": "code",
   "execution_count": 65,
   "metadata": {},
   "outputs": [
    {
     "name": "stdout",
     "output_type": "stream",
     "text": [
      "Good Morninig!\n"
     ]
    }
   ],
   "source": [
    "greet()"
   ]
  },
  {
   "cell_type": "code",
   "execution_count": 10,
   "metadata": {},
   "outputs": [
    {
     "name": "stdout",
     "output_type": "stream",
     "text": [
      "Good Morinig!\n",
      "Good Morinig!\n",
      "Good Morinig!\n",
      "Good Morinig!\n",
      "Good Morinig!\n"
     ]
    }
   ],
   "source": [
    "for res in range(0,5):\n",
    "    great()"
   ]
  },
  {
   "cell_type": "markdown",
   "metadata": {},
   "source": [
    "## 傳入參數"
   ]
  },
  {
   "cell_type": "code",
   "execution_count": 66,
   "metadata": {},
   "outputs": [],
   "source": [
    "def greetingToSomeone(name):\n",
    "    print('Good Morninig!{}! :)'.format(name))"
   ]
  },
  {
   "cell_type": "code",
   "execution_count": 67,
   "metadata": {},
   "outputs": [
    {
     "name": "stdout",
     "output_type": "stream",
     "text": [
      "Good Morninig!Bella! :)\n"
     ]
    }
   ],
   "source": [
    "greetingToSomeone('Bella')"
   ]
  },
  {
   "cell_type": "markdown",
   "metadata": {},
   "source": [
    "## 傳回值"
   ]
  },
  {
   "cell_type": "code",
   "execution_count": 68,
   "metadata": {},
   "outputs": [],
   "source": [
    "def diy_add(a,b):\n",
    "    return a+b"
   ]
  },
  {
   "cell_type": "code",
   "execution_count": 69,
   "metadata": {},
   "outputs": [
    {
     "data": {
      "text/plain": [
       "8"
      ]
     },
     "execution_count": 69,
     "metadata": {},
     "output_type": "execute_result"
    }
   ],
   "source": [
    "diy_add(3,5)  "
   ]
  },
  {
   "cell_type": "markdown",
   "metadata": {},
   "source": [
    "## Exceptions"
   ]
  },
  {
   "cell_type": "markdown",
   "metadata": {},
   "source": [
    "#exceptions 種類 \n",
    "#https://www.tutorialspoint.com/python3/python_exceptions.htm"
   ]
  },
  {
   "cell_type": "code",
   "execution_count": 71,
   "metadata": {},
   "outputs": [
    {
     "ename": "KeyError",
     "evalue": "'c'",
     "output_type": "error",
     "traceback": [
      "\u001b[1;31m---------------------------------------------------------------------------\u001b[0m",
      "\u001b[1;31mKeyError\u001b[0m                                  Traceback (most recent call last)",
      "\u001b[1;32m<ipython-input-71-71d324ac7b8c>\u001b[0m in \u001b[0;36m<module>\u001b[1;34m()\u001b[0m\n\u001b[0;32m      1\u001b[0m \u001b[0mtest\u001b[0m \u001b[1;33m=\u001b[0m \u001b[1;33m{\u001b[0m\u001b[1;34m'a'\u001b[0m\u001b[1;33m:\u001b[0m\u001b[1;34m'apple'\u001b[0m\u001b[1;33m,\u001b[0m\u001b[1;34m'b'\u001b[0m\u001b[1;33m:\u001b[0m\u001b[1;34m'banana'\u001b[0m\u001b[1;33m}\u001b[0m\u001b[1;33m\u001b[0m\u001b[0m\n\u001b[1;32m----> 2\u001b[1;33m \u001b[0mprint\u001b[0m\u001b[1;33m(\u001b[0m\u001b[0mtest\u001b[0m\u001b[1;33m[\u001b[0m\u001b[1;34m'c'\u001b[0m\u001b[1;33m]\u001b[0m\u001b[1;33m)\u001b[0m\u001b[1;33m\u001b[0m\u001b[0m\n\u001b[0m",
      "\u001b[1;31mKeyError\u001b[0m: 'c'"
     ]
    }
   ],
   "source": [
    "test = {'a':'apple','b':'banana'}\n",
    "print(test['c'])"
   ]
  },
  {
   "cell_type": "code",
   "execution_count": 72,
   "metadata": {},
   "outputs": [
    {
     "name": "stdout",
     "output_type": "stream",
     "text": [
      "there is no key c!\n"
     ]
    }
   ],
   "source": [
    "try:\n",
    "    print(test['c'])\n",
    "except KeyError:\n",
    "    print('there is no key c!')"
   ]
  },
  {
   "cell_type": "markdown",
   "metadata": {},
   "source": [
    "## I/O"
   ]
  },
  {
   "cell_type": "markdown",
   "metadata": {},
   "source": [
    "## CSV for  List"
   ]
  },
  {
   "cell_type": "code",
   "execution_count": 20,
   "metadata": {},
   "outputs": [],
   "source": [
    "import csv\n",
    "### writer \n",
    "csvData = [['Name of Person', 'Age'], ['Peter', '22'], ['Jasmine', '21'], ['Sam', '24']]\n",
    "\n",
    "with open('data/Writerow_List_person.csv', 'w') as csvFile:\n",
    "    writerFile = csv.writer(csvFile)\n",
    "    for res in csvData:\n",
    "        writer.writerow(res)\n",
    "\n",
    "csvFile.close()"
   ]
  },
  {
   "cell_type": "code",
   "execution_count": 21,
   "metadata": {},
   "outputs": [
    {
     "name": "stdout",
     "output_type": "stream",
     "text": [
      "['Name of Person', 'Age']\n",
      "[]\n",
      "['Peter', '22']\n",
      "[]\n",
      "['Jasmine', '21']\n",
      "[]\n",
      "['Sam', '24']\n",
      "[]\n"
     ]
    }
   ],
   "source": [
    "import csv\n",
    "### reader  \n",
    "csvData = [['Name of Person', 'Age'], ['Peter', '22'], ['Jasmine', '21'], ['Sam', '24']]\n",
    "\n",
    "with open('data/Writerow_List_person.csv', 'r') as csvFile:\n",
    "    info = csv.reader(csvFile)\n",
    "    for res in info:\n",
    "        print(res)\n",
    "\n",
    "csvFile.close()"
   ]
  },
  {
   "cell_type": "markdown",
   "metadata": {},
   "source": [
    "## 去掉空行"
   ]
  },
  {
   "cell_type": "code",
   "execution_count": 26,
   "metadata": {},
   "outputs": [],
   "source": [
    "import csv\n",
    "### writer\n",
    "with open('data/Writerow_List_person_newline.csv', 'w', newline='') as csvFile:\n",
    "    writer = csv.writer(csvFile)\n",
    "    for res in csvData:\n",
    "        writer.writerow(res)\n",
    "\n",
    "csvFile.close()"
   ]
  },
  {
   "cell_type": "code",
   "execution_count": 27,
   "metadata": {},
   "outputs": [
    {
     "name": "stdout",
     "output_type": "stream",
     "text": [
      "['Name of Person', 'Age']\n",
      "['Peter', '22']\n",
      "['Jasmine', '21']\n",
      "['Sam', '24']\n"
     ]
    }
   ],
   "source": [
    "import csv\n",
    "### reader  \n",
    "with open('data/Writerow_List_person_newline.csv', 'r') as csvFile:\n",
    "    info = csv.reader(csvFile)\n",
    "    for res in info:\n",
    "        print(res)\n",
    "\n",
    "csvFile.close()"
   ]
  },
  {
   "cell_type": "markdown",
   "metadata": {},
   "source": [
    "## 資料全部一起寫入"
   ]
  },
  {
   "cell_type": "code",
   "execution_count": 3,
   "metadata": {},
   "outputs": [],
   "source": [
    "import csv\n",
    "### writer\n",
    "csvData = [['Name of Person', 'Age'], ['Peter', '22'], ['Jasmine', '21'], ['Sam', '24']]\n",
    "\n",
    "with open('data/Writerows_List_person_newline.csv', 'w', newline='') as csvFile:\n",
    "    writer = csv.writer(csvFile)\n",
    "    writer.writerows(csvData)\n",
    "\n",
    "\n",
    "csvFile.close()"
   ]
  },
  {
   "cell_type": "code",
   "execution_count": 39,
   "metadata": {},
   "outputs": [
    {
     "name": "stdout",
     "output_type": "stream",
     "text": [
      "['Name of Person', 'Age']\n",
      "['Peter', '22']\n",
      "['Jasmine', '21']\n",
      "['Sam', '24']\n"
     ]
    }
   ],
   "source": [
    "import csv\n",
    "### reader \n",
    "with open('data/Writerows_List_person_newline.csv', 'r') as csvFile:\n",
    "    info = csv.reader(csvFile)\n",
    "    for res in info:\n",
    "        print(res)\n",
    "\n",
    "csvFile.close()"
   ]
  },
  {
   "cell_type": "code",
   "execution_count": null,
   "metadata": {},
   "outputs": [],
   "source": [
    "#Homework \n",
    "num = input('input a number 0-9:')\n",
    "print(num)"
   ]
  },
  {
   "cell_type": "code",
   "execution_count": null,
   "metadata": {},
   "outputs": [],
   "source": []
  }
 ],
 "metadata": {
  "kernelspec": {
   "display_name": "Python 3",
   "language": "python",
   "name": "python3"
  },
  "language_info": {
   "codemirror_mode": {
    "name": "ipython",
    "version": 3
   },
   "file_extension": ".py",
   "mimetype": "text/x-python",
   "name": "python",
   "nbconvert_exporter": "python",
   "pygments_lexer": "ipython3",
   "version": "3.6.4"
  }
 },
 "nbformat": 4,
 "nbformat_minor": 1
}
