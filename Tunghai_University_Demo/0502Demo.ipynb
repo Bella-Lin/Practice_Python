{
 "cells": [
  {
   "cell_type": "markdown",
   "metadata": {},
   "source": [
    "# * Today slide:* \n",
    "https://1drv.ms/p/s!AtHC29ugQ142hfJLMX4ZWuzymU6WVg\n",
    "(要載要快喔!不然30天後過期)\n"
   ]
  },
  {
   "cell_type": "markdown",
   "metadata": {},
   "source": [
    "*如果有問題要我,請mail給我! jiahuilin0106@gmail.com\n",
    "(加油~)*\n",
    "*隨堂測驗也有放上答案，歡迎參考，不一定我的寫法是絕對寫法，方法有很多種*"
   ]
  },
  {
   "cell_type": "markdown",
   "metadata": {},
   "source": [
    "# Numpy"
   ]
  },
  {
   "cell_type": "code",
   "execution_count": 6,
   "metadata": {},
   "outputs": [],
   "source": [
    "import numpy as np\n",
    "a = np.array([1, 2, 3])   # Create a rank 1 array"
   ]
  },
  {
   "cell_type": "code",
   "execution_count": 10,
   "metadata": {},
   "outputs": [
    {
     "name": "stdout",
     "output_type": "stream",
     "text": [
      "<class 'numpy.ndarray'>\n",
      "1\n",
      "(3,)\n"
     ]
    }
   ],
   "source": [
    "print(type(a))\n",
    "print(a.ndim)\n",
    "print(a.shape)  "
   ]
  },
  {
   "cell_type": "code",
   "execution_count": 16,
   "metadata": {},
   "outputs": [
    {
     "name": "stdout",
     "output_type": "stream",
     "text": [
      "2\n",
      "(2, 3)\n",
      "[4 5 6]\n"
     ]
    }
   ],
   "source": [
    "b = np.array([[1,2,3],[4,5,6]])\n",
    "print(b.ndim)\n",
    "print(b.shape)  \n",
    "print(b[1])"
   ]
  },
  {
   "cell_type": "code",
   "execution_count": 19,
   "metadata": {},
   "outputs": [
    {
     "name": "stdout",
     "output_type": "stream",
     "text": [
      "[[[ 1  2  3  4]\n",
      "  [ 5  6  7  8]]\n",
      "\n",
      " [[ 1  2  3  4]\n",
      "  [ 9 10 11 12]]]\n",
      "array([[[ 1,  2,  3,  4],\n",
      "        [ 5,  6,  7,  8]],\n",
      "\n",
      "       [[ 1,  2,  3,  4],\n",
      "        [ 9, 10, 11, 12]]])\n"
     ]
    }
   ],
   "source": [
    "from pprint import pprint \n",
    "c = np.array([[[ 1 , 2 , 3 , 4] ,[ 5 , 6 , 7 , 8]],[[ 1,  2,  3 , 4],[ 9 ,10 ,11 ,12]]])\n",
    "print(c)\n",
    "pprint(c)"
   ]
  },
  {
   "cell_type": "code",
   "execution_count": 23,
   "metadata": {},
   "outputs": [
    {
     "name": "stdout",
     "output_type": "stream",
     "text": [
      "[[1 1]\n",
      " [1 1]]\n",
      "[[2 2]\n",
      " [2 2]]\n"
     ]
    }
   ],
   "source": [
    "from pprint import pprint\n",
    "a = np.array([[1,1],[1,1]])\n",
    "b = np.array([[2,2],[2,2]])\n",
    "print(a)\n",
    "print(b)"
   ]
  },
  {
   "cell_type": "code",
   "execution_count": 28,
   "metadata": {},
   "outputs": [
    {
     "name": "stdout",
     "output_type": "stream",
     "text": [
      "---------------------\n",
      "[[0.5 0.5]\n",
      " [0.5 0.5]]\n",
      "---------------------\n",
      "[[4 4]\n",
      " [4 4]]\n",
      "---------------------\n",
      "[[2 2]\n",
      " [2 2]]\n"
     ]
    }
   ],
   "source": [
    "print('---------------------')\n",
    "print(a/b)\n",
    "print('---------------------')\n",
    "print(a.dot(b))\n",
    "print('---------------------')\n",
    "print(a*(b))"
   ]
  },
  {
   "cell_type": "code",
   "execution_count": 30,
   "metadata": {},
   "outputs": [
    {
     "name": "stdout",
     "output_type": "stream",
     "text": [
      "<class 'numpy.ndarray'>\n"
     ]
    }
   ],
   "source": [
    "print(type(a))"
   ]
  },
  {
   "cell_type": "markdown",
   "metadata": {},
   "source": [
    "# Pandas"
   ]
  },
  {
   "cell_type": "code",
   "execution_count": 33,
   "metadata": {},
   "outputs": [
    {
     "name": "stdout",
     "output_type": "stream",
     "text": [
      "[['Movies', 46], ['Sports', 8], ['Coding', 12], ['Fishing', 12], ['Dancing', 6], ['cooking', 8]]\n",
      "      name  numCount\n",
      "0   Movies        46\n",
      "1   Sports         8\n",
      "2   Coding        12\n",
      "3  Fishing        12\n",
      "4  Dancing         6\n",
      "5  cooking         8\n"
     ]
    }
   ],
   "source": [
    "#list\n",
    "import pandas as pd\n",
    "shop_arr = [[\"Movies\", 46],[\"Sports\", 8], [\"Coding\", 12], [\"Fishing\",12], [\"Dancing\",6], [\"cooking\",8]]\n",
    "print(shop_arr)\n",
    "df = pd.DataFrame(shop_arr, columns = [\"name\", \"numCount\"]) # 指定欄標籤名稱  \n",
    "print(df)"
   ]
  },
  {
   "cell_type": "code",
   "execution_count": 34,
   "metadata": {},
   "outputs": [
    {
     "name": "stdout",
     "output_type": "stream",
     "text": [
      "{'groups': ['Movies', 'Sports', 'Coding', 'Fishing', 'Dancing', 'cooking'], 'num': [46, 8, 12, 12, 6, 58]}\n",
      "    groups  num\n",
      "0   Movies   46\n",
      "1   Sports    8\n",
      "2   Coding   12\n",
      "3  Fishing   12\n",
      "4  Dancing    6\n",
      "5  cooking   58\n"
     ]
    }
   ],
   "source": [
    "groups = [\"Movies\", \"Sports\", \"Coding\", \"Fishing\", \"Dancing\", \"cooking\"]  \n",
    "num = [46, 8, 12, 12, 6, 58]\n",
    "shopping_dict = {\"groups\": groups,  \n",
    "        \"num\": num\n",
    "       }\n",
    "print(shopping_dict)\n",
    "dict_df = pd.DataFrame(shopping_dict)\n",
    "print(dict_df)"
   ]
  },
  {
   "cell_type": "code",
   "execution_count": 35,
   "metadata": {},
   "outputs": [
    {
     "name": "stdout",
     "output_type": "stream",
     "text": [
      "0     Movies\n",
      "1     Sports\n",
      "2     Coding\n",
      "3    Fishing\n",
      "4    Dancing\n",
      "5    cooking\n",
      "Name: groups, dtype: object\n"
     ]
    }
   ],
   "source": [
    "print(dict_df['groups'])"
   ]
  },
  {
   "cell_type": "code",
   "execution_count": 36,
   "metadata": {},
   "outputs": [
    {
     "name": "stdout",
     "output_type": "stream",
     "text": [
      "部分印出groups欄位\n",
      "    groups  num\n",
      "2   Coding   12\n",
      "3  Fishing   12\n"
     ]
    }
   ],
   "source": [
    "print('部分印出groups欄位')\n",
    "print(dict_df.loc[2:3])"
   ]
  },
  {
   "cell_type": "code",
   "execution_count": 37,
   "metadata": {},
   "outputs": [
    {
     "name": "stdout",
     "output_type": "stream",
     "text": [
      "0     True\n",
      "1    False\n",
      "2    False\n",
      "3    False\n",
      "4    False\n",
      "5     True\n",
      "Name: num, dtype: bool\n"
     ]
    }
   ],
   "source": [
    "print(dict_df['num']>12)"
   ]
  },
  {
   "cell_type": "code",
   "execution_count": 39,
   "metadata": {},
   "outputs": [
    {
     "data": {
      "text/plain": [
       "['',\n",
       " 'C:\\\\Users\\\\USER\\\\Anaconda3\\\\envs\\\\myenv\\\\python35.zip',\n",
       " 'C:\\\\Users\\\\USER\\\\Anaconda3\\\\envs\\\\myenv\\\\DLLs',\n",
       " 'C:\\\\Users\\\\USER\\\\Anaconda3\\\\envs\\\\myenv\\\\lib',\n",
       " 'C:\\\\Users\\\\USER\\\\Anaconda3\\\\envs\\\\myenv',\n",
       " 'C:\\\\Users\\\\USER\\\\Anaconda3\\\\envs\\\\myenv\\\\lib\\\\site-packages',\n",
       " 'C:\\\\Users\\\\USER\\\\Anaconda3\\\\envs\\\\myenv\\\\lib\\\\site-packages\\\\IPython\\\\extensions',\n",
       " 'C:\\\\Users\\\\USER\\\\.ipython']"
      ]
     },
     "execution_count": 39,
     "metadata": {},
     "output_type": "execute_result"
    }
   ],
   "source": [
    "import sys\n",
    "sys.path"
   ]
  },
  {
   "cell_type": "code",
   "execution_count": 45,
   "metadata": {
    "scrolled": true
   },
   "outputs": [
    {
     "name": "stdout",
     "output_type": "stream",
     "text": [
      "   shop id shop name  maket size\n",
      "0        1  Wal mart   3000000.0\n",
      "1        2    Costco   2000000.0\n",
      "2        3       NaN   1500000.0\n",
      "3        4    Pchome    300000.0\n",
      "4        5     Yahoo         NaN\n"
     ]
    }
   ],
   "source": [
    "# 讀取 CSV File\n",
    "import pandas as pd # 引用套件並縮寫為 pd  \n",
    "#df = pd.read_csv('C:\\\\Users\\\\USER\\\\data\\\\shop_list.csv')  \n",
    "df = pd.read_csv('C:\\\\Users\\\\USER\\\\Practice_Python\\\\data\\\\shop_list.csv')  \n",
    "print(df)"
   ]
  },
  {
   "cell_type": "code",
   "execution_count": 46,
   "metadata": {
    "scrolled": true
   },
   "outputs": [
    {
     "name": "stdout",
     "output_type": "stream",
     "text": [
      "   shop id  shop name  maket size\n",
      "0    False      False       False\n",
      "1    False      False       False\n",
      "2    False       True       False\n",
      "3    False      False       False\n",
      "4    False      False        True\n"
     ]
    }
   ],
   "source": [
    "print(df.isnull()) # 判斷哪些店名是遺失值"
   ]
  },
  {
   "cell_type": "code",
   "execution_count": 47,
   "metadata": {},
   "outputs": [
    {
     "name": "stdout",
     "output_type": "stream",
     "text": [
      "---依欄位填補遺失值\n",
      "   shop id shop name  maket size\n",
      "0        1  Wal mart   3000000.0\n",
      "1        2    Costco   2000000.0\n",
      "2        3         0   1500000.0\n",
      "3        4    Pchome    300000.0\n",
      "4        5     Yahoo         0.0\n"
     ]
    }
   ],
   "source": [
    "print(\"---依欄位填補遺失值\")  \n",
    "filled_value = df.fillna(0) # 有遺失值的觀測值填補 0  \n",
    "print(filled_value)\n"
   ]
  },
  {
   "cell_type": "code",
   "execution_count": 48,
   "metadata": {},
   "outputs": [
    {
     "data": {
      "text/html": [
       "<div>\n",
       "<style scoped>\n",
       "    .dataframe tbody tr th:only-of-type {\n",
       "        vertical-align: middle;\n",
       "    }\n",
       "\n",
       "    .dataframe tbody tr th {\n",
       "        vertical-align: top;\n",
       "    }\n",
       "\n",
       "    .dataframe thead th {\n",
       "        text-align: right;\n",
       "    }\n",
       "</style>\n",
       "<table border=\"1\" class=\"dataframe\">\n",
       "  <thead>\n",
       "    <tr style=\"text-align: right;\">\n",
       "      <th></th>\n",
       "      <th>shop id</th>\n",
       "      <th>shop name</th>\n",
       "      <th>maket size</th>\n",
       "    </tr>\n",
       "  </thead>\n",
       "  <tbody>\n",
       "    <tr>\n",
       "      <th>0</th>\n",
       "      <td>1</td>\n",
       "      <td>Wal mart</td>\n",
       "      <td>3000000.0</td>\n",
       "    </tr>\n",
       "    <tr>\n",
       "      <th>1</th>\n",
       "      <td>2</td>\n",
       "      <td>Costco</td>\n",
       "      <td>2000000.0</td>\n",
       "    </tr>\n",
       "    <tr>\n",
       "      <th>2</th>\n",
       "      <td>3</td>\n",
       "      <td>NaN</td>\n",
       "      <td>1500000.0</td>\n",
       "    </tr>\n",
       "    <tr>\n",
       "      <th>3</th>\n",
       "      <td>4</td>\n",
       "      <td>Pchome</td>\n",
       "      <td>300000.0</td>\n",
       "    </tr>\n",
       "    <tr>\n",
       "      <th>4</th>\n",
       "      <td>5</td>\n",
       "      <td>Yahoo</td>\n",
       "      <td>NaN</td>\n",
       "    </tr>\n",
       "  </tbody>\n",
       "</table>\n",
       "</div>"
      ],
      "text/plain": [
       "   shop id shop name  maket size\n",
       "0        1  Wal mart   3000000.0\n",
       "1        2    Costco   2000000.0\n",
       "2        3       NaN   1500000.0\n",
       "3        4    Pchome    300000.0\n",
       "4        5     Yahoo         NaN"
      ]
     },
     "execution_count": 48,
     "metadata": {},
     "output_type": "execute_result"
    }
   ],
   "source": [
    "df"
   ]
  },
  {
   "cell_type": "code",
   "execution_count": 49,
   "metadata": {},
   "outputs": [
    {
     "name": "stdout",
     "output_type": "stream",
     "text": [
      "---有遺失值的觀測值都刪除 \n",
      "   shop id shop name  maket size\n",
      "0        1  Wal mart   3000000.0\n",
      "1        2    Costco   2000000.0\n",
      "3        4    Pchome    300000.0\n"
     ]
    }
   ],
   "source": [
    "print(\"---有遺失值的觀測值都刪除 \")  \n",
    "drop_value = df.dropna() # 有遺失值的觀測值都刪除  \n",
    "print(drop_value)"
   ]
  },
  {
   "cell_type": "code",
   "execution_count": 55,
   "metadata": {
    "scrolled": true
   },
   "outputs": [],
   "source": [
    "# 寫入 CSV File\n",
    "columns = ['shop id' ,'shop name' , 'maket size']\n",
    "writer_df = pd.DataFrame(filled_value, columns=columns)\n",
    "#writer_df.to_csv(\"C:\\\\Users\\\\USER\\\\Practice_Python\\\\data\\\\RE_shop_list.csv\", index=False) #絕對路徑\n",
    "writer_df.to_csv(\"..\\\\data\\\\RE_shop_list.csv\", index=False) #相對路徑"
   ]
  },
  {
   "cell_type": "markdown",
   "metadata": {},
   "source": [
    "# NaiveBayes"
   ]
  },
  {
   "cell_type": "code",
   "execution_count": 56,
   "metadata": {},
   "outputs": [
    {
     "data": {
      "text/plain": [
       "{'COL_NAMES': ['label', 'data'],\n",
       " 'DESCR': 'mldata.org dataset: mnist-original',\n",
       " 'data': array([[0, 0, 0, ..., 0, 0, 0],\n",
       "        [0, 0, 0, ..., 0, 0, 0],\n",
       "        [0, 0, 0, ..., 0, 0, 0],\n",
       "        ...,\n",
       "        [0, 0, 0, ..., 0, 0, 0],\n",
       "        [0, 0, 0, ..., 0, 0, 0],\n",
       "        [0, 0, 0, ..., 0, 0, 0]], dtype=uint8),\n",
       " 'target': array([0., 0., 0., ..., 9., 9., 9.])}"
      ]
     },
     "execution_count": 56,
     "metadata": {},
     "output_type": "execute_result"
    }
   ],
   "source": [
    "from sklearn.datasets import fetch_mldata\n",
    "mnist=fetch_mldata('MNIST original')\n",
    "mnist"
   ]
  },
  {
   "cell_type": "code",
   "execution_count": 57,
   "metadata": {},
   "outputs": [
    {
     "name": "stdout",
     "output_type": "stream",
     "text": [
      "(70000, 784)\n",
      "(70000,)\n"
     ]
    }
   ],
   "source": [
    "X, y = mnist[\"data\"], mnist[\"target\"]\n",
    "print(X.shape)\n",
    "print(y.shape)"
   ]
  },
  {
   "cell_type": "markdown",
   "metadata": {},
   "source": [
    "# 印出一張圖片"
   ]
  },
  {
   "cell_type": "code",
   "execution_count": 58,
   "metadata": {},
   "outputs": [
    {
     "name": "stdout",
     "output_type": "stream",
     "text": [
      "784\n",
      "<class 'numpy.ndarray'>\n",
      "<class 'numpy.ndarray'>\n"
     ]
    },
    {
     "data": {
      "image/png": "[encoded data removed]",
      "text/plain": [
       "<Figure size 432x288 with 1 Axes>"
      ]
     },
     "metadata": {},
     "output_type": "display_data"
    }
   ],
   "source": [
    "%matplotlib inline\n",
    "import matplotlib\n",
    "import matplotlib.pyplot as plt\n",
    "\n",
    "some_digit = mnist['data'][0]\n",
    "print(len(some_digit))\n",
    "\n",
    "print(type(some_digit))\n",
    "some_digit_image = some_digit.reshape(28, 28)\n",
    "print(type(some_digit_image))\n",
    "\n",
    "plt.imshow(some_digit_image, cmap = matplotlib.cm.binary,\n",
    "           interpolation=\"nearest\")\n",
    "#plt.axis(\"off\")\n",
    "\n",
    "plt.show()"
   ]
  },
  {
   "cell_type": "code",
   "execution_count": 59,
   "metadata": {},
   "outputs": [],
   "source": [
    "import numpy as np\n",
    "shuffle_index = np.random.permutation(70000) #洗牌\n",
    "#70000*0.7 = 49000\n",
    "X_train, X_test, y_train, y_test = X[shuffle_index[:49000]], X[shuffle_index[49000:]], y[shuffle_index[:49000]], y[shuffle_index[49000:]] "
   ]
  },
  {
   "cell_type": "code",
   "execution_count": 61,
   "metadata": {},
   "outputs": [
    {
     "name": "stdout",
     "output_type": "stream",
     "text": [
      "Counter({1.0: 5467,\n",
      "         7.0: 5094,\n",
      "         3.0: 5030,\n",
      "         9.0: 4876,\n",
      "         0.0: 4843,\n",
      "         4.0: 4833,\n",
      "         2.0: 4821,\n",
      "         8.0: 4800,\n",
      "         6.0: 4786,\n",
      "         5.0: 4450})\n"
     ]
    }
   ],
   "source": [
    "from collections import Counter\n",
    "from pprint import pprint \n",
    "count_data= Counter(y_train)\n",
    "pprint(count_data)"
   ]
  },
  {
   "cell_type": "code",
   "execution_count": 62,
   "metadata": {},
   "outputs": [
    {
     "name": "stdout",
     "output_type": "stream",
     "text": [
      "0.8326734693877551\n",
      "time:  0:00:01.038687\n"
     ]
    }
   ],
   "source": [
    "from sklearn.naive_bayes import BernoulliNB\n",
    "import datetime\n",
    "\n",
    "starttime = datetime.datetime.now()\n",
    "\n",
    "BernoulliNB_clf = BernoulliNB()\n",
    "BernoulliNB_clf.fit(X_train, y_train)\n",
    "\n",
    "BeriNB_mnist_pre = BernoulliNB_clf.predict(X_train)\n",
    "\n",
    "from sklearn import metrics\n",
    "accuracy = metrics.accuracy_score(y_train, BeriNB_mnist_pre)\n",
    "print(accuracy)\n",
    "endtime = datetime.datetime.now()\n",
    "print ('time: ',(endtime-starttime))"
   ]
  },
  {
   "cell_type": "code",
   "execution_count": 63,
   "metadata": {},
   "outputs": [
    {
     "data": {
      "text/html": [
       "<div>\n",
       "<style scoped>\n",
       "    .dataframe tbody tr th:only-of-type {\n",
       "        vertical-align: middle;\n",
       "    }\n",
       "\n",
       "    .dataframe tbody tr th {\n",
       "        vertical-align: top;\n",
       "    }\n",
       "\n",
       "    .dataframe thead th {\n",
       "        text-align: right;\n",
       "    }\n",
       "</style>\n",
       "<table border=\"1\" class=\"dataframe\">\n",
       "  <thead>\n",
       "    <tr style=\"text-align: right;\">\n",
       "      <th>predict</th>\n",
       "      <th>0.0</th>\n",
       "      <th>1.0</th>\n",
       "      <th>2.0</th>\n",
       "      <th>3.0</th>\n",
       "      <th>4.0</th>\n",
       "      <th>5.0</th>\n",
       "      <th>6.0</th>\n",
       "      <th>7.0</th>\n",
       "      <th>8.0</th>\n",
       "      <th>9.0</th>\n",
       "    </tr>\n",
       "    <tr>\n",
       "      <th>label</th>\n",
       "      <th></th>\n",
       "      <th></th>\n",
       "      <th></th>\n",
       "      <th></th>\n",
       "      <th></th>\n",
       "      <th></th>\n",
       "      <th></th>\n",
       "      <th></th>\n",
       "      <th></th>\n",
       "      <th></th>\n",
       "    </tr>\n",
       "  </thead>\n",
       "  <tbody>\n",
       "    <tr>\n",
       "      <th>0.0</th>\n",
       "      <td>4328</td>\n",
       "      <td>1</td>\n",
       "      <td>24</td>\n",
       "      <td>30</td>\n",
       "      <td>14</td>\n",
       "      <td>222</td>\n",
       "      <td>91</td>\n",
       "      <td>1</td>\n",
       "      <td>127</td>\n",
       "      <td>5</td>\n",
       "    </tr>\n",
       "    <tr>\n",
       "      <th>1.0</th>\n",
       "      <td>0</td>\n",
       "      <td>5250</td>\n",
       "      <td>48</td>\n",
       "      <td>18</td>\n",
       "      <td>5</td>\n",
       "      <td>53</td>\n",
       "      <td>17</td>\n",
       "      <td>3</td>\n",
       "      <td>64</td>\n",
       "      <td>9</td>\n",
       "    </tr>\n",
       "    <tr>\n",
       "      <th>2.0</th>\n",
       "      <td>84</td>\n",
       "      <td>61</td>\n",
       "      <td>3969</td>\n",
       "      <td>121</td>\n",
       "      <td>96</td>\n",
       "      <td>20</td>\n",
       "      <td>182</td>\n",
       "      <td>43</td>\n",
       "      <td>235</td>\n",
       "      <td>10</td>\n",
       "    </tr>\n",
       "    <tr>\n",
       "      <th>3.0</th>\n",
       "      <td>47</td>\n",
       "      <td>92</td>\n",
       "      <td>225</td>\n",
       "      <td>4033</td>\n",
       "      <td>13</td>\n",
       "      <td>114</td>\n",
       "      <td>48</td>\n",
       "      <td>71</td>\n",
       "      <td>247</td>\n",
       "      <td>140</td>\n",
       "    </tr>\n",
       "    <tr>\n",
       "      <th>4.0</th>\n",
       "      <td>10</td>\n",
       "      <td>35</td>\n",
       "      <td>33</td>\n",
       "      <td>0</td>\n",
       "      <td>3884</td>\n",
       "      <td>22</td>\n",
       "      <td>78</td>\n",
       "      <td>18</td>\n",
       "      <td>99</td>\n",
       "      <td>654</td>\n",
       "    </tr>\n",
       "    <tr>\n",
       "      <th>5.0</th>\n",
       "      <td>122</td>\n",
       "      <td>57</td>\n",
       "      <td>43</td>\n",
       "      <td>668</td>\n",
       "      <td>142</td>\n",
       "      <td>3083</td>\n",
       "      <td>108</td>\n",
       "      <td>16</td>\n",
       "      <td>83</td>\n",
       "      <td>128</td>\n",
       "    </tr>\n",
       "    <tr>\n",
       "      <th>6.0</th>\n",
       "      <td>52</td>\n",
       "      <td>133</td>\n",
       "      <td>83</td>\n",
       "      <td>3</td>\n",
       "      <td>47</td>\n",
       "      <td>143</td>\n",
       "      <td>4281</td>\n",
       "      <td>0</td>\n",
       "      <td>43</td>\n",
       "      <td>1</td>\n",
       "    </tr>\n",
       "    <tr>\n",
       "      <th>7.0</th>\n",
       "      <td>23</td>\n",
       "      <td>103</td>\n",
       "      <td>41</td>\n",
       "      <td>14</td>\n",
       "      <td>120</td>\n",
       "      <td>6</td>\n",
       "      <td>0</td>\n",
       "      <td>4308</td>\n",
       "      <td>113</td>\n",
       "      <td>366</td>\n",
       "    </tr>\n",
       "    <tr>\n",
       "      <th>8.0</th>\n",
       "      <td>65</td>\n",
       "      <td>166</td>\n",
       "      <td>84</td>\n",
       "      <td>390</td>\n",
       "      <td>60</td>\n",
       "      <td>128</td>\n",
       "      <td>30</td>\n",
       "      <td>15</td>\n",
       "      <td>3672</td>\n",
       "      <td>190</td>\n",
       "    </tr>\n",
       "    <tr>\n",
       "      <th>9.0</th>\n",
       "      <td>44</td>\n",
       "      <td>75</td>\n",
       "      <td>16</td>\n",
       "      <td>67</td>\n",
       "      <td>341</td>\n",
       "      <td>23</td>\n",
       "      <td>1</td>\n",
       "      <td>182</td>\n",
       "      <td>134</td>\n",
       "      <td>3993</td>\n",
       "    </tr>\n",
       "  </tbody>\n",
       "</table>\n",
       "</div>"
      ],
      "text/plain": [
       "predict   0.0   1.0   2.0   3.0   4.0   5.0   6.0   7.0   8.0   9.0\n",
       "label                                                              \n",
       "0.0      4328     1    24    30    14   222    91     1   127     5\n",
       "1.0         0  5250    48    18     5    53    17     3    64     9\n",
       "2.0        84    61  3969   121    96    20   182    43   235    10\n",
       "3.0        47    92   225  4033    13   114    48    71   247   140\n",
       "4.0        10    35    33     0  3884    22    78    18    99   654\n",
       "5.0       122    57    43   668   142  3083   108    16    83   128\n",
       "6.0        52   133    83     3    47   143  4281     0    43     1\n",
       "7.0        23   103    41    14   120     6     0  4308   113   366\n",
       "8.0        65   166    84   390    60   128    30    15  3672   190\n",
       "9.0        44    75    16    67   341    23     1   182   134  3993"
      ]
     },
     "execution_count": 63,
     "metadata": {},
     "output_type": "execute_result"
    }
   ],
   "source": [
    "import pandas as pd\n",
    "pd.crosstab(y_train, BeriNB_mnist_pre,rownames=['label'],colnames=['predict'])"
   ]
  },
  {
   "cell_type": "code",
   "execution_count": 64,
   "metadata": {},
   "outputs": [
    {
     "name": "stdout",
     "output_type": "stream",
     "text": [
      "[0.83680131 0.83307826 0.82969388 0.83067973 0.82882515]\n",
      "time:  0:00:02.689999\n"
     ]
    }
   ],
   "source": [
    "from sklearn.model_selection import cross_val_score\n",
    "import datetime\n",
    "starttime = datetime.datetime.now()\n",
    "\n",
    "score = cross_val_score(BernoulliNB_clf, X_train, y_train, cv=5, scoring=\"accuracy\")\n",
    "print(score)\n",
    "endtime = datetime.datetime.now()\n",
    "print ('time: ',(endtime-starttime))"
   ]
  },
  {
   "cell_type": "code",
   "execution_count": 68,
   "metadata": {},
   "outputs": [
    {
     "name": "stdout",
     "output_type": "stream",
     "text": [
      "Output After Training:\n",
      "[[0.0125443 ]\n",
      " [0.01020048]\n",
      " [0.99168925]\n",
      " [0.98977515]]\n"
     ]
    }
   ],
   "source": [
    "import numpy as np\n",
    "\n",
    "# sigmoid function\n",
    "def nonlin(x,deriv=False):\n",
    "    if(deriv==True):\n",
    "        return x*(1-x)\n",
    "    return 1/(1+np.exp(-x))\n",
    "    \n",
    "# input dataset\n",
    "X = np.array([  [0,0,1],\n",
    "                [0,1,1],\n",
    "                [1,0,1],\n",
    "                [1,1,1] ])\n",
    "    \n",
    "# output dataset            \n",
    "y = np.array([[0,0,1,1]]).T\n",
    "\n",
    "# seed random numbers to make calculation\n",
    "# deterministic (just a good practice)\n",
    "np.random.seed(1)\n",
    "\n",
    "# initialize weights randomly with mean 0\n",
    "syn0 = 2*np.random.random((3,1)) - 1\n",
    "\n",
    "for iter in range(0,6000):\n",
    "\n",
    "    # forward propagation\n",
    "    l0 = X\n",
    "    l1 = nonlin(np.dot(l0,syn0))\n",
    "\n",
    "    # how much did we miss?\n",
    "    l1_error = y - l1\n",
    "\n",
    "    # multiply how much we missed by the \n",
    "    # slope of the sigmoid at the values in l1\n",
    "    l1_delta = l1_error * nonlin(l1,True)\n",
    "\n",
    "    # update weights\n",
    "    syn0 += np.dot(l0.T,l1_delta)\n",
    "\n",
    "print (\"Output After Training:\")\n",
    "print (l1)\n",
    "#src:https://iamtrask.github.io/2015/07/12/basic-python-network/\n",
    "#因為版本的關係，要更改code,不然會出問題!\n",
    "#25行 xrange(10000) → range(0,10000)\n",
    "#41,42 行加上 ()"
   ]
  },
  {
   "cell_type": "code",
   "execution_count": null,
   "metadata": {},
   "outputs": [],
   "source": []
  },
  {
   "cell_type": "code",
   "execution_count": null,
   "metadata": {},
   "outputs": [],
   "source": []
  },
  {
   "cell_type": "code",
   "execution_count": null,
   "metadata": {},
   "outputs": [],
   "source": []
  }
 ],
 "metadata": {
  "kernelspec": {
   "display_name": "Python 3",
   "language": "python",
   "name": "python3"
  },
  "language_info": {
   "codemirror_mode": {
    "name": "ipython",
    "version": 3
   },
   "file_extension": ".py",
   "mimetype": "text/x-python",
   "name": "python",
   "nbconvert_exporter": "python",
   "pygments_lexer": "ipython3",
   "version": "3.5.5"
  }
 },
 "nbformat": 4,
 "nbformat_minor": 2
}
