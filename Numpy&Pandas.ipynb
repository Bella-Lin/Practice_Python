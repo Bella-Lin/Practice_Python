{
 "cells": [
  {
   "cell_type": "markdown",
   "metadata": {},
   "source": [
    "1. 定義數列\n",
    "2. 選取數列\n",
    "3. 運算"
   ]
  },
  {
   "cell_type": "markdown",
   "metadata": {},
   "source": [
    "# Numpy"
   ]
  },
  {
   "cell_type": "code",
   "execution_count": 2,
   "metadata": {},
   "outputs": [
    {
     "name": "stdout",
     "output_type": "stream",
     "text": [
      "<class 'numpy.ndarray'>\n",
      "1\n",
      "<memory at 0x0000014F9B38B948>\n",
      "(3,)\n",
      "------- 1D ---------\n",
      "1 2 3\n",
      "[5 2 3]\n",
      "------ 2D ----------\n",
      "(2, 3)\n",
      "1 2 4\n",
      "------ 3D ----------\n",
      "[[[ 1  2  3  4]\n",
      "  [ 5  6  7  8]]\n",
      "\n",
      " [[ 1  2  3  4]\n",
      "  [ 9 10 11 12]]]\n",
      "(2, 2, 4)\n",
      "3\n"
     ]
    }
   ],
   "source": [
    "import numpy as np\n",
    "\n",
    "a = np.array([1, 2, 3])   # Create a rank 1 array\n",
    "print(type(a))   \n",
    "print(a.ndim)\n",
    "print(a.data)             # Print out memory address\n",
    "print(a.shape)            # Prints \"(3,)\" 可看出多少維度\n",
    "print(\"------- 1D ---------\")\n",
    "print(a[0], a[1], a[2])   # Prints \"1 2 3\"\n",
    "a[0] = 5                  # Change an element of the array\n",
    "print(a)                  # Prints \"[5, 2, 3]\"\n",
    "print(\"------ 2D ----------\")\n",
    "b = np.array([[1,2,3],[4,5,6]])    # Create a rank 2 array\n",
    "print(b.shape)                     # Prints \"(2, 3)\"\n",
    "print(b[0, 0], b[0, 1], b[1, 0])   \n",
    "print(\"------ 3D ----------\")\n",
    "c = np.array([[[ 1 , 2 , 3 , 4] ,[ 5 , 6 , 7 , 8]],[[ 1,  2,  3 , 4],[ 9 ,10 ,11 ,12]]])\n",
    "print(c)\n",
    "print(c.shape) \n",
    "print(c[0,0,2])"
   ]
  },
  {
   "cell_type": "code",
   "execution_count": 10,
   "metadata": {},
   "outputs": [
    {
     "name": "stdout",
     "output_type": "stream",
     "text": [
      "array([[1, 2, 3],\n",
      "       [4, 5, 6],\n",
      "       [7, 8, 9]])\n",
      "[[2]\n",
      " [5]]\n",
      "[[7 8 9]]\n",
      "[3 6 9]\n",
      "(3, 3)\n",
      "--------------------\n",
      "2\n"
     ]
    }
   ],
   "source": [
    "from pprint import pprint\n",
    "b = np.array([[1,2,3],[4,5,6],[7,8,9]])    \n",
    "pprint(b)\n",
    "print(b[:2,1:2])\n",
    "print(b[2::])\n",
    "print(b[:,2])\n",
    "print(b.shape)\n",
    "print('--------------------')\n",
    "print(b.ndim)\n",
    "#print(help(a))"
   ]
  },
  {
   "cell_type": "code",
   "execution_count": 18,
   "metadata": {},
   "outputs": [
    {
     "name": "stdout",
     "output_type": "stream",
     "text": [
      "array([[1, 1],\n",
      "       [1, 1]])\n",
      "array([[2, 2],\n",
      "       [2, 2]])\n",
      "---------------------\n",
      "[[3 3]\n",
      " [3 3]]\n",
      "---------------------\n",
      "[[-1 -1]\n",
      " [-1 -1]]\n",
      "---------------------\n",
      "[[2 2]\n",
      " [2 2]]\n",
      "---------------------\n",
      "[[0.5 0.5]\n",
      " [0.5 0.5]]\n",
      "---------------------\n",
      "[[4 4]\n",
      " [4 4]]\n"
     ]
    }
   ],
   "source": [
    "from pprint import pprint\n",
    "a = np.array([[1,1],[1,1]])\n",
    "b = np.array([[2,2],[2,2]])\n",
    "pprint(a)\n",
    "pprint(b)\n",
    "print('---------------------')\n",
    "print(a+b)\n",
    "print('---------------------')\n",
    "print(a-b)\n",
    "print('---------------------')\n",
    "print(a*b)\n",
    "print('---------------------')\n",
    "print(a/b)\n",
    "print('---------------------')\n",
    "print(a.dot(b))"
   ]
  },
  {
   "cell_type": "markdown",
   "metadata": {},
   "source": [
    "# Pandas"
   ]
  },
  {
   "cell_type": "markdown",
   "metadata": {},
   "source": [
    "## list"
   ]
  },
  {
   "cell_type": "code",
   "execution_count": 6,
   "metadata": {},
   "outputs": [
    {
     "name": "stdout",
     "output_type": "stream",
     "text": [
      "[['Movies', 46], ['Sports', 8], ['Coding', 12], ['Fishing', 12], ['Dancing', 6], ['cooking', 8]]\n",
      "      name  numCount\n",
      "0   Movies        46\n",
      "1   Sports         8\n",
      "2   Coding        12\n",
      "3  Fishing        12\n",
      "4  Dancing         6\n",
      "5  cooking         8\n"
     ]
    }
   ],
   "source": [
    "import pandas as pd\n",
    "shop_arr = [[\"Movies\", 46],[\"Sports\", 8], [\"Coding\", 12], [\"Fishing\",12], [\"Dancing\",6], [\"cooking\",8]]\n",
    "print(shop_arr)\n",
    "df = pd.DataFrame(shop_arr, columns = [\"name\", \"numCount\"]) # 指定欄標籤名稱  \n",
    "print(df)"
   ]
  },
  {
   "cell_type": "markdown",
   "metadata": {},
   "source": [
    "## dict"
   ]
  },
  {
   "cell_type": "code",
   "execution_count": 5,
   "metadata": {},
   "outputs": [
    {
     "name": "stdout",
     "output_type": "stream",
     "text": [
      "{'groups': ['Movies', 'Sports', 'Coding', 'Fishing', 'Dancing', 'cooking'], 'num': [46, 8, 12, 12, 6, 58]}\n",
      "    groups  num\n",
      "0   Movies   46\n",
      "1   Sports    8\n",
      "2   Coding   12\n",
      "3  Fishing   12\n",
      "4  Dancing    6\n",
      "5  cooking   58\n"
     ]
    }
   ],
   "source": [
    "import pandas as pd # 引用套件並縮寫為 pd\n",
    "\n",
    "groups = [\"Movies\", \"Sports\", \"Coding\", \"Fishing\", \"Dancing\", \"cooking\"]  \n",
    "num = [46, 8, 12, 12, 6, 58]\n",
    "shopping_dict = {\"groups\": groups,  \n",
    "        \"num\": num\n",
    "       }\n",
    "print(shopping_dict)\n",
    "dict_df = pd.DataFrame(shopping_dict)\n",
    "print(dict_df)"
   ]
  },
  {
   "cell_type": "code",
   "execution_count": 12,
   "metadata": {},
   "outputs": [
    {
     "name": "stdout",
     "output_type": "stream",
     "text": [
      "印出num欄位\n",
      "0    46\n",
      "1     8\n",
      "2    12\n",
      "3    12\n",
      "4     6\n",
      "5    58\n",
      "Name: num, dtype: int64\n",
      "*********************\n",
      "印出groups欄位\n",
      "0     Movies\n",
      "1     Sports\n",
      "2     Coding\n",
      "3    Fishing\n",
      "4    Dancing\n",
      "5    cooking\n",
      "Name: groups, dtype: object\n",
      "*********************\n",
      "部分印出groups欄位\n",
      "    groups  num\n",
      "2   Coding   12\n",
      "3  Fishing   12\n",
      "*********************\n",
      "數值判斷\n",
      "0     True\n",
      "1    False\n",
      "2    False\n",
      "3    False\n",
      "4    False\n",
      "5     True\n",
      "Name: num, dtype: bool\n"
     ]
    }
   ],
   "source": [
    "print('印出num欄位')\n",
    "print(dict_df[\"num\"]) # 各組的人數 \n",
    "print('*********************')\n",
    "print('印出groups欄位')\n",
    "print(dict_df[\"groups\"]) # 各組的人數 \n",
    "print('*********************')\n",
    "print('部分印出groups欄位')\n",
    "print(dict_df.loc[2:3])\n",
    "print('*********************')\n",
    "print('數值判斷')\n",
    "print(dict_df['num']>12)"
   ]
  },
  {
   "cell_type": "markdown",
   "metadata": {},
   "source": [
    "# Preprocessing"
   ]
  },
  {
   "cell_type": "markdown",
   "metadata": {},
   "source": [
    "### 遺漏值"
   ]
  },
  {
   "cell_type": "code",
   "execution_count": 43,
   "metadata": {},
   "outputs": [
    {
     "name": "stdout",
     "output_type": "stream",
     "text": [
      "   shop id shop name  maket size\n",
      "0        1  Wal mart   3000000.0\n",
      "1        2    Costco   2000000.0\n",
      "2        3       NaN   1500000.0\n",
      "3        4    Pchome    300000.0\n",
      "4        5     Yahoo         NaN\n",
      "**********\n",
      "<class 'pandas.core.frame.DataFrame'>\n",
      "RangeIndex: 5 entries, 0 to 4\n",
      "Data columns (total 3 columns):\n",
      "shop id       5 non-null int64\n",
      "shop name     4 non-null object\n",
      "maket size    4 non-null float64\n",
      "dtypes: float64(1), int64(1), object(1)\n",
      "memory usage: 200.0+ bytes\n",
      "None\n",
      "**********\n",
      "Yahoo       1\n",
      "Pchome      1\n",
      "Costco      1\n",
      "Wal mart    1\n",
      "Name: shop name, dtype: int64\n",
      "**********\n",
      "        shop id    maket size\n",
      "count  5.000000  4.000000e+00\n",
      "mean   3.000000  1.700000e+06\n",
      "std    1.581139  1.122497e+06\n",
      "min    1.000000  3.000000e+05\n",
      "25%    2.000000  1.200000e+06\n",
      "50%    3.000000  1.750000e+06\n",
      "75%    4.000000  2.250000e+06\n",
      "max    5.000000  3.000000e+06\n"
     ]
    }
   ],
   "source": [
    "# 讀取 CSV File\n",
    "import pandas as pd # 引用套件並縮寫為 pd  \n",
    "df = pd.read_csv('data\\shop_list.csv')  \n",
    "print(df)\n",
    "print('**********')\n",
    "print(df.info())\n",
    "print('**********')\n",
    "print(df['shop name'].value_counts())\n",
    "print('**********')\n",
    "import numpy as np\n",
    "print(df.describe())"
   ]
  },
  {
   "cell_type": "code",
   "execution_count": 21,
   "metadata": {},
   "outputs": [
    {
     "name": "stdout",
     "output_type": "stream",
     "text": [
      "   shop id  shop name  maket size\n",
      "0    False      False       False\n",
      "1    False      False       False\n",
      "2    False       True       False\n",
      "3    False      False       False\n",
      "4    False      False        True\n"
     ]
    }
   ],
   "source": [
    "print(df.isnull()) # 判斷哪些店名是遺失值  "
   ]
  },
  {
   "cell_type": "code",
   "execution_count": 28,
   "metadata": {},
   "outputs": [
    {
     "name": "stdout",
     "output_type": "stream",
     "text": [
      "---依欄位填補遺失值\n",
      "   shop id shop name  maket size\n",
      "0        1  Wal mart   3000000.0\n",
      "1        2    Costco   2000000.0\n",
      "2        3         0   1500000.0\n",
      "3        4    Pchome    300000.0\n",
      "4        5     Yahoo         0.0\n"
     ]
    }
   ],
   "source": [
    "print(\"---依欄位填補遺失值\")  \n",
    "filled_value = df.fillna(0) # 有遺失值的觀測值填補 0  \n",
    "print(filled_value)  "
   ]
  },
  {
   "cell_type": "code",
   "execution_count": 25,
   "metadata": {},
   "outputs": [
    {
     "name": "stdout",
     "output_type": "stream",
     "text": [
      "---依欄位填補遺失值\n",
      "   shop id shop name  maket size\n",
      "0        1  Wal mart   3000000.0\n",
      "1        2    Costco   2000000.0\n",
      "2        3      NULL   1500000.0\n",
      "3        4    Pchome    300000.0\n",
      "4        5     Yahoo        10.0\n"
     ]
    }
   ],
   "source": [
    "print(\"---依欄位填補遺失值\")  \n",
    "filled_value_column = df.fillna({\"shop name\": \"NULL\", \"maket size\":10}) # 依欄位填補遺失值  \n",
    "print(filled_value_column)"
   ]
  },
  {
   "cell_type": "code",
   "execution_count": 26,
   "metadata": {},
   "outputs": [
    {
     "name": "stdout",
     "output_type": "stream",
     "text": [
      "---有遺失值的觀測值都刪除 \n",
      "   shop id shop name  maket size\n",
      "0        1  Wal mart   3000000.0\n",
      "1        2    Costco   2000000.0\n",
      "3        4    Pchome    300000.0\n"
     ]
    }
   ],
   "source": [
    "print(\"---有遺失值的觀測值都刪除 \")  \n",
    "drop_value = df.dropna() # 有遺失值的觀測值都刪除  \n",
    "print(drop_value)"
   ]
  },
  {
   "cell_type": "code",
   "execution_count": 36,
   "metadata": {},
   "outputs": [
    {
     "name": "stdout",
     "output_type": "stream",
     "text": [
      "   shop id shop name  maket size\n",
      "0        1  Wal mart   3000000.0\n",
      "1        2    Costco   2000000.0\n",
      "2        3         0   1500000.0\n",
      "3        4    Pchome    300000.0\n",
      "4        5     Yahoo         0.0\n"
     ]
    }
   ],
   "source": [
    "# 寫入 CSV File\n",
    "import pandas as pd \n",
    "\n",
    "print(filled_value)\n",
    "columns = ['shop id' ,'shop name' , 'maket size']\n",
    "writer_df = pd.DataFrame(filled_value, columns=columns)\n",
    "writer_df.to_csv(\"data\\RE_shop_list.csv\", index=False)"
   ]
  },
  {
   "cell_type": "code",
   "execution_count": null,
   "metadata": {},
   "outputs": [],
   "source": []
  }
 ],
 "metadata": {
  "kernelspec": {
   "display_name": "Python 3",
   "language": "python",
   "name": "python3"
  },
  "language_info": {
   "codemirror_mode": {
    "name": "ipython",
    "version": 3
   },
   "file_extension": ".py",
   "mimetype": "text/x-python",
   "name": "python",
   "nbconvert_exporter": "python",
   "pygments_lexer": "ipython3",
   "version": "3.5.5"
  }
 },
 "nbformat": 4,
 "nbformat_minor": 2
}
